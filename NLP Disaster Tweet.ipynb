{
 "cells": [
  {
   "cell_type": "code",
   "execution_count": 127,
   "id": "05536a34",
   "metadata": {
    "ExecuteTime": {
     "end_time": "2021-07-13T04:43:46.224065Z",
     "start_time": "2021-07-13T04:43:46.195206Z"
    }
   },
   "outputs": [
    {
     "name": "stdout",
     "output_type": "stream",
     "text": [
      "The nb_black extension is already loaded. To reload it, use:\n",
      "  %reload_ext nb_black\n"
     ]
    },
    {
     "data": {
      "application/javascript": [
       "\n",
       "            setTimeout(function() {\n",
       "                var nbb_cell_id = 127;\n",
       "                var nbb_unformatted_code = \"from IPython.core.debugger import set_trace\\n\\n%load_ext nb_black\\n\\nimport numpy as np\\nimport pandas as pd\\n\\nimport matplotlib.pyplot as plt\\nimport seaborn as sns\\nimport time\\n\\nimport os\\n\\n%matplotlib inline\\n\\nplt.style.use(style=\\\"tableau-colorblind10\\\")\\n\\nimport time\";\n",
       "                var nbb_formatted_code = \"from IPython.core.debugger import set_trace\\n\\n%load_ext nb_black\\n\\nimport numpy as np\\nimport pandas as pd\\n\\nimport matplotlib.pyplot as plt\\nimport seaborn as sns\\nimport time\\n\\nimport os\\n\\n%matplotlib inline\\n\\nplt.style.use(style=\\\"tableau-colorblind10\\\")\\n\\nimport time\";\n",
       "                var nbb_cells = Jupyter.notebook.get_cells();\n",
       "                for (var i = 0; i < nbb_cells.length; ++i) {\n",
       "                    if (nbb_cells[i].input_prompt_number == nbb_cell_id) {\n",
       "                        if (nbb_cells[i].get_text() == nbb_unformatted_code) {\n",
       "                             nbb_cells[i].set_text(nbb_formatted_code);\n",
       "                        }\n",
       "                        break;\n",
       "                    }\n",
       "                }\n",
       "            }, 500);\n",
       "            "
      ],
      "text/plain": [
       "<IPython.core.display.Javascript object>"
      ]
     },
     "metadata": {},
     "output_type": "display_data"
    }
   ],
   "source": [
    "from IPython.core.debugger import set_trace\n",
    "\n",
    "%load_ext nb_black\n",
    "\n",
    "import numpy as np\n",
    "import pandas as pd\n",
    "\n",
    "import matplotlib.pyplot as plt\n",
    "import seaborn as sns\n",
    "import time\n",
    "\n",
    "import os\n",
    "\n",
    "%matplotlib inline\n",
    "\n",
    "plt.style.use(style=\"tableau-colorblind10\")\n",
    "\n",
    "import time"
   ]
  },
  {
   "cell_type": "code",
   "execution_count": 128,
   "id": "12e60e6d",
   "metadata": {
    "ExecuteTime": {
     "end_time": "2021-07-13T04:43:47.595993Z",
     "start_time": "2021-07-13T04:43:47.586680Z"
    }
   },
   "outputs": [
    {
     "data": {
      "application/javascript": [
       "\n",
       "            setTimeout(function() {\n",
       "                var nbb_cell_id = 128;\n",
       "                var nbb_unformatted_code = \"pd.set_option(\\\"display.max_columns\\\", None)\";\n",
       "                var nbb_formatted_code = \"pd.set_option(\\\"display.max_columns\\\", None)\";\n",
       "                var nbb_cells = Jupyter.notebook.get_cells();\n",
       "                for (var i = 0; i < nbb_cells.length; ++i) {\n",
       "                    if (nbb_cells[i].input_prompt_number == nbb_cell_id) {\n",
       "                        if (nbb_cells[i].get_text() == nbb_unformatted_code) {\n",
       "                             nbb_cells[i].set_text(nbb_formatted_code);\n",
       "                        }\n",
       "                        break;\n",
       "                    }\n",
       "                }\n",
       "            }, 500);\n",
       "            "
      ],
      "text/plain": [
       "<IPython.core.display.Javascript object>"
      ]
     },
     "metadata": {},
     "output_type": "display_data"
    }
   ],
   "source": [
    "pd.set_option(\"display.max_columns\", None)"
   ]
  },
  {
   "cell_type": "code",
   "execution_count": 129,
   "id": "c09ae33b",
   "metadata": {
    "ExecuteTime": {
     "end_time": "2021-07-13T04:43:48.086261Z",
     "start_time": "2021-07-13T04:43:48.017085Z"
    }
   },
   "outputs": [
    {
     "data": {
      "application/javascript": [
       "\n",
       "            setTimeout(function() {\n",
       "                var nbb_cell_id = 129;\n",
       "                var nbb_unformatted_code = \"train = pd.read_csv(\\\"nlp-getting-started/train.csv\\\")\\ntest = pd.read_csv(\\\"nlp-getting-started/test.csv\\\")\";\n",
       "                var nbb_formatted_code = \"train = pd.read_csv(\\\"nlp-getting-started/train.csv\\\")\\ntest = pd.read_csv(\\\"nlp-getting-started/test.csv\\\")\";\n",
       "                var nbb_cells = Jupyter.notebook.get_cells();\n",
       "                for (var i = 0; i < nbb_cells.length; ++i) {\n",
       "                    if (nbb_cells[i].input_prompt_number == nbb_cell_id) {\n",
       "                        if (nbb_cells[i].get_text() == nbb_unformatted_code) {\n",
       "                             nbb_cells[i].set_text(nbb_formatted_code);\n",
       "                        }\n",
       "                        break;\n",
       "                    }\n",
       "                }\n",
       "            }, 500);\n",
       "            "
      ],
      "text/plain": [
       "<IPython.core.display.Javascript object>"
      ]
     },
     "metadata": {},
     "output_type": "display_data"
    }
   ],
   "source": [
    "train = pd.read_csv(\"nlp-getting-started/train.csv\")\n",
    "test = pd.read_csv(\"nlp-getting-started/test.csv\")"
   ]
  },
  {
   "cell_type": "code",
   "execution_count": 130,
   "id": "c54be1ef",
   "metadata": {
    "ExecuteTime": {
     "end_time": "2021-07-13T04:43:48.884055Z",
     "start_time": "2021-07-13T04:43:48.865039Z"
    }
   },
   "outputs": [
    {
     "data": {
      "text/html": [
       "<div>\n",
       "<style scoped>\n",
       "    .dataframe tbody tr th:only-of-type {\n",
       "        vertical-align: middle;\n",
       "    }\n",
       "\n",
       "    .dataframe tbody tr th {\n",
       "        vertical-align: top;\n",
       "    }\n",
       "\n",
       "    .dataframe thead th {\n",
       "        text-align: right;\n",
       "    }\n",
       "</style>\n",
       "<table border=\"1\" class=\"dataframe\">\n",
       "  <thead>\n",
       "    <tr style=\"text-align: right;\">\n",
       "      <th></th>\n",
       "      <th>id</th>\n",
       "      <th>keyword</th>\n",
       "      <th>location</th>\n",
       "      <th>text</th>\n",
       "      <th>target</th>\n",
       "    </tr>\n",
       "  </thead>\n",
       "  <tbody>\n",
       "    <tr>\n",
       "      <th>0</th>\n",
       "      <td>1</td>\n",
       "      <td>NaN</td>\n",
       "      <td>NaN</td>\n",
       "      <td>Our Deeds are the Reason of this #earthquake M...</td>\n",
       "      <td>1</td>\n",
       "    </tr>\n",
       "    <tr>\n",
       "      <th>1</th>\n",
       "      <td>4</td>\n",
       "      <td>NaN</td>\n",
       "      <td>NaN</td>\n",
       "      <td>Forest fire near La Ronge Sask. Canada</td>\n",
       "      <td>1</td>\n",
       "    </tr>\n",
       "    <tr>\n",
       "      <th>2</th>\n",
       "      <td>5</td>\n",
       "      <td>NaN</td>\n",
       "      <td>NaN</td>\n",
       "      <td>All residents asked to 'shelter in place' are ...</td>\n",
       "      <td>1</td>\n",
       "    </tr>\n",
       "    <tr>\n",
       "      <th>3</th>\n",
       "      <td>6</td>\n",
       "      <td>NaN</td>\n",
       "      <td>NaN</td>\n",
       "      <td>13,000 people receive #wildfires evacuation or...</td>\n",
       "      <td>1</td>\n",
       "    </tr>\n",
       "    <tr>\n",
       "      <th>4</th>\n",
       "      <td>7</td>\n",
       "      <td>NaN</td>\n",
       "      <td>NaN</td>\n",
       "      <td>Just got sent this photo from Ruby #Alaska as ...</td>\n",
       "      <td>1</td>\n",
       "    </tr>\n",
       "  </tbody>\n",
       "</table>\n",
       "</div>"
      ],
      "text/plain": [
       "   id keyword location                                               text  \\\n",
       "0   1     NaN      NaN  Our Deeds are the Reason of this #earthquake M...   \n",
       "1   4     NaN      NaN             Forest fire near La Ronge Sask. Canada   \n",
       "2   5     NaN      NaN  All residents asked to 'shelter in place' are ...   \n",
       "3   6     NaN      NaN  13,000 people receive #wildfires evacuation or...   \n",
       "4   7     NaN      NaN  Just got sent this photo from Ruby #Alaska as ...   \n",
       "\n",
       "   target  \n",
       "0       1  \n",
       "1       1  \n",
       "2       1  \n",
       "3       1  \n",
       "4       1  "
      ]
     },
     "execution_count": 130,
     "metadata": {},
     "output_type": "execute_result"
    },
    {
     "data": {
      "application/javascript": [
       "\n",
       "            setTimeout(function() {\n",
       "                var nbb_cell_id = 130;\n",
       "                var nbb_unformatted_code = \"train.head()\";\n",
       "                var nbb_formatted_code = \"train.head()\";\n",
       "                var nbb_cells = Jupyter.notebook.get_cells();\n",
       "                for (var i = 0; i < nbb_cells.length; ++i) {\n",
       "                    if (nbb_cells[i].input_prompt_number == nbb_cell_id) {\n",
       "                        if (nbb_cells[i].get_text() == nbb_unformatted_code) {\n",
       "                             nbb_cells[i].set_text(nbb_formatted_code);\n",
       "                        }\n",
       "                        break;\n",
       "                    }\n",
       "                }\n",
       "            }, 500);\n",
       "            "
      ],
      "text/plain": [
       "<IPython.core.display.Javascript object>"
      ]
     },
     "metadata": {},
     "output_type": "display_data"
    }
   ],
   "source": [
    "train.head()"
   ]
  },
  {
   "cell_type": "code",
   "execution_count": 131,
   "id": "04c8fdad",
   "metadata": {
    "ExecuteTime": {
     "end_time": "2021-07-13T04:43:50.512656Z",
     "start_time": "2021-07-13T04:43:50.497693Z"
    }
   },
   "outputs": [
    {
     "data": {
      "text/plain": [
       "3341"
      ]
     },
     "execution_count": 131,
     "metadata": {},
     "output_type": "execute_result"
    },
    {
     "data": {
      "application/javascript": [
       "\n",
       "            setTimeout(function() {\n",
       "                var nbb_cell_id = 131;\n",
       "                var nbb_unformatted_code = \"train[\\\"location\\\"].nunique()\";\n",
       "                var nbb_formatted_code = \"train[\\\"location\\\"].nunique()\";\n",
       "                var nbb_cells = Jupyter.notebook.get_cells();\n",
       "                for (var i = 0; i < nbb_cells.length; ++i) {\n",
       "                    if (nbb_cells[i].input_prompt_number == nbb_cell_id) {\n",
       "                        if (nbb_cells[i].get_text() == nbb_unformatted_code) {\n",
       "                             nbb_cells[i].set_text(nbb_formatted_code);\n",
       "                        }\n",
       "                        break;\n",
       "                    }\n",
       "                }\n",
       "            }, 500);\n",
       "            "
      ],
      "text/plain": [
       "<IPython.core.display.Javascript object>"
      ]
     },
     "metadata": {},
     "output_type": "display_data"
    }
   ],
   "source": [
    "train[\"location\"].nunique()"
   ]
  },
  {
   "cell_type": "code",
   "execution_count": null,
   "id": "5c090894",
   "metadata": {
    "ExecuteTime": {
     "end_time": "2021-07-13T02:18:22.409102Z",
     "start_time": "2021-07-13T02:18:22.390436Z"
    }
   },
   "outputs": [],
   "source": []
  },
  {
   "cell_type": "code",
   "execution_count": 132,
   "id": "034cb055",
   "metadata": {
    "ExecuteTime": {
     "end_time": "2021-07-13T04:43:52.038045Z",
     "start_time": "2021-07-13T04:43:52.017757Z"
    }
   },
   "outputs": [
    {
     "data": {
      "text/plain": [
       "id             0\n",
       "keyword       61\n",
       "location    2533\n",
       "text           0\n",
       "target         0\n",
       "dtype: int64"
      ]
     },
     "execution_count": 132,
     "metadata": {},
     "output_type": "execute_result"
    },
    {
     "data": {
      "application/javascript": [
       "\n",
       "            setTimeout(function() {\n",
       "                var nbb_cell_id = 132;\n",
       "                var nbb_unformatted_code = \"train.isnull().sum()\";\n",
       "                var nbb_formatted_code = \"train.isnull().sum()\";\n",
       "                var nbb_cells = Jupyter.notebook.get_cells();\n",
       "                for (var i = 0; i < nbb_cells.length; ++i) {\n",
       "                    if (nbb_cells[i].input_prompt_number == nbb_cell_id) {\n",
       "                        if (nbb_cells[i].get_text() == nbb_unformatted_code) {\n",
       "                             nbb_cells[i].set_text(nbb_formatted_code);\n",
       "                        }\n",
       "                        break;\n",
       "                    }\n",
       "                }\n",
       "            }, 500);\n",
       "            "
      ],
      "text/plain": [
       "<IPython.core.display.Javascript object>"
      ]
     },
     "metadata": {},
     "output_type": "display_data"
    }
   ],
   "source": [
    "train.isnull().sum()"
   ]
  },
  {
   "cell_type": "code",
   "execution_count": 133,
   "id": "e41587d4",
   "metadata": {
    "ExecuteTime": {
     "end_time": "2021-07-13T04:43:52.276011Z",
     "start_time": "2021-07-13T04:43:52.257833Z"
    }
   },
   "outputs": [
    {
     "data": {
      "text/plain": [
       "id             0\n",
       "keyword       26\n",
       "location    1105\n",
       "text           0\n",
       "dtype: int64"
      ]
     },
     "execution_count": 133,
     "metadata": {},
     "output_type": "execute_result"
    },
    {
     "data": {
      "application/javascript": [
       "\n",
       "            setTimeout(function() {\n",
       "                var nbb_cell_id = 133;\n",
       "                var nbb_unformatted_code = \"test.isnull().sum()\";\n",
       "                var nbb_formatted_code = \"test.isnull().sum()\";\n",
       "                var nbb_cells = Jupyter.notebook.get_cells();\n",
       "                for (var i = 0; i < nbb_cells.length; ++i) {\n",
       "                    if (nbb_cells[i].input_prompt_number == nbb_cell_id) {\n",
       "                        if (nbb_cells[i].get_text() == nbb_unformatted_code) {\n",
       "                             nbb_cells[i].set_text(nbb_formatted_code);\n",
       "                        }\n",
       "                        break;\n",
       "                    }\n",
       "                }\n",
       "            }, 500);\n",
       "            "
      ],
      "text/plain": [
       "<IPython.core.display.Javascript object>"
      ]
     },
     "metadata": {},
     "output_type": "display_data"
    }
   ],
   "source": [
    "test.isnull().sum()"
   ]
  },
  {
   "cell_type": "code",
   "execution_count": 134,
   "id": "d2d3e446",
   "metadata": {
    "ExecuteTime": {
     "end_time": "2021-07-13T04:43:52.546415Z",
     "start_time": "2021-07-13T04:43:52.531994Z"
    }
   },
   "outputs": [
    {
     "data": {
      "application/javascript": [
       "\n",
       "            setTimeout(function() {\n",
       "                var nbb_cell_id = 134;\n",
       "                var nbb_unformatted_code = \"train.fillna(-1, inplace=True)\\ntest.fillna(-1, inplace=True)\";\n",
       "                var nbb_formatted_code = \"train.fillna(-1, inplace=True)\\ntest.fillna(-1, inplace=True)\";\n",
       "                var nbb_cells = Jupyter.notebook.get_cells();\n",
       "                for (var i = 0; i < nbb_cells.length; ++i) {\n",
       "                    if (nbb_cells[i].input_prompt_number == nbb_cell_id) {\n",
       "                        if (nbb_cells[i].get_text() == nbb_unformatted_code) {\n",
       "                             nbb_cells[i].set_text(nbb_formatted_code);\n",
       "                        }\n",
       "                        break;\n",
       "                    }\n",
       "                }\n",
       "            }, 500);\n",
       "            "
      ],
      "text/plain": [
       "<IPython.core.display.Javascript object>"
      ]
     },
     "metadata": {},
     "output_type": "display_data"
    }
   ],
   "source": [
    "train.fillna(-1, inplace=True)\n",
    "test.fillna(-1, inplace=True)"
   ]
  },
  {
   "cell_type": "code",
   "execution_count": 135,
   "id": "d59c75d1",
   "metadata": {
    "ExecuteTime": {
     "end_time": "2021-07-13T04:43:52.784537Z",
     "start_time": "2021-07-13T04:43:52.752318Z"
    }
   },
   "outputs": [
    {
     "data": {
      "application/javascript": [
       "\n",
       "            setTimeout(function() {\n",
       "                var nbb_cell_id = 135;\n",
       "                var nbb_unformatted_code = \"Diaster = train[train[\\\"target\\\"] == 1]\\nNon_Disaster = train[train[\\\"target\\\"] == 0]\";\n",
       "                var nbb_formatted_code = \"Diaster = train[train[\\\"target\\\"] == 1]\\nNon_Disaster = train[train[\\\"target\\\"] == 0]\";\n",
       "                var nbb_cells = Jupyter.notebook.get_cells();\n",
       "                for (var i = 0; i < nbb_cells.length; ++i) {\n",
       "                    if (nbb_cells[i].input_prompt_number == nbb_cell_id) {\n",
       "                        if (nbb_cells[i].get_text() == nbb_unformatted_code) {\n",
       "                             nbb_cells[i].set_text(nbb_formatted_code);\n",
       "                        }\n",
       "                        break;\n",
       "                    }\n",
       "                }\n",
       "            }, 500);\n",
       "            "
      ],
      "text/plain": [
       "<IPython.core.display.Javascript object>"
      ]
     },
     "metadata": {},
     "output_type": "display_data"
    }
   ],
   "source": [
    "Diaster = train[train[\"target\"] == 1]\n",
    "Non_Disaster = train[train[\"target\"] == 0]"
   ]
  },
  {
   "cell_type": "code",
   "execution_count": 136,
   "id": "68dffcf5",
   "metadata": {
    "ExecuteTime": {
     "end_time": "2021-07-13T04:43:53.057888Z",
     "start_time": "2021-07-13T04:43:52.996698Z"
    }
   },
   "outputs": [
    {
     "data": {
      "application/javascript": [
       "\n",
       "            setTimeout(function() {\n",
       "                var nbb_cell_id = 136;\n",
       "                var nbb_unformatted_code = \"train[\\\"text_len\\\"] = train.text.map(lambda x: len(x))\\ntrain[\\\"word_count\\\"] = train.text.map(lambda x: len(x.split(\\\" \\\")))\";\n",
       "                var nbb_formatted_code = \"train[\\\"text_len\\\"] = train.text.map(lambda x: len(x))\\ntrain[\\\"word_count\\\"] = train.text.map(lambda x: len(x.split(\\\" \\\")))\";\n",
       "                var nbb_cells = Jupyter.notebook.get_cells();\n",
       "                for (var i = 0; i < nbb_cells.length; ++i) {\n",
       "                    if (nbb_cells[i].input_prompt_number == nbb_cell_id) {\n",
       "                        if (nbb_cells[i].get_text() == nbb_unformatted_code) {\n",
       "                             nbb_cells[i].set_text(nbb_formatted_code);\n",
       "                        }\n",
       "                        break;\n",
       "                    }\n",
       "                }\n",
       "            }, 500);\n",
       "            "
      ],
      "text/plain": [
       "<IPython.core.display.Javascript object>"
      ]
     },
     "metadata": {},
     "output_type": "display_data"
    }
   ],
   "source": [
    "train[\"text_len\"] = train.text.map(lambda x: len(x))\n",
    "train[\"word_count\"] = train.text.map(lambda x: len(x.split(\" \")))"
   ]
  },
  {
   "cell_type": "code",
   "execution_count": 137,
   "id": "68d727ac",
   "metadata": {
    "ExecuteTime": {
     "end_time": "2021-07-13T04:43:53.260995Z",
     "start_time": "2021-07-13T04:43:53.234594Z"
    }
   },
   "outputs": [
    {
     "data": {
      "text/html": [
       "<div>\n",
       "<style scoped>\n",
       "    .dataframe tbody tr th:only-of-type {\n",
       "        vertical-align: middle;\n",
       "    }\n",
       "\n",
       "    .dataframe tbody tr th {\n",
       "        vertical-align: top;\n",
       "    }\n",
       "\n",
       "    .dataframe thead th {\n",
       "        text-align: right;\n",
       "    }\n",
       "</style>\n",
       "<table border=\"1\" class=\"dataframe\">\n",
       "  <thead>\n",
       "    <tr style=\"text-align: right;\">\n",
       "      <th></th>\n",
       "      <th>id</th>\n",
       "      <th>keyword</th>\n",
       "      <th>location</th>\n",
       "      <th>text</th>\n",
       "      <th>target</th>\n",
       "      <th>text_len</th>\n",
       "      <th>word_count</th>\n",
       "    </tr>\n",
       "  </thead>\n",
       "  <tbody>\n",
       "    <tr>\n",
       "      <th>0</th>\n",
       "      <td>1</td>\n",
       "      <td>-1</td>\n",
       "      <td>-1</td>\n",
       "      <td>Our Deeds are the Reason of this #earthquake M...</td>\n",
       "      <td>1</td>\n",
       "      <td>69</td>\n",
       "      <td>13</td>\n",
       "    </tr>\n",
       "    <tr>\n",
       "      <th>1</th>\n",
       "      <td>4</td>\n",
       "      <td>-1</td>\n",
       "      <td>-1</td>\n",
       "      <td>Forest fire near La Ronge Sask. Canada</td>\n",
       "      <td>1</td>\n",
       "      <td>38</td>\n",
       "      <td>7</td>\n",
       "    </tr>\n",
       "    <tr>\n",
       "      <th>2</th>\n",
       "      <td>5</td>\n",
       "      <td>-1</td>\n",
       "      <td>-1</td>\n",
       "      <td>All residents asked to 'shelter in place' are ...</td>\n",
       "      <td>1</td>\n",
       "      <td>133</td>\n",
       "      <td>22</td>\n",
       "    </tr>\n",
       "    <tr>\n",
       "      <th>3</th>\n",
       "      <td>6</td>\n",
       "      <td>-1</td>\n",
       "      <td>-1</td>\n",
       "      <td>13,000 people receive #wildfires evacuation or...</td>\n",
       "      <td>1</td>\n",
       "      <td>65</td>\n",
       "      <td>9</td>\n",
       "    </tr>\n",
       "    <tr>\n",
       "      <th>4</th>\n",
       "      <td>7</td>\n",
       "      <td>-1</td>\n",
       "      <td>-1</td>\n",
       "      <td>Just got sent this photo from Ruby #Alaska as ...</td>\n",
       "      <td>1</td>\n",
       "      <td>88</td>\n",
       "      <td>17</td>\n",
       "    </tr>\n",
       "  </tbody>\n",
       "</table>\n",
       "</div>"
      ],
      "text/plain": [
       "   id keyword location                                               text  \\\n",
       "0   1      -1       -1  Our Deeds are the Reason of this #earthquake M...   \n",
       "1   4      -1       -1             Forest fire near La Ronge Sask. Canada   \n",
       "2   5      -1       -1  All residents asked to 'shelter in place' are ...   \n",
       "3   6      -1       -1  13,000 people receive #wildfires evacuation or...   \n",
       "4   7      -1       -1  Just got sent this photo from Ruby #Alaska as ...   \n",
       "\n",
       "   target  text_len  word_count  \n",
       "0       1        69          13  \n",
       "1       1        38           7  \n",
       "2       1       133          22  \n",
       "3       1        65           9  \n",
       "4       1        88          17  "
      ]
     },
     "execution_count": 137,
     "metadata": {},
     "output_type": "execute_result"
    },
    {
     "data": {
      "application/javascript": [
       "\n",
       "            setTimeout(function() {\n",
       "                var nbb_cell_id = 137;\n",
       "                var nbb_unformatted_code = \"train.head()\";\n",
       "                var nbb_formatted_code = \"train.head()\";\n",
       "                var nbb_cells = Jupyter.notebook.get_cells();\n",
       "                for (var i = 0; i < nbb_cells.length; ++i) {\n",
       "                    if (nbb_cells[i].input_prompt_number == nbb_cell_id) {\n",
       "                        if (nbb_cells[i].get_text() == nbb_unformatted_code) {\n",
       "                             nbb_cells[i].set_text(nbb_formatted_code);\n",
       "                        }\n",
       "                        break;\n",
       "                    }\n",
       "                }\n",
       "            }, 500);\n",
       "            "
      ],
      "text/plain": [
       "<IPython.core.display.Javascript object>"
      ]
     },
     "metadata": {},
     "output_type": "display_data"
    }
   ],
   "source": [
    "train.head()"
   ]
  },
  {
   "cell_type": "code",
   "execution_count": 138,
   "id": "c2198adf",
   "metadata": {
    "ExecuteTime": {
     "end_time": "2021-07-13T04:43:53.493094Z",
     "start_time": "2021-07-13T04:43:53.457818Z"
    }
   },
   "outputs": [
    {
     "data": {
      "application/javascript": [
       "\n",
       "            setTimeout(function() {\n",
       "                var nbb_cell_id = 138;\n",
       "                var nbb_unformatted_code = \"import re\\n\\nf = re.compile(\\\"#\\\\S+\\\")\\n# train[\\\"hash_tags\\\"] = [f.findall(i) for i in train[\\\"text\\\"]]\\ntrain[\\\"hash_tags\\\"] = train.text.map(lambda x: f.findall(x))\";\n",
       "                var nbb_formatted_code = \"import re\\n\\nf = re.compile(\\\"#\\\\S+\\\")\\n# train[\\\"hash_tags\\\"] = [f.findall(i) for i in train[\\\"text\\\"]]\\ntrain[\\\"hash_tags\\\"] = train.text.map(lambda x: f.findall(x))\";\n",
       "                var nbb_cells = Jupyter.notebook.get_cells();\n",
       "                for (var i = 0; i < nbb_cells.length; ++i) {\n",
       "                    if (nbb_cells[i].input_prompt_number == nbb_cell_id) {\n",
       "                        if (nbb_cells[i].get_text() == nbb_unformatted_code) {\n",
       "                             nbb_cells[i].set_text(nbb_formatted_code);\n",
       "                        }\n",
       "                        break;\n",
       "                    }\n",
       "                }\n",
       "            }, 500);\n",
       "            "
      ],
      "text/plain": [
       "<IPython.core.display.Javascript object>"
      ]
     },
     "metadata": {},
     "output_type": "display_data"
    }
   ],
   "source": [
    "import re\n",
    "\n",
    "f = re.compile(\"#\\S+\")\n",
    "# train[\"hash_tags\"] = [f.findall(i) for i in train[\"text\"]]\n",
    "train[\"hash_tags\"] = train.text.map(lambda x: f.findall(x))"
   ]
  },
  {
   "cell_type": "code",
   "execution_count": 139,
   "id": "6d842da0",
   "metadata": {
    "ExecuteTime": {
     "end_time": "2021-07-13T04:43:53.753134Z",
     "start_time": "2021-07-13T04:43:53.731313Z"
    }
   },
   "outputs": [
    {
     "data": {
      "text/plain": [
       "-1            26\n",
       "deluged       23\n",
       "demolished    22\n",
       "rubble        22\n",
       "sirens        21\n",
       "Name: keyword, dtype: int64"
      ]
     },
     "execution_count": 139,
     "metadata": {},
     "output_type": "execute_result"
    },
    {
     "data": {
      "application/javascript": [
       "\n",
       "            setTimeout(function() {\n",
       "                var nbb_cell_id = 139;\n",
       "                var nbb_unformatted_code = \"test[\\\"keyword\\\"].value_counts()[:5]\";\n",
       "                var nbb_formatted_code = \"test[\\\"keyword\\\"].value_counts()[:5]\";\n",
       "                var nbb_cells = Jupyter.notebook.get_cells();\n",
       "                for (var i = 0; i < nbb_cells.length; ++i) {\n",
       "                    if (nbb_cells[i].input_prompt_number == nbb_cell_id) {\n",
       "                        if (nbb_cells[i].get_text() == nbb_unformatted_code) {\n",
       "                             nbb_cells[i].set_text(nbb_formatted_code);\n",
       "                        }\n",
       "                        break;\n",
       "                    }\n",
       "                }\n",
       "            }, 500);\n",
       "            "
      ],
      "text/plain": [
       "<IPython.core.display.Javascript object>"
      ]
     },
     "metadata": {},
     "output_type": "display_data"
    }
   ],
   "source": [
    "test[\"keyword\"].value_counts()[:5]"
   ]
  },
  {
   "cell_type": "code",
   "execution_count": 140,
   "id": "cbecca88",
   "metadata": {
    "ExecuteTime": {
     "end_time": "2021-07-13T04:43:54.290735Z",
     "start_time": "2021-07-13T04:43:54.274012Z"
    }
   },
   "outputs": [
    {
     "data": {
      "text/plain": [
       "0    4342\n",
       "1    3271\n",
       "Name: target, dtype: int64"
      ]
     },
     "execution_count": 140,
     "metadata": {},
     "output_type": "execute_result"
    },
    {
     "data": {
      "application/javascript": [
       "\n",
       "            setTimeout(function() {\n",
       "                var nbb_cell_id = 140;\n",
       "                var nbb_unformatted_code = \"train[\\\"target\\\"].value_counts()\";\n",
       "                var nbb_formatted_code = \"train[\\\"target\\\"].value_counts()\";\n",
       "                var nbb_cells = Jupyter.notebook.get_cells();\n",
       "                for (var i = 0; i < nbb_cells.length; ++i) {\n",
       "                    if (nbb_cells[i].input_prompt_number == nbb_cell_id) {\n",
       "                        if (nbb_cells[i].get_text() == nbb_unformatted_code) {\n",
       "                             nbb_cells[i].set_text(nbb_formatted_code);\n",
       "                        }\n",
       "                        break;\n",
       "                    }\n",
       "                }\n",
       "            }, 500);\n",
       "            "
      ],
      "text/plain": [
       "<IPython.core.display.Javascript object>"
      ]
     },
     "metadata": {},
     "output_type": "display_data"
    }
   ],
   "source": [
    "train[\"target\"].value_counts()"
   ]
  },
  {
   "cell_type": "code",
   "execution_count": 141,
   "id": "70a0aafb",
   "metadata": {
    "ExecuteTime": {
     "end_time": "2021-07-13T04:43:54.799153Z",
     "start_time": "2021-07-13T04:43:54.770244Z"
    }
   },
   "outputs": [
    {
     "data": {
      "text/html": [
       "<div>\n",
       "<style scoped>\n",
       "    .dataframe tbody tr th:only-of-type {\n",
       "        vertical-align: middle;\n",
       "    }\n",
       "\n",
       "    .dataframe tbody tr th {\n",
       "        vertical-align: top;\n",
       "    }\n",
       "\n",
       "    .dataframe thead th {\n",
       "        text-align: right;\n",
       "    }\n",
       "</style>\n",
       "<table border=\"1\" class=\"dataframe\">\n",
       "  <thead>\n",
       "    <tr style=\"text-align: right;\">\n",
       "      <th></th>\n",
       "      <th>id</th>\n",
       "      <th>keyword</th>\n",
       "      <th>location</th>\n",
       "      <th>text</th>\n",
       "      <th>target</th>\n",
       "      <th>text_len</th>\n",
       "      <th>word_count</th>\n",
       "      <th>hash_tags</th>\n",
       "    </tr>\n",
       "  </thead>\n",
       "  <tbody>\n",
       "    <tr>\n",
       "      <th>0</th>\n",
       "      <td>1</td>\n",
       "      <td>-1</td>\n",
       "      <td>-1</td>\n",
       "      <td>Our Deeds are the Reason of this #earthquake M...</td>\n",
       "      <td>1</td>\n",
       "      <td>69</td>\n",
       "      <td>13</td>\n",
       "      <td>[#earthquake]</td>\n",
       "    </tr>\n",
       "    <tr>\n",
       "      <th>1</th>\n",
       "      <td>4</td>\n",
       "      <td>-1</td>\n",
       "      <td>-1</td>\n",
       "      <td>Forest fire near La Ronge Sask. Canada</td>\n",
       "      <td>1</td>\n",
       "      <td>38</td>\n",
       "      <td>7</td>\n",
       "      <td>[]</td>\n",
       "    </tr>\n",
       "    <tr>\n",
       "      <th>2</th>\n",
       "      <td>5</td>\n",
       "      <td>-1</td>\n",
       "      <td>-1</td>\n",
       "      <td>All residents asked to 'shelter in place' are ...</td>\n",
       "      <td>1</td>\n",
       "      <td>133</td>\n",
       "      <td>22</td>\n",
       "      <td>[]</td>\n",
       "    </tr>\n",
       "    <tr>\n",
       "      <th>3</th>\n",
       "      <td>6</td>\n",
       "      <td>-1</td>\n",
       "      <td>-1</td>\n",
       "      <td>13,000 people receive #wildfires evacuation or...</td>\n",
       "      <td>1</td>\n",
       "      <td>65</td>\n",
       "      <td>9</td>\n",
       "      <td>[#wildfires]</td>\n",
       "    </tr>\n",
       "    <tr>\n",
       "      <th>4</th>\n",
       "      <td>7</td>\n",
       "      <td>-1</td>\n",
       "      <td>-1</td>\n",
       "      <td>Just got sent this photo from Ruby #Alaska as ...</td>\n",
       "      <td>1</td>\n",
       "      <td>88</td>\n",
       "      <td>17</td>\n",
       "      <td>[#Alaska, #wildfires]</td>\n",
       "    </tr>\n",
       "  </tbody>\n",
       "</table>\n",
       "</div>"
      ],
      "text/plain": [
       "   id keyword location                                               text  \\\n",
       "0   1      -1       -1  Our Deeds are the Reason of this #earthquake M...   \n",
       "1   4      -1       -1             Forest fire near La Ronge Sask. Canada   \n",
       "2   5      -1       -1  All residents asked to 'shelter in place' are ...   \n",
       "3   6      -1       -1  13,000 people receive #wildfires evacuation or...   \n",
       "4   7      -1       -1  Just got sent this photo from Ruby #Alaska as ...   \n",
       "\n",
       "   target  text_len  word_count              hash_tags  \n",
       "0       1        69          13          [#earthquake]  \n",
       "1       1        38           7                     []  \n",
       "2       1       133          22                     []  \n",
       "3       1        65           9           [#wildfires]  \n",
       "4       1        88          17  [#Alaska, #wildfires]  "
      ]
     },
     "execution_count": 141,
     "metadata": {},
     "output_type": "execute_result"
    },
    {
     "data": {
      "application/javascript": [
       "\n",
       "            setTimeout(function() {\n",
       "                var nbb_cell_id = 141;\n",
       "                var nbb_unformatted_code = \"train.head()\";\n",
       "                var nbb_formatted_code = \"train.head()\";\n",
       "                var nbb_cells = Jupyter.notebook.get_cells();\n",
       "                for (var i = 0; i < nbb_cells.length; ++i) {\n",
       "                    if (nbb_cells[i].input_prompt_number == nbb_cell_id) {\n",
       "                        if (nbb_cells[i].get_text() == nbb_unformatted_code) {\n",
       "                             nbb_cells[i].set_text(nbb_formatted_code);\n",
       "                        }\n",
       "                        break;\n",
       "                    }\n",
       "                }\n",
       "            }, 500);\n",
       "            "
      ],
      "text/plain": [
       "<IPython.core.display.Javascript object>"
      ]
     },
     "metadata": {},
     "output_type": "display_data"
    }
   ],
   "source": [
    "train.head()"
   ]
  },
  {
   "cell_type": "code",
   "execution_count": 142,
   "id": "d5e9ed6a",
   "metadata": {
    "ExecuteTime": {
     "end_time": "2021-07-13T04:43:55.945066Z",
     "start_time": "2021-07-13T04:43:55.922164Z"
    }
   },
   "outputs": [
    {
     "name": "stdout",
     "output_type": "stream",
     "text": [
      "Counter({'#News': 37, '#news': 36, '#hot': 30, '#prebreak': 30, '#best': 30, '#???': 23, '#??': 20, '#Hiroshima': 20, '#GBBO': 17, '#terrorism': 11, '#ISIS': 11, '#NowPlaying': 10, '#nowplaying': 10, '#Japan': 10, '#India': 10, '#Sismo': 10, '#islam': 10, '#RT': 9, '#Directioners': 9, '#jobs': 9, '#CNN': 9, '#yyc': 9, '#BBC': 9, '#earthquake': 8, '#EDM': 8, '#DnB': 8, '#Beyhive': 8, '#world': 8, '#abstorm': 8, '#Nursing': 8, '#Islam': 8, '#Dubstep': 7, '#TrapMusic': 7, '#Dance': 7, '#Ices\\x89Û_': 7, '#MTVHottest': 7, '#IranDeal': 7, '#Earthquake': 7, '#WX': 7, '#animalrescue': 7, '#Truth': 7, '#god': 7, '#Quran': 7, '#Lies': 7, '#disaster': 6, '#US': 6, '#Handbag': 6, '#Womens': 6, '#\\x89Û_': 6, '#course': 6, '#Rohingya': 6, '#drought': 6, '#ProphetMuhammad': 6, '#okwx': 6, '#Africa': 6, '#Antioch': 6, '#Fukushima': 6, '#Bestnaijamade:': 6, '#wildfires': 5, '#LGBT': 5, '#USA': 5, '#wildfire': 5, '#preparedness': 5, '#job': 5, '#Seattle': 5, '#Emmerdale': 5, '#tcot': 5, '#Fashion': 5, '#Phoenix': 5, '#1': 5, '#Myanmar': 5, '#Sittwe': 5, '#StrategicPatience': 5, '#Genocide;': 5, '#Libya': 5, '#Jobs': 5, '#Job': 5, '#science': 5, '#Allah': 5, '#socialnews': 5, '#art': 5, '#hailstorm': 5, '#Afterlife': 5, '#islam!': 5, '#PantherAttack': 5, '#nuclear': 5, '#Somalia': 5, '#photography': 5, '#KerrickTrial': 5, '#RockyFire': 4, '#California': 4, '#KCA': 4, '#VoteJKT48ID': 4, '#Mets': 4, '#PBBan': 4, '#TBT': 4, '#kindle': 4, '#fashion': 4, '#BlueJays': 4, '#tech': 4, '#Chemical': 4, '#Dependency': 4, '#business': 4, '#technology': 4, '#UK': 4, '#FETTILOOTCH': 4, '#SLANGLUCCI': 4, '#emmerdale': 4, '#Zionist': 4, '#Terrorist': 4, '#tubestrike': 4, '#SoundCloud': 4, '#np': 4, '#SummerFate': 4, '#iPhone': 4, '#EarthQuake': 4, '#USGS': 4, '#Hiring': 4, '#hiring!': 4, '#WorldNews': 4, '#OTRAMETLIFE': 4, '#Hellfire': 4, '#7': 4, '#RAmag.': 4, '#Models': 4, '#Mayhem': 4, '#Nuclear': 4, '#refugees': 4, '#360WiseNews': 4, '#JapÌ_n': 4, '#IDFire': 4, '#flood': 3, '#flooding': 3, '#nsfw': 3, '#Manchester': 3, '#Accident': 3, '#MLB': 3, '#til_now': 3, '#gilbert23': 3, '#ARMAGEDDON': 3, '#UltimaLucha': 3, '#Israel': 3, '#NewsInTweets': 3, '#NewYork': 3, '#frontpage:': 3, '#Bioterror': 3, '#RickPerry': 3, '#GOPDebate': 3, '#bioterrorism': 3, '#breaking': 3, '#BB17': 3, '#arts': 3, '#hiring': 3, '#Business': 3, '#HarryBeCareful': 3, '#cool': 3, '#WorstSummerJob': 3, '#rockin': 3, '#ArtistsUnited': 3, '#weather': 3, '#CecilTheLion': 3, '#????': 3, '#MH370.': 3, '#MH370': 3, '#Buffalo': 3, '#WMATA': 3, '#Metro': 3, '#wmata': 3, '#ModiMinistry': 3, '#Military': 3, '#Philippines': 3, '#Prison': 3, '#genocide': 3, '#GamerGate': 3, '#SM': 3, '#China': 3, '#fire': 3, '#veterans': 3, '#Miami': 3, '#Atlanta': 3, '#Casper': 3, '#Wildfire': 3, '#photo': 3, '#sex': 3, '#9': 3, '#Saudi': 3, '#shoes': 3, '#FARRAKHAN': 3, '#QUOTE': 3, '#Pakistan': 3, '#arwx': 3, '#yycstorm': 3, '#foodscare': 3, '#offers2go': 3, '#NestleIndia': 3, '#Magginoodle': 3, '#ban': 3, '#humanconsumption': 3, '#wealth': 3, '#forever': 3, '#Reflect': 3, '#Iran': 3, '#hostages': 3, '#AP': 3, '#TS': 3, '#NRI': 3, '#TRS': 3, '#TDP': 3, '#BJP': 3, '#hurricane': 3, '#guillermo': 3, '#World': 3, '#landslide': 3, '#FaroeIslands': 3, '#military': 3, '#mudslide': 3, '#onlinecommunities': 3, '#reddit': 3, '#RIOT': 3, '#BlowMandyUp': 3, '#Gabon': 3, '#oil': 3, '#???????': 3, '#AoMS': 3, '#ibooklove': 3, '#bookboost': 3, '#thunder': 3, '#usNWSgov': 3, '#thankU': 3, '#Alaska': 2, '#Florida': 2, '#BREAKING': 2, '#mufc': 2, '#NowPlaying:': 2, '#traffic': 2, '#BREAKING:': 2, '#RIP': 2, '#yugvani': 2, '#ems': 2, '#reuters': 2, '#worldnews': 2, '#DoubleCups': 2, '#Love': 2, '#TrueLove': 2, '#romance': 2, '#Voodoo': 2, '#seduction': 2, '#Astrology': 2, '#RTRRT': 2, '#LOTZ': 2, '#apocalypse': 2, '#Armageddon': 2, '#5SOSFAM': 2, '#VideoVeranoMTV': 2, '#Kisii': 2, '#CountyNews': 2, '#Udhampur': 2, '#Mumbai': 2, '#Colorado': 2, '#Avalanche': 2, '#NHL': 2, '#Video': 2, '#listen': 2, '#radio': 2, '#TCOT': 2, '#phone': 2, '#BreakingNews': 2, '#Ebola': 2, '#socialmedia': 2, '#listenlive': 2, '#Palestinian': 2, '#handbag': 2, '#style': 2, '#Turkish': 2, '#entrepreneur': 2, '#Australia': 2, '#oped': 2, '#Ashes': 2, '#ENGvAUS': 2, '#gadgets': 2, '#BlackLivesMatter': 2, '#infosec': 2, '#NYC': 2, '#TweetLikeItsSeptember11th2001': 2, '#LoseIt': 2, '#myfitnesspal': 2, '#atk': 2, '#Zionism': 2, '#StandwithPP': 2, '#Denver': 2, '#France': 2, '#Russia': 2, '#Insurance': 2, '#IMDb': 2, '#savebees': 2, '#6': 2, '#Radio': 2, '#TalkRadio': 2, '#love': 2, '#Vancouver': 2, '#Newswatch:': 2, '#Ptbo.': 2, '#simple': 2, '#Tech': 2, '#innovation': 2, '#Listen': 2, '#nikeplus:': 2, '#HannaPH\\x89Û\\x9d': 2, '#Vanuatu': 2, '#Bangladesh': 2, '#fitness': 2, '#Royals': 2, '#cawx': 2, '#AFC': 2, '#AskCharley': 2, '#follow': 2, '#health': 2, '#Blackpool.': 2, '#BeClearOnCancer': 2, '#fun': 2, '#Malaysia': 2, '#floods': 2, '#Palestine': 2, '#Demolition': 2, '#mumbai...': 2, '#AllLivesMatter': 2, '#Modi': 2, '#IdentityTheft': 2, '#IndianNews': 2, '#comingsoon': 2, '#Kindle': 2, '#Destroy': 2, '#Free': 2, '#thisiswhywecanthavenicethings': 2, '#Russian': 2, '#bancodeseries': 2, '#LosDelSonido)': 2, '#IvanBerroa)': 2, '#Worldnews': 2, '#CNBC': 2, '#mÌ¼sica': 2, '#Syria': 2, '#NV': 2, '#rain': 2, '#scwx': 2, '#gawx': 2, '#CS': 2, '#Anchorage': 2, '#quake': 2, '#pakistan#news#': 2, '#international': 2, '#ProtectDenaliWolves': 2, '#emergency': 2, '#Emergency': 2, '#Solar': 2, '#MissionHills': 2, '#Healthcare': 2, '#Kodiak': 2, '#CA': 2, '#FIFA16': 2, '#TubeStrike': 2, '#LiveOnK2': 2, '#KOIN6News': 2, '#puppy': 2, '#LIFE': 2, '#Hiroshima70': 2, '#SigAlert:': 2, '#NJTurnpike': 2, '#EMS': 2, '#LuchaUnderground': 2, '#Nagasaki': 2, '#priceless': 2, '#RouteComplex': 2, '#forest': 2, '#Indonesia': 2, '#KOTAWeather': 2, '#alberta': 2, '#calgary': 2, '#jamaicaplain': 2, '#boston': 2, '#Taiwan': 2, '#pdx911': 2, '#greatbritishbakeoff': 2, '#auspol': 2, '#Sinjar': 2, '#Yazidis': 2, '#Yazidi': 2, '#MeteoEarth?': 2, '#renew911health': 2, '#GOP': 2, '#Cowboys:': 2, '#sinkhole': 2, '#pics': 2, '#DebateQuestionsWeWantToHear': 2, '#gunsense': 2, '#Obama': 2, '#ABC': 2, '#4PlayThursdays.': 2, '#NoSurrender': 2, '#blessed': 2, '#Amazon': 2, '#ushanka': 2, '#winter': 2, '#environment': 2, '#BakeOffFriends': 2, '#Chernobyl': 2, '#FUKUSHIMA?#TEPCO?': 2, '#guardian': 2, '#NYTimes': 2, '#breakingnews': 2, '#JonVoyage': 2, '#MicheleBachman': 2, '#GlobalWarming!!': 2, '#startup': 2, '#video': 2, '#amageddon': 2, '#freespeech': 2, '#radiation': 2, '#sandiego': 2, '#ZippedNews': 2, '#Dutton': 2, '#c4news': 2, '#Baltimore': 2, '#Rioting': 2, '#YAHIstorical': 2, '#UndergroundRailraod': 2, '#quote': 2, '#funny': 2, '#YoNews': 2, '#SanDiego': 2, '#SouthDowns': 2, '#Hampshire': 2, '#tree': 2, '#treeporn': 2, '#mercados': 2, '#premonitions': 2, '#trading': 2, '#forex': 2, '#books': 2, '#Autoinsurance': 2, '#MetroFmTalk': 2, '#Palestinians': 2, '#Thunderstorm': 2, '#AR': 2, '#NC': 2, '#OK.': 2, '#Chile': 2, '#traumatised': 2, '#sing': 2, '#tsunami': 2, '#computer': 2, '#TheGame': 2, '#stormchase': 2, '#Amsterdam': 2, '#Volcano': 2, '#denver': 2, '#billings': 2, '#rapidcity': 2, '#seattle': 2, '#cheyenne': 2, '#Trump': 2, '#Sale': 2, '#JonathanFerrell': 2, '#Kashmir': 2, '#CAfire': 1, '#raining': 1, '#TampaBay': 1, '#Tampa': 1, '#Flood': 1, '#We': 1, '#metal': 1, '#AFRICANBAZE:': 1, '#Bridgetown': 1, '#Kurds': 1, '#Diyala': 1, '#climate': 1, '#energy': 1, '#NashvilleTraffic.': 1, '#SantaClara': 1, '#BayArea': 1, '#Traffic': 1, '#personalinjury': 1, '#solicitor': 1, '#OtleyHour': 1, '#stlouis': 1, '#caraccidentlawyer': 1, '#TruckCrash': 1, '#FortWorth': 1, '#Ashville': 1, '#Hagerstown': 1, '#WHAG': 1, '#Bahrain': 1, '#ArrestPastorNganga': 1, '#GrowingUpSpoiled': 1, '#WisdomWed': 1, '#lifehacks': 1, '#silverwood': 1, '#aftershock': 1, '##book': 1, '#now': 1, '#wdyouth': 1, '#biblestudy': 1, '#Horrible': 1, '#WatchTheVideo': 1, '#BINLADEN': 1, '#man': 1, '#airport': 1, '#airplane': 1, '#aircraft': 1, '#aeroplane': 1, '#runway': 1, '#accident': 1, '#freaky\\x89Û_': 1, '#Crash': 1, '#Aircraft': 1, '#Airplane': 1, '#Pilot': 1, '#Death': 1, '#CarFest': 1, '#OMG!': 1, '#AirPlane': 1, '#JetEngine': 1, '#TurboJet': 1, '#Boing': 1, '#G90': 1, '#RODKiai': 1, '#EMSNe\\x89Û_': 1, '#justsaying': 1, '#randomthought': 1, '#DNA': 1, '#paramedics': 1, '#ambulance': 1, '#worldNews': 1, '#FantasticFour/#Fant4stic/whatever': 1, '#LGM': 1, '#AZ:': 1, '#WildHorses': 1, '#TantoNationalForest!': 1, '#SaltRiverWildHorses': 1, '#sciencefiction': 1, '#internetradio': 1, '#collegeradi\\x89Û_': 1, '#warmbodies': 1, '#etcPB': 1, '#Storm': 1, '#Apocalypse': 1, '#1008pla\\x89Û_': 1, '#eonlinechat': 1, '#1008planet\\x89Û_': 1, '#startrek': 1, '#tos': 1, '#Entertainment': 1, '#BruceWillis': 1, '#DVD': 1, '#eBay': 1, '#Auction': 1, '#PREPPERS': 1, '#DOOMSDAY': 1, '#shtf': 1, '#preppertalk': 1, '#survival': 1, '#2A': 1, '#prepper': 1, '#armageddon?': 1, '#Christians': 1, '#CUFI):': 1, '#preseasonworkouts': 1, '#InterestRateRise\\x89Û\\x9d': 1, '#brics': 1, '#roberts': 1, '#russia': 1, '#TheReal': 1, '#Queens': 1, '#FanArmyFaceOff': 1, '#IndiaKoMunTorJawabDo': 1, '#MTVSummerStar': 1, '#Lesbian': 1, '#NOWPLAYING': 1, '#cbcto': 1, '#Vegetarian': 1, '#Vegan': 1, '#GoVegan': 1, '#UniteBlue': 1, '#Arsonist': 1, '#headlines:': 1, '#Nightbeat': 1, '#2MinuteMix': 1, '#Spotlight': 1, '#WNIAGospel': 1, '#7NewsAdl': 1, '#SanFrancisco': 1, '#nativehuman': 1, '#myreligion': 1, '#tbt': 1, '#AllTheNews': 1, '#palestine': 1, '#volleyball': 1, '#ableg': 1, '#cdnpoli': 1, '#nwo': 1, '#pugprobs': 1, '#PT:': 1, '#robotcoingame': 1, '#Bitcoin': 1, '#FreeBitcoin': 1, '#WeLoveLA': 1, '#NHLDucks': 1, '#SportsRoadhouse': 1, '#Hockey': 1, '#171': 1, '#weddinghour': 1, '#ColoradoAvalanche': 1, '#entretenimento': 1, '#124)': 1, '#BTS': 1, '#Avalanche:': 1, '#nowplay': 1, '#Tb': 1, '#throwback': 1, '#SFGiants': 1, '#DU19': 1, '#Warcraft': 1, '#LonePine': 1, '#Gallipoli': 1, '#WW1': 1, '#apple': 1, '#mobile': 1, '#orchardalley': 1, '#LES': 1, '#nyc': 1, '#gardens': 1, '#trucking': 1, '#FedEx': 1, '#anthrax': 1, '#virus': 1, '#infectiousdiseases': 1, '#dvd': 1, '#Pathogen': 1, '#Bioterrorism': 1, '#Infectious': 1, '#digitalhealth': 1, '#hcsm': 1, '#glanders': 1, '#raisinfingers': 1, '#Family': 1, '#Cleveland': 1, '#StandUp': 1, '#thisispublichealth': 1, '#ArtisteOfTheWeekFact': 1, '#Conversations': 1, '#coast2coastdjs': 1, '#Jiwonle': 1, '#HipHop': 1, '#ClubBanger': 1, '#Weddings': 1, '#stoponesounds': 1, '#airwaves': 1, '#Hinatobot': 1, '#escorts': 1, '#gfe': 1, '#DUBAI': 1, '#arizona': 1, '#realestate': 1, '#oomf': 1, '#2fast2furious': 1, '#SUN': 1, '#Earth': 1, '#CatfishMTV': 1, '#WBC2015': 1, '#Catfish': 1, '#HarperANetflixShow': 1, '#elxn42': 1, '#stopharper': 1, '#doping': 1, '#ZippoLine': 1, '#moveit': 1, '#CLE': 1, '#refugee': 1, '#Israeli': 1, '#Tweet4Taiji': 1, '#overwatch': 1, '#LWB': 1, '#tattoo': 1, '#SpeakingFromExperience': 1, '#DecisionsOnDecisions': 1, '#RolandoNaBeats:': 1, '#win': 1, '#bbloggers': 1, '#stephenking': 1, '#thedarktower': 1, '#Insomnia': 1, '#boxing': 1, '#bloodymonday': 1, '#tvshowtime': 1, '#mystery': 1, '#ThisDayInHistory': 1, '#MusicAdvisory': 1, '#givebackkalinwhiteaccount': 1, '#PiperWearsThePants': 1, '#charmed': 1, '#Republicans': 1, '#9973': 1, '#trollingtilMeekdiss': 1, '#VuzuHustle': 1, '#OVOFest': 1, '#ZIPHIMUP!': 1, '#bestseller': 1, '#concert': 1, '#moving2k15': 1, '#expertwhiner': 1, '#cutekitten': 1, '#catsofinstagram': 1, '#summerinsweden': 1, '#katt': 1, '#katterpÌ´instagram': 1, '#dumle': 1, '#dagens\\x89Û_': 1, '#Norge2040': 1, '#EnolaGay': 1, '#whatcanthedo': 1, '#ElephantInTheRoom': 1, '#bannukes': 1, '#date': 1, '#AfricansInSF': 1, '#BeyondGPS': 1, '#bombed': 1, '#BanTheBomb': 1, '#canada': 1, '#Setting4Success': 1, '#smallbusiness': 1, '#pearlharbor': 1, '#Generalnews': 1, '#cricket': 1, '#Yugvani': 1, '#Collapse': 1, '#TrainTragedy': 1, '#computers': 1, '#slingnews': 1, '#sustainability': 1, '#9newsmornings': 1, '#respect': 1, '#TheStrain': 1, '#newyork\\x89Û_': 1, '#kenya:': 1, '#langata': 1, '#Albany': 1, '#NY': 1, '#PPSellsBabyParts': 1, '#rdg': 1, '#NH1News': 1, '#Manchester.': 1, '#Montgomery': 1, '#history': 1, '#MHT': 1, '#RedSox': 1, '#CubsTalk': 1, '#LetsFootball': 1, '#letsFootball': 1, '#fat': 1, '#burnfat': 1, '#skinny': 1, '#workout': 1, '#SJUBB': 1, '#Babies': 1, '#?x?:': 1, '#ika': 1, '#tuning': 1, '#diet': 1, '#Firefighters': 1, '#BooRadleyVanCullen': 1, '#AppreciativeInquiry': 1, '#spain': 1, '#criticalmedia': 1, '#pbs': 1, '#iraq': 1, '#FrancisUnderwood': 1, '#HoC': 1, '#Afghanistan:': 1, '#2015': 1, '#casualties': 1, '#Civilian': 1, '#FTSN': 1, '#FTSNNewsdesk': 1, '#Wave': 1, '#Casualty': 1, '#AIDS?:': 1, '#endangered': 1, '#drone': 1, '#amicospizzato': 1, '#seeyouatamicos...': 1, '#Homealone2': 1, '#film4': 1, '#Diversification': 1, '#pjnet': 1, '#tcotåÊ#ccot': 1, '#Borrowers': 1, '#interest': 1, '#catastrophe': 1, '#iphone': 1, '#twist': 1, '#boy': 1, '#mix': 1, '#VMAs': 1, '#PixelsMovie': 1, '#Job:': 1, '#spark': 1, '#song': 1, '#Catastrophe': 1, '#Results': 1, '#gbbo': 1, '#nar': 1, '#phuket': 1, '#Wolves': 1, '#SaveDenaliWolves': 1, '#ScrapTrident': 1, '#real': 1, '#PieceOfMe': 1, '#GravityMovie': 1, '#Defendant': 1, '#Catastrophic': 1, '#Illinois:': 1, '#hazmat': 1, '#Krefeld:': 1, '#benews': 1, '#iJETalerts': 1, '#watersafety': 1, '#USAR2015': 1, '#USAR15': 1, '#RUOR': 1, '#???????????': 1, '#Savebees': 1, '#yr': 1, '#heat.': 1, '#cold': 1, '#tough': 1, '#crossfit...': 1, '#Humble': 1, '#FunnyNews': 1, '#thinkpink': 1, '#magichairbump': 1, '#Internet': 1, '#Nieuws': 1, \"#Greece's\": 1, '#bailout': 1, '#theashes': 1, '#ROH3': 1, '#JFB': 1, '#TFB': 1, '#alrasyid448ItuRasya': 1, '#ROH3SmantiBatam': 1, '#wish': 1, '#OneHeartOneMindOneCSS': 1, '#TVJNews': 1, '#I': 1, '#after': 1, '#pluto': 1, '#nlccollide': 1, '#wogc': 1, '#ISEA2015': 1, '#gemma': 1, '#bowe\\x89Û_': 1, '#TheDoolingGroup': 1, \"#wattys2015'\": 1, '#Wattpad': 1, '#teenfiction': 1, '#ihave44episodesofGG': 1, '#nojoke': 1, '#yagitudeh': 1, '#ButGod': 1, '#Alaskaseafood': 1, '#askforalaska': 1, '#JustinBieber': 1, '#HarryStyles': 1, '#Cern': 1, '#Hwy401': 1, '#Cambridge': 1, '#OPP': 1, '#BODY': 1, '#SHOP/COLLISION': 1, '#MAPLERIDGE': 1, '#QEW': 1, '#Niagara.Vehicles': 1, '#gadget': 1, '#INCIDENT': 1, '#PeritoEnGrafoscopia': 1, '#rochdale': 1, '#heywood': 1, '#WeLoveYouLouis': 1, '#Windows10': 1, '#Hope': 1, '#modestmouseremix': 1, '#truestory': 1, '#SKH': 1, '#loveyouuuu': 1, '#aintsheperty': 1, '#MrRobinson': 1, '#TheSteveHarveyShow': 1, '#Crush': 1, '#EDWING': 1, '#AyekoRadio': 1, '#NetLabel': 1, '#ElectronicMusic': 1, '#CCMusic': 1, '#france': 1, '#wine': 1, '#DC': 1, '#Chicago': 1, '#BC': 1, '#freedom': 1, '#donthate': 1, '#BC19': 1, '#rewatchingthepilot': 1, '#TeamScorpion': 1, '#Cyclone': 1, '#Camera': 1, '#Art': 1, '#Photography': 1, '#0215': 1, '#KurokoBot': 1, '#ComDev': 1, '#Asia:': 1, '#programs': 1, '#komen': 1, '#Kyee': 1, '#OOTD': 1, '#DoubleGhats': 1, '#NY35': 1, '#NP': 1, '#pt': 1, '#pussy': 1, '#ass': 1, '#boobs': 1, '#asian': 1, '#nude': 1, '#Glaucoma': 1, '#eye': 1, '#eyefacts': 1, '#JSunNews': 1, '#icd10': 1, '#QueensWharf': 1, '#Brisbane': 1, '#Govt': 1, '#Ethical': 1, '#danger': 1, '#st': 1, '#nonprofit': 1, '#coyi': 1, '#IWasDisappointedBy': 1, '#dead': 1, '#summerfate': 1, '#PapiiChampoo': 1, '#Cyprus:': 1, '#Mullah': 1, '#vaxshill': 1, '#VRA50\\x89Û\\x9d': 1, '#Palermo': 1, '#Shipwreck': 1, '#Children': 1, '#Deaths': 1, '#INSAS!': 1, '#superfood': 1, '#physician': 1, '#CDCwhistleblower': 1, '#AdiosSuperBacterias': 1, '#US?': 1, '#nghlth': 1, '#plague': 1, '#publichealth': 1, '#SeaWorld': 1, '#OpSeaWorld': 1, '#notrocketscience': 1, '#aerospace': 1, '#exec': 1, '#sad': 1, '#tragedy': 1, '#innocent': 1, '#crash': 1, '#mh370': 1, '#food': 1, '#KAMINDOZ': 1, '#baking': 1, '#cakes': 1, '#FantasticFour': 1, '#legionstrackandfield': 1, '#king': 1, '#Deluge': 1, '#Dumuzid': 1, '#ChildSexAbuse': 1, '#Bible': 1, '#UnFML': 1, '#deluge': 1, '#GISHWHES': 1, '#b2b': 1, '#b2bagency': 1, '#ContentMarketing': 1, '#asae15': 1, '#assnchat': 1, '#MeditationByMSG': 1, '#novalismi': 1, '#Glimpses:': 1, '#badotweet': 1, '#inspiration': 1, '#Manhood.': 1, '#AvigdorLiberman': 1, '#Susiya': 1, '#Android': 1, '#androidgames': 1, '#gameinsight': 1, '#Babri': 1, '#charminar': 1, '#Telangana': 1, '#funtimes': 1, '#demolished': 1, '#Patriots': 1, '#CantMakeItUp': 1, '#PatriotsNation': 1, '#BacktoBack': 1, '#ChargedUp': 1, '#Media420': 1, '#PapiCongress': 1, '#BBSNews': 1, '#Workers': 1, '#Halifax': 1, '#burnaby': 1, '#changefortheworse': 1, '#download': 1, '#watch': 1, '#movie': 1, '#gop': 1, '#potus': 1, '#irandeal': 1, '#isis': 1, '#sms': 1, '#IranDeal.': 1, '#FreeSikhPoliticalPrisnors': 1, '#washingtonpost': 1, '#coya': 1, '#london': 1, '#blacklivesmatter': 1, '#DONZILLA...': 1, '#Trump2016': 1, '#Adani': 1, '#kidscompany': 1, '#illustration': 1, '#subway': 1, '#writing': 1, '#TaxReturn?': 1, '#CRI': 1, '#robertwelch': 1, '#deepthoughts': 1, '#NDTV': 1, '#TeamFollowBack': 1, '#FollowBack': 1, '#ChicagoScanner': 1, '#IndiaTV': 1, '#topstories': 1, '#OnThisDay': 1, '#alt': 1, '#electro': 1, '#rock': 1, '#Desolation': 1, '#TheConspiracyTheory': 1, '#NewEP': 1, '#FREE': 1, '#Thriller': 1, '#Suspense': 1, '#amreading': 1, '#Ariz\\x89Û_': 1, '#listia': 1, '#Arizona': 1, '#ORShow)': 1, '#4:': 1, '#cliptv': 1, '#desolationofsmaug': 1, '#poze': 1, '#thehobbit': 1, '#Ashes2Ashes': 1, '#ShantaeForSmash': 1, '#Shantae': 1, '#ShantaeHalfGenieHero': 1, '#Nintendo': 1, '#YIAYplan': 1, '#Luck': 1, '#ReggaeBoyz': 1, '#copped': 1, '#beconfident': 1, '#StreetjamzDotNet': 1, '#AshesToAshes': 1, '#FN.': 1, '#EverydayNaija': 1, '#SemasirTalks': 1, '#ABomb': 1, '#Hiroshima\\x89ÛÓ#BBC': 1, '#survived': 1, '#CNV': 1, '#hot#teen#nsfw#porn#milf:': 1, '#GH': 1, '#Takecare': 1, '#fly': 1, '#bored': 1, '#cats.': 1, '#destruction': 1, '#badkitty': 1, '#Putin': 1, '#ThingsIhate': 1, '#Boulder': 1, '#JTW': 1, '#ORapInforma': 1, '#HHBU': 1, '#soundcloud': 1, '#FIYA!': 1, '#hiphop': 1, '#indie': 1, \"#Appy's\": 1, '#GujaratRiot': 1, '#MumbaiRiot92-93': 1, '#ChawalChorbjp': 1, '#RossBarton': 1, '#GeorgeCole': 1, '#ashes2015': 1, '#LatestNews': 1, '#HungerArticles:': 1, '#FirstNations': 1, '#IdleNoMore': 1, '#cndpoli': 1, '#yyj': 1, '#Thorium': 1, '#BeyondtheBomb': 1, '#Newyear': 1, '#momneedscoffee': 1, '#asap': 1, '#iwontmakeit': 1, '#Benediction': 1, '#SanelessTheory': 1, '#JakartaPost': 1, '#Mediterranean': 1, '#AfterHaiyan': 1, '#Haiyan': 1, '#YolandaPh': 1, '#livelihood': 1, '#disasterrecovery': 1, '#theneeds': 1, '#Recipes': 1, '#Blowltan': 1, '#Metepec': 1, '#Mexico': 1, '#NitClub': 1, '#Foxnews': 1, '#MSGDoing111WelfareWorks': 1, \"#thriller...'\": 1, '#SciFi': 1, '#Canada': 1, '#1-1ST': 1, '#displaced': 1, '#RefugeesMatter': 1, \"#Nevada's\": 1, '#MakeWaterWork': 1, '#WesternCanadaDrought': 1, '#cloud': 1, '#IOT': 1, '#weed': 1, '#DroughtMonitor:': 1, '#Macon': 1, '#WarnerRobins': 1, '#Dublin': 1, '#Milledgeville': 1, '#CADrought': 1, '#LakeIsabella': 1, '#Live': 1, '#AllTheKidneyBeansAndSorbet4Misha': 1, '#YES': 1, '#wattpad': 1, '#promo': 1, '#DW': 1, '#UFO4UBlogEurope': 1, '#Alameda': 1, '#coke': 1, '#summer2k15': 1, '#ICYMI': 1, '#Annoucement': 1, '#NashsNewVideo': 1, '#anxietyproblems': 1, '#Islamic': 1, '#state': 1, '#brochure': 1, '#bomb': 1, '#duststorm': 1, '#cogXbox': 1, '#XboxOne': 1, '#Xbox': 1, '#idwx': 1, '#EarthquakeNews': 1, '#3Novices': 1, '#Shelli???': 1, '#BB17.': 1, '#EarthTwerk': 1, '#SCSeEstaPreparando': 1, '#euroquake': 1, '#difficultpeople': 1, '#Shelli': 1, '#bb17': 1, '#Megaquake': 1, '#UglyPeople': 1, '#Borderlands': 1, '#Borderlands2': 1, '#OOCVG': 1, '#FTW': 1, '#Red': 1, '#Redblood': 1, '#videoclip': 1, '#Columbus': 1, '#ROWYSOLouisville': 1, '#SouthKorea': 1, '#tigers': 1, '#SaveTi...': 1, '#mumbailocals': 1, '#lessonforlife': 1, '#marinelines': 1, '#mumbai': 1, '#37592': 1, '#ArchipelagoWolves': 1, '#Extinction.': 1, '#StandForWolves': 1, '#drjustinmazur': 1, '#tookitlikeaman': 1, '#lovemydentist': 1, '#sore': 1, '#firemen': 1, '#firetruck': 1, '#rescue': 1, '#911': 1, '#summertime': 1, '#sirens\\x89Û_': 1, '#EMERGENCY': 1, '#Retail': 1, '#nbc15': 1, '#Biztip': 1, '#Families': 1, '#autism': 1, '#specialneeds': 1, '#homeless': 1, '#Cochrane.': 1, '#Torrance': 1, '#Olympia': 1, '#Houston': 1, '#followme': 1, '#RN': 1, '#Henderson': 1, '#Breaking': 1, '#job?': 1, '#Tarzana': 1, '#SouthLine': 1, '#TRAFFICALERT': 1, '#LiteraryCakes': 1, '#RaheelSharif': 1, '#boycottBears': 1, '#Tanzania': 1, '#UT': 1, '#CO': 1, '#OR': 1, '#039;monster&amp;#039;': 1, '#TenNews': 1, '#evacuate': 1, '#yemen': 1, '#usa': 1, '#evacuation': 1, '#abandoned': 1, '#whocares': 1, '#nazis': 1, '#UK?': 1, '#murfreesboro': 1, '#walmart': 1, '#koin6news': 1, '#manchesterlite': 1, '#SR14': 1, '#MoreVoices': 1, '#Breaking:': 1, '#Roosevelt': 1, '#calfires': 1, '#Lolla': 1, '#TRC': 1, '#Reidlake': 1, '#NWT': 1, '#YZF': 1, '#feelingmanly': 1, '#NB': 1, '#hitting': 1, '#load&amp;explode': 1, '#hotnewscake': 1, '#pets': 1, '#dogs': 1, '#animals': 1, '#Medinah': 1, '#ImKeepingMyDayJob': 1, '#17)': 1, '#38745:': 1, '#dating': 1, '#meet': 1, '#life': 1, '#WORSTSUMMERJOB': 1, '#16': 1, '#War': 1, '#atomicbomb': 1, '#cum': 1, '#BitCoin': 1, '#Hangout': 1, '#Tampa:': 1, '#dcubecrafts': 1, '#greetingcards\\x89Û_': 1, '#Eyewitness': 1, '#UGC': 1, '#ClimateChange': 1, '#Anarchy': 1, '#liveonKBAK': 1, '#BokoHaram': 1, '#Bluebell': 1, '#IARTG': 1, '#RWA': 1, '#tw4rw': 1, '#RRBC': 1, '#Dynamix': 1, '#HopeinChrist': 1, '#gunfail': 1, '#nra': 1, '#crimes': 1, '#justice': 1, '#courts': 1, '#education': 1, '#econom': 1, '#HSE': 1, \"#Seattle's\": 1, '#Abha:': 1, '#GGIndependencMessage': 1, '#VisionZero': 1, '#Shipping': 1, '#Logistics': 1, '#Mystery': 1, '#Paranormal': 1, '#PerryChat': 1, '#BlackInAmerica': 1, '#GrowingUpBlack': 1, '#ChooseGod': 1, '#RestoringPaths': 1, '#TheXFiles201Days': 1, '#BestTalkRadio': 1, '#deltachildren': 1, '#instaquote': 1, '#quoteoftheday': 1, '#Disney': 1, '#WaltDisney': 1, '#auction': 1, '#CanonBringIt': 1, '#Fire': 1, '#CanonTattoo': 1, '#MN': 1, '#TheresMoreWhereThatCameFrom': 1, '#LoveFood': 1, '#euro': 1, '#dontexpectnothing': 1, '#july': 1, '#RFP:': 1, '#reno': 1, '#3***N-133': 1, '#PrayForSaipan': 1, '#fireman': 1, '#filipino': 1, '#LukeBox': 1, '#charity': 1, '#run': 1, \"#SmartTek's\": 1, '#mPERS': 1, '#safety': 1, '#gisuserPR': 1, '#geoTech': 1, '#paramedic': 1, '#999day': 1, '#TN': 1, '#SBNation': 1, '#Flames': 1, '#PortgassDK': 1, '#RubyBot': 1, '#muaytai': 1, '#wantmyabsback': 1, '#strong': 1, '#CFC': 1, '#Floored4': 1, '#Flattened': 1, '#Muppet': 1, '#RobertCalifornia': 1, '#thereisonlysex': 1, '#HAIL': 1, '#452': 1, '#alwx': 1, '#grants': 1, '#funds': 1, '#WxKY': 1, '#WEATHER': 1, '#ENVIRONMENT': 1, '#CLIMATE': 1, '#NATURE': 1, '#HUNwx': 1, '#homeimprovement': 1, '#Flooding': 1, '#mmda': 1, '#Laos': 1, '#ukfloods': 1, '#INSubcontinent': 1, '#valleywx': 1, '#VietNam': 1, '#OCNJ...': 1, '#FrvrGrateful': 1, '#writingtips': 1, '#floods:': 1, '#jazz': 1, '#Music': 1, '#WorldVision': 1, '#Paraguay': 1, '#Dua': 1, '#Typhoon': 1, '#socal': 1, '#RealHiphop': 1, '#NaturalDisasters': 1, '#climatechange': 1, '#PalmOil': 1, '#bcpoli': 1, '#canpoli': 1, '#vanpoli': 1, '#trees': 1, '#deep': 1, '#Lake': 1, '#HeartDisease': 1, '#straightfire': 1, '#GoBlue': 1, '#WrestleOn': 1, '##youtube': 1, '#SirMixAlot': 1, '#WCW': 1, '#ABStorm': 1, '#ParkChat': 1, '#mothernature': 1, '#yycfringe': 1, '#KILLHARD': 1, '#Boston': 1, '#round2': 1, '#summer': 1, '#Calgary.': 1, '#crazyweather': 1, '#notgoingoutinthat': 1, '#hail': 1, '#haildamage': 1, '#yycweather': 1, '#captureyyc': 1, '#sto\\x89Û_': 1, '#CarlilesCanoeLivery': 1, '#LoveMyJob': 1, '#cowx': 1, '#hailstorm\\x89Û_': 1, '#iamdowntown': 1, '#hailstorm...': 1, '#EBOLA': 1, '#OTRATMETLIFE': 1, '#PlannedParenthood': 1, '#Lifestyle': 1, '#Chelsea': 1, '#Hazard': 1, '#WE': 1, '#WholeTeam3': 1, '#WholesaleEnt': 1, '#sustainable': 1, '#what': 1, '#tribal': 1, '#dam': 1, '#gms': 1, '#PP15000266858]': 1, '#psd': 1, '#special': 1, '#lawx': 1, '#Squad': 1, '#RevItUp': 1, '#PizzaRev': 1, '#Jackson': 1, '#ms': 1, '#SoundCloud?': 1, '#WOD': 1, '#JAGM': 1, '#TOW': 1, '#HumanRights': 1, '#mcgsecure': 1, '#LatestNews:': 1, '#sacramento': 1, '#fresno': 1, '#263Chat': 1, '#Twimbos': 1, '#FlavorChargedTea': 1, '#FreeAmirNow': 1, '#FreeALLFour': 1, '#Hostages': 1, '#LH_movie': 1, '#indiefilm': 1, '#aviationaddicts': 1, '#Newyork': 1, '#Iraq': 1, '#Porn': 1, '#Clip!': 1, '#adult': 1, '#tube': 1, '#NoIranDeal': 1, '#TedCruz2016': 1, '#security': 1, '#Sinjar:': 1, '#IS': 1, '#Snowden': 1, '#kick': 1, '#YUG': 1, '#SuryaRay': 1, '#WakeUpFlorida...': 1, '#Floridians': 1, '#TrophyHunt': 1, '#8392': 1, '#golf': 1, '#riders': 1, '#NJ36': 1, '#DisabledVeterans': 1, '#ThePartyofMeanness': 1, '#NS': 1, '#chinadotcom': 1, '#sports': 1, '#Arsenal': 1, '#USMNT': 1, '#poster': 1, '#ergo': 1, '#cuff': 1, '#Injury.': 1, '#PFT': 1, '#NYG': 1, '#NFL': 1, '#Playoffs': 1, '#wcvb': 1, '#TMS7': 1, '#Worm': 1, '#Bangladeshaffected': 1, '#BangladeshFlood': 1, '#Mainstage': 1, '#KRO': 1, '#avalanche': 1, '#usgs': 1, '#emsc': 1, '#Q99': 1, '#Landslide!': 1, '#Tory': 1, '#G\\x89Û_': 1, '#89X': 1, '#Flashflood': 1, '#365disasters': 1, '#skardu': 1, '#kidsthesedays': 1, '#e\\x89Û_': 1, '#baby': 1, '#swim': 1, '#parents': 1, '#waterboarding': 1, '#lava': 1, '#shakeology': 1, '#034': 1, '#Lightning': 1, '#629': 1, '#scichat': 1, '#ActionMoviesTaughtUs': 1, '#Wimbledon': 1, '#Faroe': 1, '#hiroshima': 1, '#war': 1, '#atombomb': 1, '#japan': 1, '#WildHorses!': 1, '#Wahhabism': 1, \"#GFZ's:\": 1, '#TheaterShooting': 1, '#movietheatre': 1, '#615!': 1, '#Grindhouse': 1, '#TexasChainsawMassacre': 1, '#??_????_?????': 1, '#yazidi_shingal_genocide': 1, '#EzidiGenocide': 1, '#rememberRABAA': 1, '#Clinton': 1, '#Bush': 1, '#CBS': 1, '#WSJ': 1, '#WPO': 1, '#BeCarefulHarry': 1, '#Giveaway': 1, '#MasterChef': 1, '#RT_4_A_MENTION': 1, '#TY': 1, '#Pitchwars': 1, '#Drum': 1, '#heavy': 1, '#nasty': 1, '#tangletalk': 1, '#140': 1, '#3:': 1, '#russian': 1, '#cossack': 1, '#HillaryClinton': 1, '#Author': 1, '#Interview': 1, '#Gravity': 1, '#Mom': 1, '#tomclancy': 1, '#britishbakeoff': 1, '#paulhollywood': 1, '#icelandreview': 1, '#vaginaorcake': 1, '#mudslide...': 1, '#gbbo2015': 1, '#Arkansas': 1, '#NOLA': 1, '#AskConnor': 1, '#NoNuclearIran': 1, '#BadIranDeal': 1, '#natural': 1, '#Japanjapan': 1, '#anonymous': 1, '#Nytimes': 1, '#jishin_e': 1, '#Minamisoma': 1, '#IranNuclearDeal': 1, '#AFP': 1, '#WPS': 1, '#Disaster.': 1, '#global': 1, '#Disaster': 1, '#failure.': 1, '#annonymous': 1, '#Reuters': 1, '##fukushima': 1, \"#GE's\": 1, '#robot': 1, '#navy': 1, '#Japanese': 1, '#winechat': 1, '#Subs': 1, '#sizewell': 1, '#RichHomeyDon': 1, '#Swag': 1, '#LIKES': 1, '#instagramers': 1, '#KneelBot': 1, '#LOL': 1, '#gym': 1, '#gymflow': 1, '#gymtime': 1, '#team': 1, '#assassins\\x89Û_': 1, '#ovofest': 1, '#Zimmerman': 1, '#byebyesoundcloud': 1, '#WW3': 1, '#demonization': 1, '#TeamHennessy': 1, '#NJ': 1, \"#SLAB's\": 1, '#Labour': 1, '#Labourleadership': 1, '#obliteration': 1, '#Homosexuality': 1, '#management': 1, '#leadership': 1, '#smallbiz': 1, '#sydtraffic': 1, '#trafficnetwork': 1, '#KSBYNews': 1, '#OSI2016': 1, '#LosAngelesTimes': 1, '#latimes': 1, '#Kamloops': 1, '#LegionnairesDisease': 1, '#????_?????': 1, '#MuhamadJabal': 1, '#SEBEE': 1, '#losangeles': 1, '#check': 1, '#Pandemonium': 1, '#CopaLibertadores': 1, '#Pandemonium.iso': 1, '#BennyCapricon': 1, '#Shestooyoung': 1, '#cumshot': 1, '#porn': 1, '#porno': 1, '#free': 1, '#justaguess': 1, '#Deals_UK': 1, '#autismawareness': 1, '#TroubleOnMyMind': 1, '#NatsNation': 1, '#dream': 1, '#magic': 1, '#linden': 1, '#HS2': 1, '#romanticsuspense': 1, '#BREAKING411': 1, '#SmartNews': 1, '#BAYONETS': 1, '#EvilEmpire': 1, '#JadeHelm15': 1, '#PP15000266818]': 1, '#shooting': 1, '#police': 1, '#8217;t': 1, '#helpme': 1, '#Facebook': 1, '#strategy': 1, '#Technology': 1, '#technews': 1, '#puledo_tech_update': 1, '#Reddit': 1, '#content': 1, '#policy': 1, '#Bangalore': 1, '#Startups': 1, '#in': 1, '#wired': 1, '#cc': 1, '#Bluehand': 1, '#PJNET': 1, '#sejorg': 1, '#procedures': 1, '#06': 1, '#24': 1, '#09': 1, '#CCOT': 1, '#IWK!': 1, '#gloucester': 1, '#capeann': 1, '#seagulls': 1, '#triciaoneill': 1, '#triciaoneillphoto': 1, '#lucky': 1, '#NewRelease': 1, '#people': 1, '#killed': 1, '#rainstorm': 1, '#Italian': 1, '#Alps': 1, \"#landslide'\": 1, '#Castle': 1, '#Vancouver!!': 1, '#deadgrassandflowers': 1, '#TAFS': 1, '#FB100%': 1, '#GN': 1, '#NorthernCalifornia': 1, '#WashingtonPost': 1, '#Abbott': 1, '#LNP': 1, '#CHOPPERGATE!#BRONWYNBISHOP!#AUSPOL': 1, '#retweet': 1, '#refugees.': 1, '#christianvalues': 1, '#Syrian': 1, '#wedding': 1, '#Age': 1, '#presser': 1, '#KelbyTomlinson': 1, '#NewBeginningsAnimalRescue': 1, '#PPact': 1, '#psychrewatch': 1, '#summervibes': 1, '#california': 1, '#pitmix': 1, '#rescued': 1, '#brixton': 1, '#banksy': 1, '#happy': 1, '#mybabies': 1, '#Skyrim': 1, '#enkelbiljett': 1, '#menolippu': 1, '#childhooddefined': 1, '#RoddyPiperAutos': 1, '#News:': 1, '#menswear': 1, '#urbanfashion\\x89Û_': 1, '#hyperbole': 1, '#saintsfc': 1, '#Rio2016': 1, '#LoveIsLove': 1, '#163;163;millions.': 1, '#BHRAMABULL': 1, '#nffc': 1, \"#don'tpanic\": 1, '#UkNews': 1, '#crazyideascollege': 1, '#forbes': 1, '#europe': 1, '#forbesasia': 1, '#p2': 1, '#TNN:': 1, '#ROIMentor': 1, '#yycwalks': 1, '#MTA': 1, '#Sorrybutitstrue': 1, '#yes': 1, '#minions': 1, '#Zaatari': 1, '#CedarGlade2015': 1, '#fierce': 1, '#AddTexasToNext1DTour': 1, '#FunnyDadCoach': 1, '#IDOLS': 1, '#22DAYS': 1, '#WDYM': 1, '#NoChillLukeHammings': 1, '#Thankyou!': 1, '#gas': 1, '#cyber': 1, '#EY': 1, '#follow!': 1, '#maps': 1, '#kml': 1, '#seismic': 1, '#offshore': 1, '#OilandGas': 1, '#gif': 1, '#lol': 1, '#comedy': 1, '#iFunny': 1, '#image': 1, '#Occasion2B': 1, '#FDNY': 1, '#Brooklyn.': 1, '#accidentalprophecy': 1, '#piling': 1, '#Algeria': 1, '#LoMasVisto': 1, '#CadenaDeSeguidores': 1, '#MTSAlert': 1, '#priorities': 1, '#TNA': 1, '#DestinationIMPACT': 1, '#goodbye': 1, '#sinking': 1, '#twins': 1, '#Tribe': 1, '#wishlist': 1, '#horror': 1, '#liveonstreamate!': 1, '#askH3cz': 1, '#millcityio': 1, '#20150613': 1, '#SirensIcebreaker': 1, '#abc7eyewitness': 1, '#HometownGlory': 1, '#painting': 1, '#growingupincolorado\\x89Û\\x9d': 1, '#AMSsummer': 1, '#Winter': 1, '#treescape': 1, '#LakeEffect': 1, '#Snowstorm': 1, \"#Rome's\": 1, '#gamefeed': 1, '#VideoGame': 1, '#property': 1, '#storm:': 1, '#EventsPalmBeach.': 1, '#SportingGoods': 1, '#TWCNews': 1, '#ncwx': 1, '#NASA': 1, '#solar': 1, '#Stretcher': 1, '#foot': 1, '#adjust': 1, '#shape': 1, '#shoe': 1, '#preventative': 1, '#CTS': 1, '#stopevictions': 1, '#Homs': 1, '#GRupdates': 1, '#Tripoli': 1, '#saudiarabia': 1, '#deai': 1, '#KPPolice.': 1, '#Kuwait': 1, '#ArrestpastorNganga': 1, '#investing': 1, '#money': 1, '#gold': 1, '#silver': 1, '#tootrue': 1, '#ThomasSMonson': 1, '#LDS': 1, '#Mormon': 1, '#teamsurvivors': 1, '#zombiefunrun2014': 1, '#healthinsurance': 1, '#driverlesscars': 1, '#Markets': 1, '#Money': 1, '#holomua': 1, '#makinmemories': 1, '#Nagasaki.': 1, '#OTD': 1, '#Chronicillness': 1, '#MyLifeStory': 1, '#nuclearweapons': 1, '#coppednews': 1, '#LungCancer': 1, '#nuke': 1, '#Shanghai': 1, '#Cubs': 1, '#Politics': 1, '#Newsarama': 1, '#Pakistan\\x89Ûªs': 1, '#Anti-Terrorism': 1, '#Act': 1, '#Elections': 1, '#AcheDin': 1, '#4': 1, '#Bethlehem': 1, '#UdhampurAgain': 1, '#TRAITOR': 1, '#keepingtheviginaclean': 1, \"#metrofmtalk'\": 1, '#DFIR': 1, '#ThreatIntel': 1, '#drones': 1, '#privacy': 1, '#BHUSA': 1, '#PlayingNow': 1, '#BLOODBOUND': 1, '#Gander.': 1, '#nlwx': 1, '#JoeStrong': 1, '#GoKitGo': 1, '#SoothMySlumber': 1, '#WATERMELOANN': 1, '#populardemand': 1, \"#she's\": 1, '#back': 1, '#Oklahoma': 1, '#Thunder': 1, '#NBA': 1, '#Durant': 1, '#Skywarn': 1, '#OKwx': 1, '#VivaArgentina': 1, '#lightning': 1, '#lightningstrike': 1, '#thunderstorm': 1, '#nature': 1, '#Helsinki\\x89Û_': 1, '#TornadoGiveaway': 1, '#thebookclub': 1, '#pod': 1, '#TopStories': 1, '#quotes': 1, '#Jamaica': 1, '#entertainment': 1, '#newsdict': 1, '#NZ': 1, '#HugoMatz': 1, '#NissanNews': 1, '#ptsdchat': 1, '#PTSDchat': 1, '#gravitychat': 1, '#Marijuana': 1, '#PTSD': 1, '#hempoil': 1, '#cannabis': 1, '#marijuana\\x89Û_': 1, '#childhood': 1, '#trauma.': 1, '#FOAMed': 1, '#FOAMcc': 1, '#survivors': 1, '#oneborn': 1, '#snapchatselfie': 1, '#wrongperson': 1, '#VarageSale': 1, '#theBargain': 1, '#Fartanxiety': 1, '#Prez.': 1, '#nopower': 1, '#BBShelli': 1, '#Banking': 1, '#bitcoing': 1, '#blockchain': 1, '#OKTXDUO': 1, '#iHeartRadio': 1, '#toosoon': 1, '#Toronto': 1, '#TwisterLovesShania': 1, '#Breaking144': 1, '#AceNewsDesk': 1, '#GeneralNews': 1, '#ABCNews': 1, '#elderly': 1, '#companionship': 1, '#care': 1, '#Chester': 1, '#Sydney': 1, '#Aus': 1, '#Tigers': 1, \"#Ferguson's\": 1, '#orcot': 1, '#orpol': 1, '#travel': 1, '#BADChoices': 1, '#BANTROPHYHUNTING': 1, '#Aogashima': 1, '#perspective': 1, '#CSismica': 1, '#CityofMemphis': 1, '#LittleWomenLA': 1, '#WorldWatchesFerguson': 1, '#GrowingupBlack': 1, '#professional': 1, '#help!': 1, '#terror': 1, '#Cameroon': 1, '#Whitehouse': 1, '#ES': 1, '#FR': 1, '#Nigeria': 1, '#DE': 1, '#AU': 1, '#JP': 1, '#InsaneLimits': 1, '#plugin': 1, '#Mandela': 1, '#Kick': 1, '#Syria.': 1, '#Gunsense': 1, '#ineedexposure': 1, '#USWarCrimes': 1, '#OjouBot': 1, '#gaming': 1, '#tv': 1, '#Battlefield': 1, '#bookmobile': 1, '#libraries': 1, '#reading': 1, '#bigbrother': 1, '#ch4': 1, '#FinsUp': 1, '#Security': 1, '#mantra': 1, '#Whirlwind': 1, '#RemyMarcel': 1, '#FroFroFro\\x89Û_': 1, '#whirlwind': 1, '#drained': 1, '#Titania': 1, '#cantwaittoplayinminneapolis': 1, '#picthis': 1, '#Toronto.': 1, '#snooker': 1, '#fires': 1, '#wild': 1, '#SanOnofre': 1, '#FOXDebateQuestions:': 1, '#ProfitToThePeople': 1, '#FingerRockFire': 1, '#azwx': 1, '#CAFire': 1, '#Vail': 1, '#smem': 1, '#FireNews': 1, '#WA': 1, '#UTFire': 1, '#Lancaster': 1, '#helicopter': 1, '#firefighting': 1, '#oregon': 1, '#easternoregon\\x89Û_': 1, '#CalWildfires': 1, '#GalvNews': 1, '#nook': 1, '#TheBachelorette': 1, '#Paramedic': 1, '#insurance': 1, '#WZBT': 1, '#politics': 1, '#txlege': 1, '#twia': 1, '#Hardball': 1, '#yyc!': 1, '#WindStorm': 1, '#BeSafe': 1, '#Insurance:': 1, '#datingtips': 1, '#goodreads': 1, '#NoMoreHandouts': 1, '#KindleCountdown': 1, '#MFRWauthor': 1, '#MGTAB': 1, '#AN247': 1, '#client': 1, '#Latestnews]': 1, '#EndOccupation': 1, '#EndConflict': 1, '#FreeKashmir': 1, '#KashmirConflict': 1, '#TWCNewsCLT': 1, '#BishopFred': 1, '#neverforget': 1, '#artectura': 1, '#pop2015': 1, '#Nå¼36': 1, '#music': 1, '#playlist': 1, '#YouTube': 1, '#shoalstraffic': 1, '#najibrazak': 1, '#MalaysiaAirlines': 1, '#thatswhatfriendsarefor': 1, '#residualincome': 1, '#mlm': 1, '#wrecked': 1, '#cnbc': 1, '#topnews': 1, '#whoops': 1, '#FX': 1, '#explodingkittens\\x89Û_': 1, '#tnwx': 1, '#NWS': 1, '#BathAndNorthEastSomerset': 1, '#LA': 1})\n"
     ]
    },
    {
     "data": {
      "application/javascript": [
       "\n",
       "            setTimeout(function() {\n",
       "                var nbb_cell_id = 142;\n",
       "                var nbb_unformatted_code = \"from collections import Counter\\n\\nhash_tags = []\\nfor i in train[\\\"hash_tags\\\"]:\\n    for j in i:\\n        hash_tags.append(j)\\n\\nprint(Counter(hash_tags))\";\n",
       "                var nbb_formatted_code = \"from collections import Counter\\n\\nhash_tags = []\\nfor i in train[\\\"hash_tags\\\"]:\\n    for j in i:\\n        hash_tags.append(j)\\n\\nprint(Counter(hash_tags))\";\n",
       "                var nbb_cells = Jupyter.notebook.get_cells();\n",
       "                for (var i = 0; i < nbb_cells.length; ++i) {\n",
       "                    if (nbb_cells[i].input_prompt_number == nbb_cell_id) {\n",
       "                        if (nbb_cells[i].get_text() == nbb_unformatted_code) {\n",
       "                             nbb_cells[i].set_text(nbb_formatted_code);\n",
       "                        }\n",
       "                        break;\n",
       "                    }\n",
       "                }\n",
       "            }, 500);\n",
       "            "
      ],
      "text/plain": [
       "<IPython.core.display.Javascript object>"
      ]
     },
     "metadata": {},
     "output_type": "display_data"
    }
   ],
   "source": [
    "from collections import Counter\n",
    "\n",
    "hash_tags = []\n",
    "for i in train[\"hash_tags\"]:\n",
    "    for j in i:\n",
    "        hash_tags.append(j)\n",
    "\n",
    "print(Counter(hash_tags))"
   ]
  },
  {
   "cell_type": "code",
   "execution_count": 143,
   "id": "c88a65e7",
   "metadata": {
    "ExecuteTime": {
     "end_time": "2021-07-13T04:43:56.497425Z",
     "start_time": "2021-07-13T04:43:56.469740Z"
    }
   },
   "outputs": [
    {
     "data": {
      "application/javascript": [
       "\n",
       "            setTimeout(function() {\n",
       "                var nbb_cell_id = 143;\n",
       "                var nbb_unformatted_code = \"Diaster = train[train[\\\"target\\\"] == 1]\\nNon_Disaster = train[train[\\\"target\\\"] == 0]\";\n",
       "                var nbb_formatted_code = \"Diaster = train[train[\\\"target\\\"] == 1]\\nNon_Disaster = train[train[\\\"target\\\"] == 0]\";\n",
       "                var nbb_cells = Jupyter.notebook.get_cells();\n",
       "                for (var i = 0; i < nbb_cells.length; ++i) {\n",
       "                    if (nbb_cells[i].input_prompt_number == nbb_cell_id) {\n",
       "                        if (nbb_cells[i].get_text() == nbb_unformatted_code) {\n",
       "                             nbb_cells[i].set_text(nbb_formatted_code);\n",
       "                        }\n",
       "                        break;\n",
       "                    }\n",
       "                }\n",
       "            }, 500);\n",
       "            "
      ],
      "text/plain": [
       "<IPython.core.display.Javascript object>"
      ]
     },
     "metadata": {},
     "output_type": "display_data"
    }
   ],
   "source": [
    "Diaster = train[train[\"target\"] == 1]\n",
    "Non_Disaster = train[train[\"target\"] == 0]"
   ]
  },
  {
   "cell_type": "code",
   "execution_count": 144,
   "id": "a0e96060",
   "metadata": {
    "ExecuteTime": {
     "end_time": "2021-07-13T04:43:56.998710Z",
     "start_time": "2021-07-13T04:43:56.976558Z"
    }
   },
   "outputs": [
    {
     "name": "stdout",
     "output_type": "stream",
     "text": [
      "Counter({'#News': 32, '#???': 23, '#news': 21, '#Hiroshima': 20, '#??': 19, '#hot': 13, '#prebreak': 13, '#best': 13, '#Japan': 10, '#India': 10, '#Sismo': 9, '#yyc': 9, '#earthquake': 8, '#abstorm': 8, '#terrorism': 8, '#ISIS': 8, '#Earthquake': 7, '#WX': 7, '#disaster': 6, '#world': 6, '#Rohingya': 6, '#CNN': 6, '#okwx': 6, '#Africa': 6, '#Antioch': 6, '#BBC': 6, '#Fukushima': 6, '#Bestnaijamade:': 6, '#wildfires': 5, '#wildfire': 5, '#Myanmar': 5, '#Sittwe': 5, '#drought': 5, '#Libya': 5, '#science': 5, '#socialnews': 5, '#hailstorm': 5, '#Islam': 5, '#RockyFire': 4, '#California': 4, '#\\x89Û_': 4, '#Zionist': 4, '#Terrorist': 4, '#Phoenix': 4, '#StrategicPatience': 4, '#Genocide;': 4, '#EarthQuake': 4, '#WorldNews': 4, '#GBBO': 4, '#Nuclear': 4, '#Somalia': 4, '#JapÌ_n': 4, '#photography': 4, '#Truth': 4, '#god': 4, '#Quran': 4, '#Lies': 4, '#IDFire': 4, '#flood': 3, '#flooding': 3, '#Manchester': 3, '#Accident': 3, '#KCA': 3, '#VoteJKT48ID': 3, '#NewYork': 3, '#bioterrorism': 3, '#IranDeal': 3, '#breaking': 3, '#USA': 3, '#tech': 3, '#preparedness': 3, '#Business': 3, '#UK': 3, '#weather': 3, '#tcot': 3, '#????': 3, '#MH370.': 3, '#MH370': 3, '#Buffalo': 3, '#wmata': 3, '#ModiMinistry': 3, '#Philippines': 3, '#Prison': 3, '#genocide': 3, '#US': 3, '#iPhone': 3, '#USGS': 3, '#islam': 3, '#Miami': 3, '#Atlanta': 3, '#Casper': 3, '#Wildfire': 3, '#Saudi': 3, '#Pakistan': 3, '#arwx': 3, '#yycstorm': 3, '#Iran': 3, '#hostages': 3, '#AP': 3, '#TS': 3, '#NRI': 3, '#TRS': 3, '#TDP': 3, '#BJP': 3, '#hurricane': 3, '#guillermo': 3, '#World': 3, '#nuclear': 3, '#Gabon': 3, '#usNWSgov': 3, '#Florida': 2, '#BREAKING': 2, '#traffic': 2, '#BREAKING:': 2, '#RIP': 2, '#MLB': 2, '#yugvani': 2, '#til_now': 2, '#reuters': 2, '#worldnews': 2, '#NewsInTweets': 2, '#Kisii': 2, '#CountyNews': 2, '#Udhampur': 2, '#Mumbai': 2, '#frontpage:': 2, '#Bioterror': 2, '#RickPerry': 2, '#Palestinian': 2, '#Australia': 2, '#BlackLivesMatter': 2, '#NYC': 2, '#TweetLikeItsSeptember11th2001': 2, '#Zionism': 2, '#6': 2, '#Newswatch:': 2, '#Ptbo.': 2, '#course': 2, '#HannaPH\\x89Û\\x9d': 2, '#Bangladesh': 2, '#cawx': 2, '#follow': 2, '#health': 2, '#Blackpool.': 2, '#BeClearOnCancer': 2, '#Malaysia': 2, '#floods': 2, '#Palestine': 2, '#Israel': 2, '#mumbai...': 2, '#WMATA': 2, '#Metro': 2, '#IndianNews': 2, '#LosDelSonido)': 2, '#IvanBerroa)': 2, '#Worldnews': 2, '#mÌ¼sica': 2, '#Syria': 2, '#NV': 2, '#gawx': 2, '#SM': 2, '#quake': 2, '#pakistan#news#': 2, '#China': 2, '#fire': 2, '#Solar': 2, '#Nursing': 2, '#ProphetMuhammad': 2, '#CA': 2, '#LiveOnK2': 2, '#KOIN6News': 2, '#LIFE': 2, '#9': 2, '#Hiroshima70': 2, '#SigAlert:': 2, '#NJTurnpike': 2, '#Nagasaki': 2, '#RouteComplex': 2, '#Indonesia': 2, '#KOTAWeather': 2, '#alberta': 2, '#calgary': 2, '#jamaicaplain': 2, '#boston': 2, '#1': 2, '#Taiwan': 2, '#foodscare': 2, '#offers2go': 2, '#NestleIndia': 2, '#Magginoodle': 2, '#ban': 2, '#humanconsumption': 2, '#Allah': 2, '#Hellfire': 2, '#Sinjar': 2, '#Yazidis': 2, '#Yazidi': 2, '#MeteoEarth?': 2, '#RT': 2, '#renew911health': 2, '#landslide': 2, '#PantherAttack': 2, '#pics': 2, '#FaroeIslands': 2, '#DebateQuestionsWeWantToHear': 2, '#Obama': 2, '#ABC': 2, '#mudslide': 2, '#FUKUSHIMA?#TEPCO?': 2, '#refugees': 2, '#guardian': 2, '#NYTimes': 2, '#breakingnews': 2, '#sandiego': 2, '#360WiseNews': 2, '#???????': 2, '#YoNews': 2, '#SanDiego': 2, '#AoMS': 2, '#ibooklove': 2, '#bookboost': 2, '#mercados': 2, '#premonitions': 2, '#Palestinians': 2, '#thunder': 2, '#Thunderstorm': 2, '#AR': 2, '#NC': 2, '#OK.': 2, '#stormchase': 2, '#Amsterdam': 2, '#Volcano': 2, '#denver': 2, '#billings': 2, '#rapidcity': 2, '#seattle': 2, '#cheyenne': 2, '#KerrickTrial': 2, '#Kashmir': 2, '#Alaska': 1, '#CAfire': 1, '#raining': 1, '#TampaBay': 1, '#Tampa': 1, '#Flood': 1, '#We': 1, '#AFRICANBAZE:': 1, '#Bridgetown': 1, '#Kurds': 1, '#Diyala': 1, '#climate': 1, '#energy': 1, '#NashvilleTraffic.': 1, '#SantaClara': 1, '#BayArea': 1, '#Traffic': 1, '#TruckCrash': 1, '#FortWorth': 1, '#Ashville': 1, '#Hagerstown': 1, '#WHAG': 1, '#Bahrain': 1, '#Horrible': 1, '#WatchTheVideo': 1, '#BINLADEN': 1, '#man': 1, '#airport': 1, '#airplane': 1, '#aircraft': 1, '#aeroplane': 1, '#runway': 1, '#accident': 1, '#freaky\\x89Û_': 1, '#Crash': 1, '#Aircraft': 1, '#Airplane': 1, '#Pilot': 1, '#Death': 1, '#CarFest': 1, '#OMG!': 1, '#AirPlane': 1, '#JetEngine': 1, '#TurboJet': 1, '#Boing': 1, '#G90': 1, '#RODKiai': 1, '#EMSNe\\x89Û_': 1, '#DNA': 1, '#worldNews': 1, '#gilbert23': 1, '#internetradio': 1, '#collegeradi\\x89Û_': 1, '#Storm': 1, '#Apocalypse': 1, '#PBBan': 1, '#armageddon?': 1, '#brics': 1, '#roberts': 1, '#russia': 1, '#Directioners': 1, '#LGBT': 1, '#Lesbian': 1, '#Arsonist': 1, '#headlines:': 1, '#Nightbeat': 1, '#2MinuteMix': 1, '#SanFrancisco': 1, '#nativehuman': 1, '#myreligion': 1, '#AllTheNews': 1, '#palestine': 1, '#volleyball': 1, '#ableg': 1, '#cdnpoli': 1, '#nwo': 1, '#PT:': 1, '#ColoradoAvalanche': 1, '#Avalanche': 1, '#nowplay': 1, '#listen': 1, '#radio': 1, '#TCOT': 1, '#phone': 1, '#apple': 1, '#mobile': 1, '#NowPlaying': 1, '#orchardalley': 1, '#LES': 1, '#nyc': 1, '#gardens': 1, '#trucking': 1, '#FedEx': 1, '#anthrax': 1, '#virus': 1, '#infectiousdiseases': 1, '#glanders': 1, '#refugee': 1, '#Israeli': 1, '#Tweet4Taiji': 1, '#tattoo': 1, '#DecisionsOnDecisions': 1, '#Insomnia': 1, '#ThisDayInHistory': 1, '#Handbag': 1, '#Womens': 1, '#EnolaGay': 1, '#ElephantInTheRoom': 1, '#Turkish': 1, '#bannukes': 1, '#bombed': 1, '#BanTheBomb': 1, '#canada': 1, '#Setting4Success': 1, '#smallbusiness': 1, '#entrepreneur': 1, '#pearlharbor': 1, '#Generalnews': 1, '#cricket': 1, '#Yugvani': 1, '#Ashes': 1, '#TrainTragedy': 1, '#computers': 1, '#gadgets': 1, '#slingnews': 1, '#sustainability': 1, '#9newsmornings': 1, '#respect': 1, '#TheStrain': 1, '#newyork\\x89Û_': 1, '#kenya:': 1, '#langata': 1, '#Albany': 1, '#NY': 1, '#PPSellsBabyParts': 1, '#NH1News': 1, '#Manchester.': 1, '#Montgomery': 1, '#history': 1, '#MHT': 1, '#myfitnesspal': 1, '#SJUBB': 1, '#Babies': 1, '#?x?:': 1, '#Firefighters': 1, '#AppreciativeInquiry': 1, '#criticalmedia': 1, '#pbs': 1, '#iraq': 1, '#Afghanistan:': 1, '#2015': 1, '#Civilian': 1, '#FTSN': 1, '#FTSNNewsdesk': 1, '#endangered': 1, '#drone': 1, '#NowPlaying:': 1, '#boy': 1, '#mix': 1, '#nar': 1, '#phuket': 1, '#ScrapTrident': 1, '#GravityMovie': 1, '#Illinois:': 1, '#hazmat': 1, '#Krefeld:': 1, '#benews': 1, '#iJETalerts': 1, '#FunnyNews': 1, '#TalkRadio': 1, \"#Greece's\": 1, '#bailout': 1, '#theashes': 1, '#wish': 1, '#OneHeartOneMindOneCSS': 1, '#TVJNews': 1, '#gemma': 1, '#bowe\\x89Û_': 1, '#TheDoolingGroup': 1, '#ButGod': 1, '#Hwy401': 1, '#Cambridge': 1, '#OPP': 1, '#Colorado': 1, '#MAPLERIDGE': 1, '#QEW': 1, '#Niagara.Vehicles': 1, '#INCIDENT': 1, '#PeritoEnGrafoscopia': 1, '#rochdale': 1, '#heywood': 1, '#WeLoveYouLouis': 1, '#MTVHottest': 1, '#Hope': 1, '#SKH': 1, '#Chicago': 1, '#Vanuatu': 1, '#KurokoBot': 1, '#ComDev': 1, '#Asia:': 1, '#programs': 1, '#komen': 1, '#Kyee': 1, '#NY35': 1, '#Royals': 1, '#pt': 1, '#Glaucoma': 1, '#eye': 1, '#eyefacts': 1, '#JSunNews': 1, '#icd10': 1, '#FETTILOOTCH': 1, '#SLANGLUCCI': 1, '#coyi': 1, '#Cyprus:': 1, '#vaxshill': 1, '#VRA50\\x89Û\\x9d': 1, '#Palermo': 1, '#Shipwreck': 1, '#Children': 1, '#Deaths': 1, '#INSAS!': 1, '#physician': 1, '#CDCwhistleblower': 1, '#US?': 1, '#nghlth': 1, '#plague': 1, '#publichealth': 1, '#SeaWorld': 1, '#OpSeaWorld': 1, '#notrocketscience': 1, '#aerospace': 1, '#exec': 1, '#sad': 1, '#tragedy': 1, '#innocent': 1, '#crash': 1, '#mh370': 1, '#love': 1, '#food': 1, '#fun': 1, '#KAMINDOZ': 1, '#Video': 1, '#ChildSexAbuse': 1, '#Glimpses:': 1, '#AvigdorLiberman': 1, '#Susiya': 1, '#BacktoBack': 1, '#ChargedUp': 1, '#Media420': 1, '#PapiCongress': 1, '#BBSNews': 1, '#download': 1, '#watch': 1, '#movie': 1, '#gop': 1, '#potus': 1, '#irandeal': 1, '#isis': 1, '#washingtonpost': 1, '#GOPDebate': 1, '#kidscompany': 1, '#deepthoughts': 1, '#NDTV': 1, '#TeamFollowBack': 1, '#FollowBack': 1, '#ChicagoScanner': 1, '#IndiaTV': 1, '#topstories': 1, '#alt': 1, '#electro': 1, '#rock': 1, '#comingsoon': 1, '#Desolation': 1, '#TheConspiracyTheory': 1, '#NewEP': 1, '#Ariz\\x89Û_': 1, '#StreetjamzDotNet': 1, '#EverydayNaija': 1, '#SemasirTalks': 1, '#ABomb': 1, '#Hiroshima\\x89ÛÓ#BBC': 1, '#survived': 1, '#CNV': 1, '#Putin': 1, '#Boulder': 1, '#FIYA!': 1, '#hiphop': 1, '#indie': 1, \"#Appy's\": 1, '#GujaratRiot': 1, '#MumbaiRiot92-93': 1, '#Modi': 1, '#ChawalChorbjp': 1, '#GeorgeCole': 1, '#LatestNews': 1, '#CNBC': 1, '#HungerArticles:': 1, '#FirstNations': 1, '#IdleNoMore': 1, '#cndpoli': 1, '#yyj': 1, '#Thorium': 1, '#BeyondtheBomb': 1, '#Newyear': 1, '#JakartaPost': 1, '#Mediterranean': 1, '#AfterHaiyan': 1, '#Haiyan': 1, '#YolandaPh': 1, '#livelihood': 1, '#disasterrecovery': 1, '#theneeds': 1, '#Recipes': 1, '#Blowltan': 1, '#Metepec': 1, '#Mexico': 1, '#NitClub': 1, '#Foxnews': 1, '#MSGDoing111WelfareWorks': 1, '#Canada': 1, '#displaced': 1, '#RefugeesMatter': 1, \"#Nevada's\": 1, '#MakeWaterWork': 1, '#WesternCanadaDrought': 1, '#cloud': 1, '#IOT': 1, '#weed': 1, '#DroughtMonitor:': 1, '#Macon': 1, '#WarnerRobins': 1, '#Dublin': 1, '#Milledgeville': 1, '#DW': 1, '#UFO4UBlogEurope': 1, '#Alameda': 1, '#coke': 1, '#duststorm': 1, '#idwx': 1, '#EarthquakeNews': 1, '#3Novices': 1, '#CS': 1, '#Anchorage': 1, '#EarthTwerk': 1, '#SCSeEstaPreparando': 1, '#difficultpeople': 1, '#Megaquake': 1, '#UglyPeople': 1, '#Columbus': 1, '#ROWYSOLouisville': 1, '#tigers': 1, '#SaveTi...': 1, '#mumbailocals': 1, '#lessonforlife': 1, '#marinelines': 1, '#mumbai': 1, '#WorstSummerJob': 1, '#ArchipelagoWolves': 1, '#Extinction.': 1, '#StandForWolves': 1, '#firemen': 1, '#firetruck': 1, '#emergency': 1, '#rescue': 1, '#911': 1, '#summertime': 1, '#sirens\\x89Û_': 1, '#ProtectDenaliWolves': 1, '#EMERGENCY': 1, '#Emergency': 1, '#Biztip': 1, '#homeless': 1, '#Cochrane.': 1, '#Olympia': 1, '#hiring!': 1, '#Houston': 1, '#Breaking': 1, '#SouthLine': 1, '#TRAFFICALERT': 1, '#RaheelSharif': 1, '#Mets': 1, '#UT': 1, '#CO': 1, '#OR': 1, '#039;monster&amp;#039;': 1, '#TenNews': 1, '#evacuate': 1, '#yemen': 1, '#usa': 1, '#evacuation': 1, '#abandoned': 1, '#murfreesboro': 1, '#walmart': 1, '#koin6news': 1, '#manchesterlite': 1, '#SR14': 1, '#MoreVoices': 1, '#Breaking:': 1, '#Roosevelt': 1, '#calfires': 1, '#Lolla': 1, '#Reidlake': 1, '#NWT': 1, '#YZF': 1, '#NB': 1, '#Medinah': 1, '#ImKeepingMyDayJob': 1, '#17)': 1, '#life': 1, '#16': 1, '#War': 1, '#atomicbomb': 1, '#ClimateChange': 1, '#Anarchy': 1, '#liveonKBAK': 1, '#Russia': 1, '#Bluebell': 1, '#Russian': 1, '#HopeinChrist': 1, '#gunfail': 1, '#nra': 1, '#crimes': 1, '#justice': 1, '#courts': 1, \"#Seattle's\": 1, '#Abha:': 1, '#Shipping': 1, '#Logistics': 1, '#LoveFood': 1, '#reno': 1, '#3***N-133': 1, '#PrayForSaipan': 1, '#999day': 1, '#TN': 1, '#alwx': 1, '#grants': 1, '#funds': 1, '#WxKY': 1, '#WEATHER': 1, '#ENVIRONMENT': 1, '#CLIMATE': 1, '#NATURE': 1, '#HUNwx': 1, '#Laos': 1, '#ukfloods': 1, '#INSubcontinent': 1, '#valleywx': 1, '#VietNam': 1, '#OCNJ...': 1, '#writingtips': 1, '#FARRAKHAN': 1, '#QUOTE': 1, '#floods:': 1, '#WorldVision': 1, '#Paraguay': 1, '#Dua': 1, '#Typhoon': 1, '#socal': 1, '#RealHiphop': 1, '#NaturalDisasters': 1, '#climatechange': 1, '#PalmOil': 1, '#forest': 1, '#bcpoli': 1, '#canpoli': 1, '#vanpoli': 1, '#HeartDisease': 1, '#straightfire': 1, '#GoBlue': 1, '#WrestleOn': 1, '##youtube': 1, '#ABStorm': 1, '#mothernature': 1, '#rain': 1, '#yycfringe': 1, '#KILLHARD': 1, '#Boston': 1, '#round2': 1, '#summer': 1, '#Calgary.': 1, '#crazyweather': 1, '#notgoingoutinthat': 1, '#hail': 1, '#haildamage': 1, '#yycweather': 1, '#captureyyc': 1, '#sto\\x89Û_': 1, '#cowx': 1, '#hailstorm\\x89Û_': 1, '#iamdowntown': 1, '#hailstorm...': 1, '#EBOLA': 1, '#dam': 1, '#gms': 1, '#PP15000266858]': 1, '#pdx911': 1, '#psd': 1, '#special': 1, '#lawx': 1, '#Squad': 1, '#RevItUp': 1, '#PizzaRev': 1, '#Jackson': 1, '#ms': 1, '#Afterlife': 1, '#wealth': 1, '#forever': 1, '#Reflect': 1, '#WOD': 1, '#islam!': 1, '#HumanRights': 1, '#LatestNews:': 1, '#sacramento': 1, '#fresno': 1, '#263Chat': 1, '#Twimbos': 1, '#auspol': 1, '#FreeAmirNow': 1, '#FreeALLFour': 1, '#Hostages': 1, '#aviationaddicts': 1, '#Newyork': 1, '#Iraq': 1, '#NoIranDeal': 1, '#TedCruz2016': 1, '#security': 1, '#Sinjar:': 1, '#IS': 1, '#Snowden': 1, '#kick': 1, '#simple': 1, '#YUG': 1, '#SuryaRay': 1, '#8392': 1, '#BreakingNews': 1, '#NJ36': 1, '#NS': 1, '#Arsenal': 1, '#wcvb': 1, '#Bangladeshaffected': 1, '#BangladeshFlood': 1, '#sinkhole': 1, '#avalanche': 1, '#France': 1, '#usgs': 1, '#emsc': 1, '#Tory': 1, '#G\\x89Û_': 1, '#Flashflood': 1, '#365disasters': 1, '#629': 1, '#scichat': 1, '#Faroe': 1, '#hiroshima': 1, '#war': 1, '#atombomb': 1, '#japan': 1, '#WildHorses!': 1, '#Wahhabism': 1, '#gunsense': 1, \"#GFZ's:\": 1, '#TheaterShooting': 1, '#movietheatre': 1, '#615!': 1, '#??_????_?????': 1, '#yazidi_shingal_genocide': 1, '#EzidiGenocide': 1, '#rememberRABAA': 1, '#Clinton': 1, '#Bush': 1, '#GOP': 1, '#CBS': 1, '#WSJ': 1, '#WPO': 1, '#greatbritishbakeoff': 1, '#icelandreview': 1, '#vaginaorcake': 1, '#mudslide...': 1, '#gbbo2015': 1, '#Arkansas': 1, '#NOLA': 1, '#Chernobyl': 1, '#natural': 1, '#Japanjapan': 1, '#anonymous': 1, '#Nytimes': 1, '#jishin_e': 1, '#Minamisoma': 1, '#IranNuclearDeal': 1, '#AFP': 1, '#WPS': 1, '#Disaster.': 1, '#global': 1, '#Disaster': 1, '#failure.': 1, '#annonymous': 1, '#Reuters': 1, '#navy': 1, '#Japanese': 1, '#sizewell': 1, '#MicheleBachman': 1, '#GlobalWarming!!': 1, '#WW3': 1, '#demonization': 1, '#sydtraffic': 1, '#trafficnetwork': 1, '#KSBYNews': 1, '#OSI2016': 1, '#LosAngelesTimes': 1, '#latimes': 1, '#Kamloops': 1, '#LegionnairesDisease': 1, '#????_?????': 1, '#MuhamadJabal': 1, '#SEBEE': 1, '#losangeles': 1, '#check': 1, '#Pandemonium': 1, '#BREAKING411': 1, '#SmartNews': 1, '#shooting': 1, '#police': 1, '#8217;t': 1, '#onlinecommunities': 1, '#reddit': 1, '#amageddon': 1, '#freespeech': 1, '#Reddit': 1, '#content': 1, '#policy': 1, '#Bluehand': 1, '#PJNET': 1, '#Ebola': 1, '#sejorg': 1, '#gloucester': 1, '#capeann': 1, '#seagulls': 1, '#triciaoneill': 1, '#triciaoneillphoto': 1, '#people': 1, '#killed': 1, '#rainstorm': 1, '#Italian': 1, '#Alps': 1, \"#landslide'\": 1, '#Vancouver!!': 1, '#deadgrassandflowers': 1, '#TAFS': 1, '#FB100%': 1, '#GN': 1, '#NorthernCalifornia': 1, '#ZippedNews': 1, '#WashingtonPost': 1, '#retweet': 1, '#refugees.': 1, '#Dutton': 1, '#presser': 1, '#c4news': 1, '#RoddyPiperAutos': 1, '#News:': 1, '#hyperbole': 1, '#saintsfc': 1, '#Rio2016': 1, '#Baltimore': 1, '#Rioting': 1, '#YAHIstorical': 1, '#UndergroundRailraod': 1, '#163;163;millions.': 1, '#BHRAMABULL': 1, '#nffc': 1, \"#don'tpanic\": 1, '#UkNews': 1, '#forbes': 1, '#europe': 1, '#forbesasia': 1, '#TNN:': 1, '#ROIMentor': 1, '#yycwalks': 1, '#Zaatari': 1, '#fierce': 1, '#NoChillLukeHammings': 1, '#OilandGas': 1, '#gif': 1, '#funny': 1, '#lol': 1, '#comedy': 1, '#iFunny': 1, '#video': 1, '#image': 1, '#Occasion2B': 1, '#FDNY': 1, '#Brooklyn.': 1, '#Algeria': 1, '#LoMasVisto': 1, '#CadenaDeSeguidores': 1, '#MTSAlert': 1, '#Tribe': 1, '#horror': 1, '#millcityio': 1, '#20150613': 1, '#photo': 1, '#winter': 1, '#SouthDowns': 1, '#Hampshire': 1, '#art': 1, '#tree': 1, '#treeporn': 1, '#growingupincolorado\\x89Û\\x9d': 1, '#AMSsummer': 1, '#LakeEffect': 1, '#Snowstorm': 1, '#property': 1, '#storm:': 1, '#EventsPalmBeach.': 1, '#TWCNews': 1, '#ncwx': 1, '#NASA': 1, '#solar': 1, '#Amazon': 1, '#foot': 1, '#adjust': 1, '#shape': 1, '#shoe': 1, '#stopevictions': 1, '#Homs': 1, '#GRupdates': 1, '#Tripoli': 1, '#saudiarabia': 1, '#deai': 1, '#KPPolice.': 1, '#Kuwait': 1, '#books': 1, '#Autoinsurance': 1, '#healthinsurance': 1, '#Nagasaki.': 1, '#OTD': 1, '#TBT': 1, '#nuclearweapons': 1, '#coppednews': 1, '#nuke': 1, '#Cubs': 1, '#Politics': 1, '#Elections': 1, '#AcheDin': 1, '#Bethlehem': 1, '#UdhampurAgain': 1, '#TRAITOR': 1, '#Gander.': 1, '#nlwx': 1, '#Skywarn': 1, '#OKwx': 1, '#scwx': 1, '#lightning': 1, '#lightningstrike': 1, '#thunderstorm': 1, '#nature': 1, '#Helsinki\\x89Û_': 1, '#pod': 1, '#TopStories': 1, '#Jamaica': 1, '#NissanNews': 1, '#PTSDchat': 1, '#childhood': 1, '#trauma.': 1, '#Prez.': 1, '#nopower': 1, '#thankU': 1, '#Banking': 1, '#bitcoing': 1, '#blockchain': 1, '#Toronto': 1, '#Breaking144': 1, '#AceNewsDesk': 1, '#GeneralNews': 1, '#international': 1, '#ABCNews': 1, \"#Ferguson's\": 1, '#travel': 1, '#CecilTheLion': 1, '#BADChoices': 1, '#BANTROPHYHUNTING': 1, '#Aogashima': 1, '#perspective': 1, '#CSismica': 1, '#WorldWatchesFerguson': 1, '#OTRAMETLIFE': 1, '#professional': 1, '#help!': 1, '#terror': 1, '#Cameroon': 1, '#Whitehouse': 1, '#ES': 1, '#FR': 1, '#Nigeria': 1, '#DE': 1, '#AU': 1, '#JP': 1, '#Syria.': 1, '#USWarCrimes': 1, '#Battlefield': 1, '#tubestrike': 1, '#whirlwind': 1, '#drained': 1, '#snooker': 1, '#fires': 1, '#wild': 1, '#SanOnofre': 1, '#FOXDebateQuestions:': 1, '#ProfitToThePeople': 1, '#FingerRockFire': 1, '#azwx': 1, '#CAFire': 1, '#arts': 1, '#smem': 1, '#FireNews': 1, '#WA': 1, '#UTFire': 1, '#Lancaster': 1, '#helicopter': 1, '#firefighting': 1, '#oregon': 1, '#easternoregon\\x89Û_': 1, '#CalWildfires': 1, '#Paramedic': 1, '#EMS': 1, '#Insurance': 1, '#ems': 1, '#yyc!': 1, '#WindStorm': 1, '#BeSafe': 1, '#AN247': 1, '#client': 1, '#Latestnews]': 1, '#JonathanFerrell': 1, '#EndOccupation': 1, '#EndConflict': 1, '#FreeKashmir': 1, '#KashmirConflict': 1, '#TWCNewsCLT': 1, '#shoalstraffic': 1, '#emmerdale': 1, '#najibrazak': 1, '#MalaysiaAirlines': 1, '#tnwx': 1, '#NWS': 1, '#BathAndNorthEastSomerset': 1, '#LA': 1})\n"
     ]
    },
    {
     "data": {
      "application/javascript": [
       "\n",
       "            setTimeout(function() {\n",
       "                var nbb_cell_id = 144;\n",
       "                var nbb_unformatted_code = \"from collections import Counter\\n\\nhash_tags_disaster = []\\nfor i in Diaster[\\\"hash_tags\\\"]:\\n    for j in i:\\n        hash_tags_disaster.append(j)\\n\\nprint(Counter(hash_tags_disaster))\";\n",
       "                var nbb_formatted_code = \"from collections import Counter\\n\\nhash_tags_disaster = []\\nfor i in Diaster[\\\"hash_tags\\\"]:\\n    for j in i:\\n        hash_tags_disaster.append(j)\\n\\nprint(Counter(hash_tags_disaster))\";\n",
       "                var nbb_cells = Jupyter.notebook.get_cells();\n",
       "                for (var i = 0; i < nbb_cells.length; ++i) {\n",
       "                    if (nbb_cells[i].input_prompt_number == nbb_cell_id) {\n",
       "                        if (nbb_cells[i].get_text() == nbb_unformatted_code) {\n",
       "                             nbb_cells[i].set_text(nbb_formatted_code);\n",
       "                        }\n",
       "                        break;\n",
       "                    }\n",
       "                }\n",
       "            }, 500);\n",
       "            "
      ],
      "text/plain": [
       "<IPython.core.display.Javascript object>"
      ]
     },
     "metadata": {},
     "output_type": "display_data"
    }
   ],
   "source": [
    "from collections import Counter\n",
    "\n",
    "hash_tags_disaster = []\n",
    "for i in Diaster[\"hash_tags\"]:\n",
    "    for j in i:\n",
    "        hash_tags_disaster.append(j)\n",
    "\n",
    "print(Counter(hash_tags_disaster))"
   ]
  },
  {
   "cell_type": "code",
   "execution_count": 145,
   "id": "6794cfb8",
   "metadata": {
    "ExecuteTime": {
     "end_time": "2021-07-13T04:43:57.613405Z",
     "start_time": "2021-07-13T04:43:57.585802Z"
    }
   },
   "outputs": [
    {
     "name": "stdout",
     "output_type": "stream",
     "text": [
      "Counter({'#hot': 17, '#prebreak': 17, '#best': 17, '#news': 15, '#GBBO': 13, '#nowplaying': 10, '#jobs': 9, '#NowPlaying': 9, '#EDM': 8, '#DnB': 8, '#Beyhive': 8, '#Directioners': 8, '#RT': 7, '#Dubstep': 7, '#TrapMusic': 7, '#Dance': 7, '#Ices\\x89Û_': 7, '#islam': 7, '#animalrescue': 7, '#MTVHottest': 6, '#Nursing': 6, '#Handbag': 5, '#Womens': 5, '#job': 5, '#Seattle': 5, '#Emmerdale': 5, '#Fashion': 5, '#Jobs': 5, '#Job': 5, '#News': 5, '#LGBT': 4, '#kindle': 4, '#fashion': 4, '#IranDeal': 4, '#BlueJays': 4, '#Chemical': 4, '#Dependency': 4, '#business': 4, '#technology': 4, '#course': 4, '#SoundCloud': 4, '#np': 4, '#SummerFate': 4, '#Hiring': 4, '#ProphetMuhammad': 4, '#art': 4, '#Afterlife': 4, '#islam!': 4, '#7': 4, '#RAmag.': 4, '#Models': 4, '#Mayhem': 4, '#nsfw': 3, '#Mets': 3, '#PBBan': 3, '#ARMAGEDDON': 3, '#UltimaLucha': 3, '#US': 3, '#TBT': 3, '#BB17': 3, '#hiring': 3, '#HarryBeCareful': 3, '#cool': 3, '#rockin': 3, '#ArtistsUnited': 3, '#FETTILOOTCH': 3, '#SLANGLUCCI': 3, '#emmerdale': 3, '#tubestrike': 3, '#Military': 3, '#1': 3, '#GamerGate': 3, '#hiring!': 3, '#veterans': 3, '#OTRAMETLIFE': 3, '#sex': 3, '#Allah': 3, '#shoes': 3, '#PantherAttack': 3, '#military': 3, '#RIOT': 3, '#BlowMandyUp': 3, '#oil': 3, '#BBC': 3, '#CNN': 3, '#Islam': 3, '#Truth': 3, '#god': 3, '#ISIS': 3, '#terrorism': 3, '#Quran': 3, '#Lies': 3, '#KerrickTrial': 3, '#mufc': 2, '#gilbert23': 2, '#DoubleCups': 2, '#Love': 2, '#TrueLove': 2, '#romance': 2, '#Voodoo': 2, '#seduction': 2, '#Astrology': 2, '#RTRRT': 2, '#LOTZ': 2, '#apocalypse': 2, '#Armageddon': 2, '#5SOSFAM': 2, '#VideoVeranoMTV': 2, '#NHL': 2, '#GOPDebate': 2, '#world': 2, '#socialmedia': 2, '#listenlive': 2, '#handbag': 2, '#style': 2, '#arts': 2, '#oped': 2, '#ENGvAUS': 2, '#infosec': 2, '#LoseIt': 2, '#atk': 2, '#StandwithPP': 2, '#Denver': 2, '#preparedness': 2, '#IMDb': 2, '#savebees': 2, '#Radio': 2, '#Vancouver': 2, '#Tech': 2, '#innovation': 2, '#Listen': 2, '#WorstSummerJob': 2, '#nikeplus:': 2, '#fitness': 2, '#\\x89Û_': 2, '#USA': 2, '#AFC': 2, '#AskCharley': 2, '#CecilTheLion': 2, '#Demolition': 2, '#AllLivesMatter': 2, '#IdentityTheft': 2, '#Kindle': 2, '#Destroy': 2, '#Free': 2, '#thisiswhywecanthavenicethings': 2, '#bancodeseries': 2, '#MissionHills': 2, '#Healthcare': 2, '#Kodiak': 2, '#FIFA16': 2, '#TubeStrike': 2, '#photo': 2, '#puppy': 2, '#tcot': 2, '#LuchaUnderground': 2, '#priceless': 2, '#FARRAKHAN': 2, '#QUOTE': 2, '#wealth': 2, '#forever': 2, '#Hellfire': 2, '#Reflect': 2, '#Cowboys:': 2, '#4PlayThursdays.': 2, '#NoSurrender': 2, '#blessed': 2, '#ushanka': 2, '#environment': 2, '#BakeOffFriends': 2, '#nuclear': 2, '#JonVoyage': 2, '#startup': 2, '#onlinecommunities': 2, '#reddit': 2, '#radiation': 2, '#refugees': 2, '#360WiseNews': 2, '#quote': 2, '#trading': 2, '#forex': 2, '#MetroFmTalk': 2, '#Chile': 2, '#traumatised': 2, '#thankU': 2, '#sing': 2, '#tsunami': 2, '#computer': 2, '#TheGame': 2, '#Trump': 2, '#Sale': 2, '#metal': 1, '#NowPlaying:': 1, '#personalinjury': 1, '#solicitor': 1, '#OtleyHour': 1, '#stlouis': 1, '#caraccidentlawyer': 1, '#ArrestPastorNganga': 1, '#GrowingUpSpoiled': 1, '#WisdomWed': 1, '#lifehacks': 1, '#silverwood': 1, '#aftershock': 1, '##book': 1, '#now': 1, '#wdyouth': 1, '#biblestudy': 1, '#justsaying': 1, '#randomthought': 1, '#ems': 1, '#paramedics': 1, '#ambulance': 1, '#FantasticFour/#Fant4stic/whatever': 1, '#LGM': 1, '#AZ:': 1, '#WildHorses': 1, '#TantoNationalForest!': 1, '#SaltRiverWildHorses': 1, '#sciencefiction': 1, '#warmbodies': 1, '#etcPB': 1, '#1008pla\\x89Û_': 1, '#eonlinechat': 1, '#1008planet\\x89Û_': 1, '#startrek': 1, '#tos': 1, '#Entertainment': 1, '#BruceWillis': 1, '#DVD': 1, '#eBay': 1, '#Auction': 1, '#PREPPERS': 1, '#DOOMSDAY': 1, '#shtf': 1, '#preppertalk': 1, '#survival': 1, '#2A': 1, '#prepper': 1, '#Christians': 1, '#Israel': 1, '#CUFI):': 1, '#preseasonworkouts': 1, '#InterestRateRise\\x89Û\\x9d': 1, '#TheReal': 1, '#Queens': 1, '#FanArmyFaceOff': 1, '#IndiaKoMunTorJawabDo': 1, '#MTVSummerStar': 1, '#NOWPLAYING': 1, '#cbcto': 1, '#Vegetarian': 1, '#Vegan': 1, '#GoVegan': 1, '#UniteBlue': 1, '#Spotlight': 1, '#WNIAGospel': 1, '#7NewsAdl': 1, '#tbt': 1, '#pugprobs': 1, '#robotcoingame': 1, '#Bitcoin': 1, '#FreeBitcoin': 1, '#WeLoveLA': 1, '#NHLDucks': 1, '#SportsRoadhouse': 1, '#Colorado': 1, '#Avalanche': 1, '#Hockey': 1, '#171': 1, '#weddinghour': 1, '#entretenimento': 1, '#Video': 1, '#124)': 1, '#BTS': 1, '#Avalanche:': 1, '#Tb': 1, '#throwback': 1, '#SFGiants': 1, '#DU19': 1, '#Warcraft': 1, '#LonePine': 1, '#Gallipoli': 1, '#WW1': 1, '#NewsInTweets': 1, '#frontpage:': 1, '#Bioterror': 1, '#RickPerry': 1, '#BreakingNews': 1, '#dvd': 1, '#Pathogen': 1, '#Bioterrorism': 1, '#Infectious': 1, '#Ebola': 1, '#digitalhealth': 1, '#hcsm': 1, '#raisinfingers': 1, '#Family': 1, '#Cleveland': 1, '#StandUp': 1, '#thisispublichealth': 1, '#ArtisteOfTheWeekFact': 1, '#Conversations': 1, '#coast2coastdjs': 1, '#Jiwonle': 1, '#HipHop': 1, '#ClubBanger': 1, '#Weddings': 1, '#stoponesounds': 1, '#airwaves': 1, '#Hinatobot': 1, '#escorts': 1, '#gfe': 1, '#DUBAI': 1, '#arizona': 1, '#realestate': 1, '#oomf': 1, '#2fast2furious': 1, '#SUN': 1, '#Earth': 1, '#CatfishMTV': 1, '#WBC2015': 1, '#Catfish': 1, '#HarperANetflixShow': 1, '#elxn42': 1, '#stopharper': 1, '#doping': 1, '#ZippoLine': 1, '#moveit': 1, '#CLE': 1, '#overwatch': 1, '#LWB': 1, '#SpeakingFromExperience': 1, '#RolandoNaBeats:': 1, '#win': 1, '#bbloggers': 1, '#stephenking': 1, '#thedarktower': 1, '#boxing': 1, '#bloodymonday': 1, '#tvshowtime': 1, '#mystery': 1, '#MusicAdvisory': 1, '#givebackkalinwhiteaccount': 1, '#PiperWearsThePants': 1, '#charmed': 1, '#Republicans': 1, '#9973': 1, '#trollingtilMeekdiss': 1, '#VuzuHustle': 1, '#OVOFest': 1, '#ZIPHIMUP!': 1, '#bestseller': 1, '#concert': 1, '#moving2k15': 1, '#expertwhiner': 1, '#cutekitten': 1, '#catsofinstagram': 1, '#summerinsweden': 1, '#katt': 1, '#katterpÌ´instagram': 1, '#dumle': 1, '#dagens\\x89Û_': 1, '#Norge2040': 1, '#whatcanthedo': 1, '#MLB': 1, '#date': 1, '#AfricansInSF': 1, '#BeyondGPS': 1, '#Collapse': 1, '#Ashes': 1, '#rdg': 1, '#RedSox': 1, '#myfitnesspal': 1, '#CubsTalk': 1, '#LetsFootball': 1, '#letsFootball': 1, '#fat': 1, '#burnfat': 1, '#skinny': 1, '#workout': 1, '#ika': 1, '#tuning': 1, '#diet': 1, '#KCA': 1, '#VoteJKT48ID': 1, '#BooRadleyVanCullen': 1, '#spain': 1, '#FrancisUnderwood': 1, '#HoC': 1, '#casualties': 1, '#Wave': 1, '#Casualty': 1, '#AIDS?:': 1, '#amicospizzato': 1, '#seeyouatamicos...': 1, '#Homealone2': 1, '#film4': 1, '#France': 1, '#Russia': 1, '#Diversification': 1, '#pjnet': 1, '#tcotåÊ#ccot': 1, '#Borrowers': 1, '#interest': 1, '#catastrophe': 1, '#iphone': 1, '#twist': 1, '#VMAs': 1, '#PixelsMovie': 1, '#Insurance': 1, '#Job:': 1, '#spark': 1, '#song': 1, '#Catastrophe': 1, '#Results': 1, '#gbbo': 1, '#Wolves': 1, '#SaveDenaliWolves': 1, '#real': 1, '#PieceOfMe': 1, '#Defendant': 1, '#Catastrophic': 1, '#watersafety': 1, '#USAR2015': 1, '#USAR15': 1, '#RUOR': 1, '#???????????': 1, '#Savebees': 1, '#yr': 1, '#heat.': 1, '#cold': 1, '#tough': 1, '#crossfit...': 1, '#Humble': 1, '#thinkpink': 1, '#magichairbump': 1, '#Internet': 1, '#Nieuws': 1, '#ROH3': 1, '#JFB': 1, '#TFB': 1, '#alrasyid448ItuRasya': 1, '#ROH3SmantiBatam': 1, '#I': 1, '#after': 1, '#love': 1, '#pluto': 1, '#nlccollide': 1, '#wogc': 1, '#ISEA2015': 1, \"#wattys2015'\": 1, '#Wattpad': 1, '#teenfiction': 1, '#ihave44episodesofGG': 1, '#nojoke': 1, '#yagitudeh': 1, '#simple': 1, '#Alaskaseafood': 1, '#askforalaska': 1, '#JustinBieber': 1, '#HarryStyles': 1, '#Cern': 1, '#BODY': 1, '#SHOP/COLLISION': 1, '#gadgets': 1, '#gadget': 1, '#Windows10': 1, '#modestmouseremix': 1, '#truestory': 1, '#loveyouuuu': 1, '#aintsheperty': 1, '#MrRobinson': 1, '#TheSteveHarveyShow': 1, '#Crush': 1, '#EDWING': 1, '#AyekoRadio': 1, '#NetLabel': 1, '#ElectronicMusic': 1, '#listen': 1, '#CCMusic': 1, '#france': 1, '#wine': 1, '#DC': 1, '#BC': 1, '#freedom': 1, '#donthate': 1, '#BC19': 1, '#rewatchingthepilot': 1, '#TeamScorpion': 1, '#Cyclone': 1, '#Camera': 1, '#Art': 1, '#Photography': 1, '#0215': 1, '#Vanuatu': 1, '#OOTD': 1, '#DoubleGhats': 1, '#NP': 1, '#pussy': 1, '#ass': 1, '#boobs': 1, '#asian': 1, '#nude': 1, '#QueensWharf': 1, '#Brisbane': 1, '#Govt': 1, '#Ethical': 1, '#danger': 1, '#st': 1, '#nonprofit': 1, '#IWasDisappointedBy': 1, '#dead': 1, '#summerfate': 1, '#PapiiChampoo': 1, '#Mullah': 1, '#superfood': 1, '#AdiosSuperBacterias': 1, '#baking': 1, '#cakes': 1, '#FantasticFour': 1, '#legionstrackandfield': 1, '#king': 1, '#Deluge': 1, '#Dumuzid': 1, '#Bible': 1, '#UnFML': 1, '#deluge': 1, '#GISHWHES': 1, '#b2b': 1, '#b2bagency': 1, '#ContentMarketing': 1, '#asae15': 1, '#assnchat': 1, '#MeditationByMSG': 1, '#novalismi': 1, '#badotweet': 1, '#inspiration': 1, '#Manhood.': 1, '#Android': 1, '#androidgames': 1, '#gameinsight': 1, '#Babri': 1, '#charminar': 1, '#Telangana': 1, '#funtimes': 1, '#demolished': 1, '#Patriots': 1, '#CantMakeItUp': 1, '#PatriotsNation': 1, '#Workers': 1, '#Halifax': 1, '#burnaby': 1, '#changefortheworse': 1, '#WMATA': 1, '#Metro': 1, '#sms': 1, '#IranDeal.': 1, '#FreeSikhPoliticalPrisnors': 1, '#coya': 1, '#london': 1, '#blacklivesmatter': 1, '#DONZILLA...': 1, '#Trump2016': 1, '#Adani': 1, '#Modi': 1, '#illustration': 1, '#subway': 1, '#writing': 1, '#TaxReturn?': 1, '#CRI': 1, '#robertwelch': 1, '#OnThisDay': 1, '#FREE': 1, '#Thriller': 1, '#Suspense': 1, '#amreading': 1, '#listia': 1, '#Phoenix': 1, '#Arizona': 1, '#ORShow)': 1, '#4:': 1, '#cliptv': 1, '#desolationofsmaug': 1, '#poze': 1, '#thehobbit': 1, '#Ashes2Ashes': 1, '#ShantaeForSmash': 1, '#Shantae': 1, '#ShantaeHalfGenieHero': 1, '#Nintendo': 1, '#YIAYplan': 1, '#Luck': 1, '#ReggaeBoyz': 1, '#copped': 1, '#beconfident': 1, '#AshesToAshes': 1, '#FN.': 1, '#hot#teen#nsfw#porn#milf:': 1, '#GH': 1, '#Takecare': 1, '#fly': 1, '#bored': 1, '#cats.': 1, '#destruction': 1, '#badkitty': 1, '#Russian': 1, '#ThingsIhate': 1, '#JTW': 1, '#ORapInforma': 1, '#HHBU': 1, '#soundcloud': 1, '#RossBarton': 1, '#ashes2015': 1, '#momneedscoffee': 1, '#asap': 1, '#iwontmakeit': 1, '#Benediction': 1, '#SanelessTheory': 1, \"#thriller...'\": 1, '#SciFi': 1, '#StrategicPatience': 1, '#Genocide;': 1, '#1-1ST': 1, '#rain': 1, '#scwx': 1, '#drought': 1, '#CADrought': 1, '#LakeIsabella': 1, '#Live': 1, '#AllTheKidneyBeansAndSorbet4Misha': 1, '#YES': 1, '#wattpad': 1, '#promo': 1, '#summer2k15': 1, '#ICYMI': 1, '#Annoucement': 1, '#NashsNewVideo': 1, '#anxietyproblems': 1, '#Islamic': 1, '#state': 1, '#brochure': 1, '#bomb': 1, '#cogXbox': 1, '#XboxOne': 1, '#Xbox': 1, '#Shelli???': 1, '#BB17.': 1, '#euroquake': 1, '#Shelli': 1, '#bb17': 1, '#USGS': 1, '#SM': 1, '#Sismo': 1, '#CS': 1, '#Borderlands': 1, '#Borderlands2': 1, '#OOCVG': 1, '#FTW': 1, '#Red': 1, '#Redblood': 1, '#videoclip': 1, '#SouthKorea': 1, '#37592': 1, '#international': 1, '#drjustinmazur': 1, '#tookitlikeaman': 1, '#lovemydentist': 1, '#sore': 1, '#Anchorage': 1, '#Alaska': 1, '#ProtectDenaliWolves': 1, '#Retail': 1, '#nbc15': 1, '#Families': 1, '#autism': 1, '#specialneeds': 1, '#Torrance': 1, '#followme': 1, '#RN': 1, '#Emergency': 1, '#Henderson': 1, '#job?': 1, '#Tarzana': 1, '#LiteraryCakes': 1, '#boycottBears': 1, '#Tanzania': 1, '#whocares': 1, '#nazis': 1, '#UK?': 1, '#TRC': 1, '#feelingmanly': 1, '#hitting': 1, '#load&amp;explode': 1, '#hotnewscake': 1, '#pets': 1, '#dogs': 1, '#animals': 1, '#38745:': 1, '#dating': 1, '#meet': 1, '#WORSTSUMMERJOB': 1, '#cum': 1, '#BitCoin': 1, '#Hangout': 1, '#Tampa:': 1, '#dcubecrafts': 1, '#greetingcards\\x89Û_': 1, '#Eyewitness': 1, '#UK': 1, '#UGC': 1, '#BokoHaram': 1, '#IARTG': 1, '#RWA': 1, '#tw4rw': 1, '#RRBC': 1, '#Dynamix': 1, '#education': 1, '#econom': 1, '#HSE': 1, '#GGIndependencMessage': 1, '#VisionZero': 1, '#Mystery': 1, '#Paranormal': 1, '#PerryChat': 1, '#BlackInAmerica': 1, '#GrowingUpBlack': 1, '#ChooseGod': 1, '#RestoringPaths': 1, '#TheXFiles201Days': 1, '#BestTalkRadio': 1, '#deltachildren': 1, '#instaquote': 1, '#quoteoftheday': 1, '#Disney': 1, '#WaltDisney': 1, '#auction': 1, '#CanonBringIt': 1, '#Fire': 1, '#CanonTattoo': 1, '#MN': 1, '#TheresMoreWhereThatCameFrom': 1, '#euro': 1, '#dontexpectnothing': 1, '#july': 1, '#fire': 1, '#RFP:': 1, '#fireman': 1, '#filipino': 1, '#LukeBox': 1, '#charity': 1, '#run': 1, \"#SmartTek's\": 1, '#mPERS': 1, '#safety': 1, '#gisuserPR': 1, '#geoTech': 1, '#paramedic': 1, '#EMS': 1, '#SBNation': 1, '#Flames': 1, '#PortgassDK': 1, '#RubyBot': 1, '#muaytai': 1, '#wantmyabsback': 1, '#strong': 1, '#CFC': 1, '#Floored4': 1, '#Flattened': 1, '#Muppet': 1, '#RobertCalifornia': 1, '#thereisonlysex': 1, '#HAIL': 1, '#452': 1, '#homeimprovement': 1, '#Flooding': 1, '#mmda': 1, '#FrvrGrateful': 1, '#jazz': 1, '#Music': 1, '#trees': 1, '#deep': 1, '#Lake': 1, '#forest': 1, '#SirMixAlot': 1, '#WCW': 1, '#ParkChat': 1, '#CarlilesCanoeLivery': 1, '#LoveMyJob': 1, '#OTRATMETLIFE': 1, '#PlannedParenthood': 1, '#Lifestyle': 1, '#Chelsea': 1, '#Hazard': 1, '#WE': 1, '#WholeTeam3': 1, '#WholesaleEnt': 1, '#sustainable': 1, '#what': 1, '#tribal': 1, '#foodscare': 1, '#offers2go': 1, '#NestleIndia': 1, '#Magginoodle': 1, '#ban': 1, '#humanconsumption': 1, '#greatbritishbakeoff': 1, '#SoundCloud?': 1, '#JAGM': 1, '#TOW': 1, '#mcgsecure': 1, '#FlavorChargedTea': 1, '#LH_movie': 1, '#indiefilm': 1, '#comingsoon': 1, '#Porn': 1, '#Clip!': 1, '#adult': 1, '#tube': 1, '#WakeUpFlorida...': 1, '#Floridians': 1, '#TrophyHunt': 1, '#golf': 1, '#riders': 1, '#GOP': 1, '#DisabledVeterans': 1, '#ThePartyofMeanness': 1, '#chinadotcom': 1, '#sports': 1, '#USMNT': 1, '#poster': 1, '#ergo': 1, '#cuff': 1, '#Injury.': 1, '#PFT': 1, '#NYG': 1, '#NFL': 1, '#Playoffs': 1, '#TMS7': 1, '#Worm': 1, '#Mainstage': 1, '#KRO': 1, '#tech': 1, '#Q99': 1, '#Landslide!': 1, '#89X': 1, '#landslide': 1, '#skardu': 1, '#kidsthesedays': 1, '#e\\x89Û_': 1, '#baby': 1, '#swim': 1, '#parents': 1, '#waterboarding': 1, '#lava': 1, '#shakeology': 1, '#iPhone': 1, '#034': 1, '#Lightning': 1, '#ActionMoviesTaughtUs': 1, '#auspol': 1, '#Wimbledon': 1, '#FaroeIslands': 1, '#Grindhouse': 1, '#TexasChainsawMassacre': 1, '#BeCarefulHarry': 1, '#Giveaway': 1, '#MasterChef': 1, '#RT_4_A_MENTION': 1, '#TY': 1, '#Pitchwars': 1, '#Drum': 1, '#heavy': 1, '#nasty': 1, '#tangletalk': 1, '#Amazon': 1, '#140': 1, '#3:': 1, '#winter': 1, '#russian': 1, '#cossack': 1, '#HillaryClinton': 1, '#Author': 1, '#Interview': 1, '#Gravity': 1, '#Mom': 1, '#TalkRadio': 1, '#tomclancy': 1, '#britishbakeoff': 1, '#paulhollywood': 1, '#mudslide': 1, '#AskConnor': 1, '#NoNuclearIran': 1, '#BadIranDeal': 1, '##fukushima': 1, \"#GE's\": 1, '#robot': 1, '#winechat': 1, '#Subs': 1, '#Chernobyl': 1, '#RichHomeyDon': 1, '#Swag': 1, '#LIKES': 1, '#fun': 1, '#instagramers': 1, '#KneelBot': 1, '#LOL': 1, '#gym': 1, '#gymflow': 1, '#gymtime': 1, '#team': 1, '#assassins\\x89Û_': 1, '#ovofest': 1, '#MicheleBachman': 1, '#GlobalWarming!!': 1, '#Zimmerman': 1, '#byebyesoundcloud': 1, '#TeamHennessy': 1, '#NJ': 1, \"#SLAB's\": 1, '#Labour': 1, '#Labourleadership': 1, '#obliteration': 1, '#Homosexuality': 1, '#entrepreneur': 1, '#management': 1, '#leadership': 1, '#smallbiz': 1, '#CopaLibertadores': 1, '#Pandemonium.iso': 1, '#BennyCapricon': 1, '#Shestooyoung': 1, '#cumshot': 1, '#porn': 1, '#video': 1, '#porno': 1, '#free': 1, '#justaguess': 1, '#Deals_UK': 1, '#autismawareness': 1, '#TroubleOnMyMind': 1, '#Royals': 1, '#NatsNation': 1, '#dream': 1, '#magic': 1, '#linden': 1, '#HS2': 1, '#romanticsuspense': 1, '#BAYONETS': 1, '#EvilEmpire': 1, '#JadeHelm15': 1, '#PP15000266818]': 1, '#pdx911': 1, '#helpme': 1, '#Facebook': 1, '#strategy': 1, '#Technology': 1, '#technews': 1, '#puledo_tech_update': 1, '#Bangalore': 1, '#Startups': 1, '#in': 1, '#wired': 1, '#cc': 1, '#amageddon': 1, '#freespeech': 1, '#emergency': 1, '#procedures': 1, '#06': 1, '#24': 1, '#09': 1, '#CCOT': 1, '#TCOT': 1, '#IWK!': 1, '#lucky': 1, '#NewRelease': 1, '#Castle': 1, '#Dutton': 1, '#Abbott': 1, '#LNP': 1, '#CHOPPERGATE!#BRONWYNBISHOP!#AUSPOL': 1, '#christianvalues': 1, '#Turkish': 1, '#Syrian': 1, '#wedding': 1, '#Age': 1, '#KelbyTomlinson': 1, '#NewBeginningsAnimalRescue': 1, '#PPact': 1, '#psychrewatch': 1, '#summervibes': 1, '#california': 1, '#pitmix': 1, '#rescued': 1, '#brixton': 1, '#banksy': 1, '#happy': 1, '#mybabies': 1, '#Skyrim': 1, '#enkelbiljett': 1, '#menolippu': 1, '#childhooddefined': 1, '#menswear': 1, '#urbanfashion\\x89Û_': 1, '#LoveIsLove': 1, '#Baltimore': 1, '#Rioting': 1, '#YAHIstorical': 1, '#UndergroundRailraod': 1, '#crazyideascollege': 1, '#p2': 1, '#MTA': 1, '#Sorrybutitstrue': 1, '#yes': 1, '#minions': 1, '#CedarGlade2015': 1, '#AddTexasToNext1DTour': 1, '#FunnyDadCoach': 1, '#IDOLS': 1, '#22DAYS': 1, '#WDYM': 1, '#Thankyou!': 1, '#gas': 1, '#cyber': 1, '#EY': 1, '#???????': 1, '#Somalia': 1, '#follow!': 1, '#maps': 1, '#kml': 1, '#seismic': 1, '#offshore': 1, '#accidentalprophecy': 1, '#sinkhole': 1, '#piling': 1, '#funny': 1, '#priorities': 1, '#TNA': 1, '#DestinationIMPACT': 1, '#goodbye': 1, '#sinking': 1, '#twins': 1, '#wishlist': 1, '#liveonstreamate!': 1, '#askH3cz': 1, '#SirensIcebreaker': 1, '#abc7eyewitness': 1, '#HometownGlory': 1, '#radio': 1, '#painting': 1, '#AoMS': 1, '#ibooklove': 1, '#bookboost': 1, '#SouthDowns': 1, '#Hampshire': 1, '#Winter': 1, '#photography': 1, '#tree': 1, '#treescape': 1, '#treeporn': 1, \"#Rome's\": 1, '#gamefeed': 1, '#VideoGame': 1, '#SportingGoods': 1, '#Stretcher': 1, '#preventative': 1, '#CTS': 1, '#ArrestpastorNganga': 1, '#investing': 1, '#money': 1, '#gold': 1, '#silver': 1, '#tootrue': 1, '#ThomasSMonson': 1, '#LDS': 1, '#Mormon': 1, '#teamsurvivors': 1, '#zombiefunrun2014': 1, '#Autoinsurance': 1, '#driverlesscars': 1, '#Markets': 1, '#Money': 1, '#holomua': 1, '#makinmemories': 1, '#Chronicillness': 1, '#MyLifeStory': 1, '#LungCancer': 1, '#Shanghai': 1, '#China': 1, '#??': 1, '#Newsarama': 1, '#Pakistan\\x89Ûªs': 1, '#Anti-Terrorism': 1, '#Act': 1, '#4': 1, '#keepingtheviginaclean': 1, \"#metrofmtalk'\": 1, '#DFIR': 1, '#ThreatIntel': 1, '#drones': 1, '#privacy': 1, '#BHUSA': 1, '#PlayingNow': 1, '#BLOODBOUND': 1, '#JoeStrong': 1, '#GoKitGo': 1, '#thunder': 1, '#SoothMySlumber': 1, '#WATERMELOANN': 1, '#populardemand': 1, \"#she's\": 1, '#back': 1, '#Oklahoma': 1, '#Thunder': 1, '#NBA': 1, '#Durant': 1, '#VivaArgentina': 1, '#TornadoGiveaway': 1, '#thebookclub': 1, '#quotes': 1, '#ZippedNews': 1, '#entertainment': 1, '#newsdict': 1, '#NZ': 1, '#HugoMatz': 1, '#ptsdchat': 1, '#gravitychat': 1, '#Marijuana': 1, '#PTSD': 1, '#hempoil': 1, '#cannabis': 1, '#marijuana\\x89Û_': 1, '#FOAMed': 1, '#FOAMcc': 1, '#survivors': 1, '#oneborn': 1, '#snapchatselfie': 1, '#wrongperson': 1, '#VarageSale': 1, '#theBargain': 1, '#Fartanxiety': 1, '#BBShelli': 1, '#OKTXDUO': 1, '#iHeartRadio': 1, '#toosoon': 1, '#TwisterLovesShania': 1, '#elderly': 1, '#companionship': 1, '#care': 1, '#Chester': 1, '#Sydney': 1, '#Aus': 1, '#Tigers': 1, '#orcot': 1, '#orpol': 1, '#CityofMemphis': 1, '#LittleWomenLA': 1, '#GrowingupBlack': 1, '#InsaneLimits': 1, '#plugin': 1, '#gunsense': 1, '#Mandela': 1, '#Kick': 1, '#Gunsense': 1, '#ineedexposure': 1, '#OjouBot': 1, '#phone': 1, '#gaming': 1, '#tv': 1, '#bookmobile': 1, '#libraries': 1, '#reading': 1, '#bigbrother': 1, '#ch4': 1, '#FinsUp': 1, '#Security': 1, '#mantra': 1, '#Whirlwind': 1, '#RemyMarcel': 1, '#FroFroFro\\x89Û_': 1, '#Titania': 1, '#cantwaittoplayinminneapolis': 1, '#picthis': 1, '#Toronto.': 1, '#Vail': 1, '#GalvNews': 1, '#nook': 1, '#books': 1, '#TheBachelorette': 1, '#insurance': 1, '#WZBT': 1, '#politics': 1, '#txlege': 1, '#twia': 1, '#Hardball': 1, '#Insurance:': 1, '#datingtips': 1, '#goodreads': 1, '#NoMoreHandouts': 1, '#KindleCountdown': 1, '#MFRWauthor': 1, '#MGTAB': 1, '#9': 1, '#JonathanFerrell': 1, '#BishopFred': 1, '#neverforget': 1, '#c4news': 1, '#artectura': 1, '#pop2015': 1, '#Nå¼36': 1, '#music': 1, '#playlist': 1, '#YouTube': 1, '#thatswhatfriendsarefor': 1, '#til_now': 1, '#CNBC': 1, '#residualincome': 1, '#mlm': 1, '#wrecked': 1, '#cnbc': 1, '#topnews': 1, '#whoops': 1, '#FX': 1, '#explodingkittens\\x89Û_': 1})\n"
     ]
    },
    {
     "data": {
      "application/javascript": [
       "\n",
       "            setTimeout(function() {\n",
       "                var nbb_cell_id = 145;\n",
       "                var nbb_unformatted_code = \"from collections import Counter\\n\\nhash_tags_non_disaster = []\\nfor i in Non_Disaster[\\\"hash_tags\\\"]:\\n    for j in i:\\n        hash_tags_non_disaster.append(j)\\n\\nprint(Counter(hash_tags_non_disaster))\";\n",
       "                var nbb_formatted_code = \"from collections import Counter\\n\\nhash_tags_non_disaster = []\\nfor i in Non_Disaster[\\\"hash_tags\\\"]:\\n    for j in i:\\n        hash_tags_non_disaster.append(j)\\n\\nprint(Counter(hash_tags_non_disaster))\";\n",
       "                var nbb_cells = Jupyter.notebook.get_cells();\n",
       "                for (var i = 0; i < nbb_cells.length; ++i) {\n",
       "                    if (nbb_cells[i].input_prompt_number == nbb_cell_id) {\n",
       "                        if (nbb_cells[i].get_text() == nbb_unformatted_code) {\n",
       "                             nbb_cells[i].set_text(nbb_formatted_code);\n",
       "                        }\n",
       "                        break;\n",
       "                    }\n",
       "                }\n",
       "            }, 500);\n",
       "            "
      ],
      "text/plain": [
       "<IPython.core.display.Javascript object>"
      ]
     },
     "metadata": {},
     "output_type": "display_data"
    }
   ],
   "source": [
    "from collections import Counter\n",
    "\n",
    "hash_tags_non_disaster = []\n",
    "for i in Non_Disaster[\"hash_tags\"]:\n",
    "    for j in i:\n",
    "        hash_tags_non_disaster.append(j)\n",
    "\n",
    "print(Counter(hash_tags_non_disaster))"
   ]
  },
  {
   "cell_type": "code",
   "execution_count": 146,
   "id": "ac765317",
   "metadata": {
    "ExecuteTime": {
     "end_time": "2021-07-13T04:43:58.597540Z",
     "start_time": "2021-07-13T04:43:58.482017Z"
    }
   },
   "outputs": [
    {
     "data": {
      "text/plain": [
       "<AxesSubplot:xlabel='target', ylabel='count'>"
      ]
     },
     "execution_count": 146,
     "metadata": {},
     "output_type": "execute_result"
    },
    {
     "data": {
      "image/png": "[encoded data removed]",
      "text/plain": [
       "<Figure size 432x288 with 1 Axes>"
      ]
     },
     "metadata": {
      "needs_background": "light"
     },
     "output_type": "display_data"
    },
    {
     "data": {
      "application/javascript": [
       "\n",
       "            setTimeout(function() {\n",
       "                var nbb_cell_id = 146;\n",
       "                var nbb_unformatted_code = \"sns.countplot(data=train, x=\\\"target\\\")\";\n",
       "                var nbb_formatted_code = \"sns.countplot(data=train, x=\\\"target\\\")\";\n",
       "                var nbb_cells = Jupyter.notebook.get_cells();\n",
       "                for (var i = 0; i < nbb_cells.length; ++i) {\n",
       "                    if (nbb_cells[i].input_prompt_number == nbb_cell_id) {\n",
       "                        if (nbb_cells[i].get_text() == nbb_unformatted_code) {\n",
       "                             nbb_cells[i].set_text(nbb_formatted_code);\n",
       "                        }\n",
       "                        break;\n",
       "                    }\n",
       "                }\n",
       "            }, 500);\n",
       "            "
      ],
      "text/plain": [
       "<IPython.core.display.Javascript object>"
      ]
     },
     "metadata": {},
     "output_type": "display_data"
    }
   ],
   "source": [
    "sns.countplot(data=train, x=\"target\")"
   ]
  },
  {
   "cell_type": "code",
   "execution_count": 147,
   "id": "13f56f41",
   "metadata": {
    "ExecuteTime": {
     "end_time": "2021-07-13T04:44:01.968795Z",
     "start_time": "2021-07-13T04:44:01.938257Z"
    }
   },
   "outputs": [
    {
     "data": {
      "text/html": [
       "<div>\n",
       "<style scoped>\n",
       "    .dataframe tbody tr th:only-of-type {\n",
       "        vertical-align: middle;\n",
       "    }\n",
       "\n",
       "    .dataframe tbody tr th {\n",
       "        vertical-align: top;\n",
       "    }\n",
       "\n",
       "    .dataframe thead th {\n",
       "        text-align: right;\n",
       "    }\n",
       "</style>\n",
       "<table border=\"1\" class=\"dataframe\">\n",
       "  <thead>\n",
       "    <tr style=\"text-align: right;\">\n",
       "      <th></th>\n",
       "      <th>id</th>\n",
       "      <th>keyword</th>\n",
       "      <th>location</th>\n",
       "      <th>text</th>\n",
       "      <th>target</th>\n",
       "      <th>text_len</th>\n",
       "      <th>word_count</th>\n",
       "      <th>hash_tags</th>\n",
       "    </tr>\n",
       "  </thead>\n",
       "  <tbody>\n",
       "    <tr>\n",
       "      <th>0</th>\n",
       "      <td>1</td>\n",
       "      <td>-1</td>\n",
       "      <td>-1</td>\n",
       "      <td>Our Deeds are the Reason of this #earthquake M...</td>\n",
       "      <td>1</td>\n",
       "      <td>69</td>\n",
       "      <td>13</td>\n",
       "      <td>[#earthquake]</td>\n",
       "    </tr>\n",
       "    <tr>\n",
       "      <th>1</th>\n",
       "      <td>4</td>\n",
       "      <td>-1</td>\n",
       "      <td>-1</td>\n",
       "      <td>Forest fire near La Ronge Sask. Canada</td>\n",
       "      <td>1</td>\n",
       "      <td>38</td>\n",
       "      <td>7</td>\n",
       "      <td>[]</td>\n",
       "    </tr>\n",
       "    <tr>\n",
       "      <th>2</th>\n",
       "      <td>5</td>\n",
       "      <td>-1</td>\n",
       "      <td>-1</td>\n",
       "      <td>All residents asked to 'shelter in place' are ...</td>\n",
       "      <td>1</td>\n",
       "      <td>133</td>\n",
       "      <td>22</td>\n",
       "      <td>[]</td>\n",
       "    </tr>\n",
       "    <tr>\n",
       "      <th>3</th>\n",
       "      <td>6</td>\n",
       "      <td>-1</td>\n",
       "      <td>-1</td>\n",
       "      <td>13,000 people receive #wildfires evacuation or...</td>\n",
       "      <td>1</td>\n",
       "      <td>65</td>\n",
       "      <td>9</td>\n",
       "      <td>[#wildfires]</td>\n",
       "    </tr>\n",
       "    <tr>\n",
       "      <th>4</th>\n",
       "      <td>7</td>\n",
       "      <td>-1</td>\n",
       "      <td>-1</td>\n",
       "      <td>Just got sent this photo from Ruby #Alaska as ...</td>\n",
       "      <td>1</td>\n",
       "      <td>88</td>\n",
       "      <td>17</td>\n",
       "      <td>[#Alaska, #wildfires]</td>\n",
       "    </tr>\n",
       "  </tbody>\n",
       "</table>\n",
       "</div>"
      ],
      "text/plain": [
       "   id keyword location                                               text  \\\n",
       "0   1      -1       -1  Our Deeds are the Reason of this #earthquake M...   \n",
       "1   4      -1       -1             Forest fire near La Ronge Sask. Canada   \n",
       "2   5      -1       -1  All residents asked to 'shelter in place' are ...   \n",
       "3   6      -1       -1  13,000 people receive #wildfires evacuation or...   \n",
       "4   7      -1       -1  Just got sent this photo from Ruby #Alaska as ...   \n",
       "\n",
       "   target  text_len  word_count              hash_tags  \n",
       "0       1        69          13          [#earthquake]  \n",
       "1       1        38           7                     []  \n",
       "2       1       133          22                     []  \n",
       "3       1        65           9           [#wildfires]  \n",
       "4       1        88          17  [#Alaska, #wildfires]  "
      ]
     },
     "execution_count": 147,
     "metadata": {},
     "output_type": "execute_result"
    },
    {
     "data": {
      "application/javascript": [
       "\n",
       "            setTimeout(function() {\n",
       "                var nbb_cell_id = 147;\n",
       "                var nbb_unformatted_code = \"train.head()\";\n",
       "                var nbb_formatted_code = \"train.head()\";\n",
       "                var nbb_cells = Jupyter.notebook.get_cells();\n",
       "                for (var i = 0; i < nbb_cells.length; ++i) {\n",
       "                    if (nbb_cells[i].input_prompt_number == nbb_cell_id) {\n",
       "                        if (nbb_cells[i].get_text() == nbb_unformatted_code) {\n",
       "                             nbb_cells[i].set_text(nbb_formatted_code);\n",
       "                        }\n",
       "                        break;\n",
       "                    }\n",
       "                }\n",
       "            }, 500);\n",
       "            "
      ],
      "text/plain": [
       "<IPython.core.display.Javascript object>"
      ]
     },
     "metadata": {},
     "output_type": "display_data"
    }
   ],
   "source": [
    "train.head()"
   ]
  },
  {
   "cell_type": "code",
   "execution_count": 124,
   "id": "95302d8b",
   "metadata": {
    "ExecuteTime": {
     "end_time": "2021-07-13T04:42:53.791460Z",
     "start_time": "2021-07-13T04:42:53.778662Z"
    }
   },
   "outputs": [
    {
     "name": "stdout",
     "output_type": "stream",
     "text": [
      "['Solarize_Light2', '_classic_test_patch', 'bmh', 'classic', 'dark_background', 'fast', 'fivethirtyeight', 'ggplot', 'grayscale', 'seaborn', 'seaborn-bright', 'seaborn-colorblind', 'seaborn-dark', 'seaborn-dark-palette', 'seaborn-darkgrid', 'seaborn-deep', 'seaborn-muted', 'seaborn-notebook', 'seaborn-paper', 'seaborn-pastel', 'seaborn-poster', 'seaborn-talk', 'seaborn-ticks', 'seaborn-white', 'seaborn-whitegrid', 'tableau-colorblind10']\n"
     ]
    },
    {
     "data": {
      "application/javascript": [
       "\n",
       "            setTimeout(function() {\n",
       "                var nbb_cell_id = 124;\n",
       "                var nbb_unformatted_code = \"print(plt.style.available)  # Availble style sheets in Matplotlib\";\n",
       "                var nbb_formatted_code = \"print(plt.style.available)  # Availble style sheets in Matplotlib\";\n",
       "                var nbb_cells = Jupyter.notebook.get_cells();\n",
       "                for (var i = 0; i < nbb_cells.length; ++i) {\n",
       "                    if (nbb_cells[i].input_prompt_number == nbb_cell_id) {\n",
       "                        if (nbb_cells[i].get_text() == nbb_unformatted_code) {\n",
       "                             nbb_cells[i].set_text(nbb_formatted_code);\n",
       "                        }\n",
       "                        break;\n",
       "                    }\n",
       "                }\n",
       "            }, 500);\n",
       "            "
      ],
      "text/plain": [
       "<IPython.core.display.Javascript object>"
      ]
     },
     "metadata": {},
     "output_type": "display_data"
    }
   ],
   "source": [
    "print(plt.style.available)  # Availble style sheets in Matplotlib"
   ]
  },
  {
   "cell_type": "code",
   "execution_count": 152,
   "id": "15f704c8",
   "metadata": {
    "ExecuteTime": {
     "end_time": "2021-07-13T04:44:48.480730Z",
     "start_time": "2021-07-13T04:44:48.467419Z"
    }
   },
   "outputs": [
    {
     "data": {
      "application/javascript": [
       "\n",
       "            setTimeout(function() {\n",
       "                var nbb_cell_id = 152;\n",
       "                var nbb_unformatted_code = \"plt.style.use(style=\\\"seaborn-poster\\\")\";\n",
       "                var nbb_formatted_code = \"plt.style.use(style=\\\"seaborn-poster\\\")\";\n",
       "                var nbb_cells = Jupyter.notebook.get_cells();\n",
       "                for (var i = 0; i < nbb_cells.length; ++i) {\n",
       "                    if (nbb_cells[i].input_prompt_number == nbb_cell_id) {\n",
       "                        if (nbb_cells[i].get_text() == nbb_unformatted_code) {\n",
       "                             nbb_cells[i].set_text(nbb_formatted_code);\n",
       "                        }\n",
       "                        break;\n",
       "                    }\n",
       "                }\n",
       "            }, 500);\n",
       "            "
      ],
      "text/plain": [
       "<IPython.core.display.Javascript object>"
      ]
     },
     "metadata": {},
     "output_type": "display_data"
    }
   ],
   "source": [
    "plt.style.use(style=\"seaborn-poster\")"
   ]
  },
  {
   "cell_type": "code",
   "execution_count": 153,
   "id": "c252b89d",
   "metadata": {
    "ExecuteTime": {
     "end_time": "2021-07-13T04:44:49.486983Z",
     "start_time": "2021-07-13T04:44:48.993447Z"
    }
   },
   "outputs": [
    {
     "data": {
      "text/plain": [
       "<AxesSubplot:xlabel='word_count', ylabel='Count'>"
      ]
     },
     "execution_count": 153,
     "metadata": {},
     "output_type": "execute_result"
    },
    {
     "data": {
      "image/png": "[encoded data removed]",
      "text/plain": [
       "<Figure size 921.6x633.6 with 1 Axes>"
      ]
     },
     "metadata": {},
     "output_type": "display_data"
    },
    {
     "data": {
      "application/javascript": [
       "\n",
       "            setTimeout(function() {\n",
       "                var nbb_cell_id = 153;\n",
       "                var nbb_unformatted_code = \"sns.histplot(data=train, x=\\\"word_count\\\", hue=\\\"target\\\", color=\\\"green\\\")\";\n",
       "                var nbb_formatted_code = \"sns.histplot(data=train, x=\\\"word_count\\\", hue=\\\"target\\\", color=\\\"green\\\")\";\n",
       "                var nbb_cells = Jupyter.notebook.get_cells();\n",
       "                for (var i = 0; i < nbb_cells.length; ++i) {\n",
       "                    if (nbb_cells[i].input_prompt_number == nbb_cell_id) {\n",
       "                        if (nbb_cells[i].get_text() == nbb_unformatted_code) {\n",
       "                             nbb_cells[i].set_text(nbb_formatted_code);\n",
       "                        }\n",
       "                        break;\n",
       "                    }\n",
       "                }\n",
       "            }, 500);\n",
       "            "
      ],
      "text/plain": [
       "<IPython.core.display.Javascript object>"
      ]
     },
     "metadata": {},
     "output_type": "display_data"
    }
   ],
   "source": [
    "sns.histplot(data=train, x=\"word_count\", hue=\"target\", color=\"green\")"
   ]
  },
  {
   "cell_type": "code",
   "execution_count": 155,
   "id": "fee02386",
   "metadata": {
    "ExecuteTime": {
     "end_time": "2021-07-13T04:45:06.899168Z",
     "start_time": "2021-07-13T04:45:06.321081Z"
    }
   },
   "outputs": [
    {
     "data": {
      "text/plain": [
       "<AxesSubplot:xlabel='text_len', ylabel='Count'>"
      ]
     },
     "execution_count": 155,
     "metadata": {},
     "output_type": "execute_result"
    },
    {
     "data": {
      "image/png": "[encoded data removed]",
      "text/plain": [
       "<Figure size 921.6x633.6 with 1 Axes>"
      ]
     },
     "metadata": {},
     "output_type": "display_data"
    },
    {
     "data": {
      "application/javascript": [
       "\n",
       "            setTimeout(function() {\n",
       "                var nbb_cell_id = 155;\n",
       "                var nbb_unformatted_code = \"sns.histplot(data=train, x=\\\"text_len\\\", hue=\\\"target\\\", bins=100)\";\n",
       "                var nbb_formatted_code = \"sns.histplot(data=train, x=\\\"text_len\\\", hue=\\\"target\\\", bins=100)\";\n",
       "                var nbb_cells = Jupyter.notebook.get_cells();\n",
       "                for (var i = 0; i < nbb_cells.length; ++i) {\n",
       "                    if (nbb_cells[i].input_prompt_number == nbb_cell_id) {\n",
       "                        if (nbb_cells[i].get_text() == nbb_unformatted_code) {\n",
       "                             nbb_cells[i].set_text(nbb_formatted_code);\n",
       "                        }\n",
       "                        break;\n",
       "                    }\n",
       "                }\n",
       "            }, 500);\n",
       "            "
      ],
      "text/plain": [
       "<IPython.core.display.Javascript object>"
      ]
     },
     "metadata": {},
     "output_type": "display_data"
    }
   ],
   "source": [
    "sns.histplot(data=train, x=\"text_len\", hue=\"target\", bins=100)"
   ]
  },
  {
   "cell_type": "code",
   "execution_count": 156,
   "id": "7114871b",
   "metadata": {
    "ExecuteTime": {
     "end_time": "2021-07-13T04:45:14.664486Z",
     "start_time": "2021-07-13T04:45:14.641227Z"
    }
   },
   "outputs": [
    {
     "name": "stdout",
     "output_type": "stream",
     "text": [
      "Average no. of words in Diaster tweets : 15.20116172424335\n",
      "Average no. of words in Non-Diaster tweets : 14.723859972362966\n"
     ]
    },
    {
     "data": {
      "application/javascript": [
       "\n",
       "            setTimeout(function() {\n",
       "                var nbb_cell_id = 156;\n",
       "                var nbb_unformatted_code = \"print(f\\\"Average no. of words in Diaster tweets : {Diaster['word_count'].mean()}\\\")\\nprint(\\n    f\\\"Average no. of words in Non-Diaster tweets : {Non_Disaster['word_count'].mean()}\\\"\\n)\";\n",
       "                var nbb_formatted_code = \"print(f\\\"Average no. of words in Diaster tweets : {Diaster['word_count'].mean()}\\\")\\nprint(\\n    f\\\"Average no. of words in Non-Diaster tweets : {Non_Disaster['word_count'].mean()}\\\"\\n)\";\n",
       "                var nbb_cells = Jupyter.notebook.get_cells();\n",
       "                for (var i = 0; i < nbb_cells.length; ++i) {\n",
       "                    if (nbb_cells[i].input_prompt_number == nbb_cell_id) {\n",
       "                        if (nbb_cells[i].get_text() == nbb_unformatted_code) {\n",
       "                             nbb_cells[i].set_text(nbb_formatted_code);\n",
       "                        }\n",
       "                        break;\n",
       "                    }\n",
       "                }\n",
       "            }, 500);\n",
       "            "
      ],
      "text/plain": [
       "<IPython.core.display.Javascript object>"
      ]
     },
     "metadata": {},
     "output_type": "display_data"
    }
   ],
   "source": [
    "print(f\"Average no. of words in Diaster tweets : {Diaster['word_count'].mean()}\")\n",
    "print(\n",
    "    f\"Average no. of words in Non-Diaster tweets : {Non_Disaster['word_count'].mean()}\"\n",
    ")"
   ]
  },
  {
   "cell_type": "code",
   "execution_count": 157,
   "id": "fd5e5fa4",
   "metadata": {
    "ExecuteTime": {
     "end_time": "2021-07-13T04:45:19.102932Z",
     "start_time": "2021-07-13T04:45:18.945465Z"
    }
   },
   "outputs": [
    {
     "data": {
      "text/plain": [
       "<AxesSubplot:xlabel='target', ylabel='word_count'>"
      ]
     },
     "execution_count": 157,
     "metadata": {},
     "output_type": "execute_result"
    },
    {
     "data": {
      "image/png": "[encoded data removed]",
      "text/plain": [
       "<Figure size 921.6x633.6 with 1 Axes>"
      ]
     },
     "metadata": {},
     "output_type": "display_data"
    },
    {
     "data": {
      "application/javascript": [
       "\n",
       "            setTimeout(function() {\n",
       "                var nbb_cell_id = 157;\n",
       "                var nbb_unformatted_code = \"sns.boxplot(data=train, x=\\\"target\\\", y=\\\"word_count\\\")\";\n",
       "                var nbb_formatted_code = \"sns.boxplot(data=train, x=\\\"target\\\", y=\\\"word_count\\\")\";\n",
       "                var nbb_cells = Jupyter.notebook.get_cells();\n",
       "                for (var i = 0; i < nbb_cells.length; ++i) {\n",
       "                    if (nbb_cells[i].input_prompt_number == nbb_cell_id) {\n",
       "                        if (nbb_cells[i].get_text() == nbb_unformatted_code) {\n",
       "                             nbb_cells[i].set_text(nbb_formatted_code);\n",
       "                        }\n",
       "                        break;\n",
       "                    }\n",
       "                }\n",
       "            }, 500);\n",
       "            "
      ],
      "text/plain": [
       "<IPython.core.display.Javascript object>"
      ]
     },
     "metadata": {},
     "output_type": "display_data"
    }
   ],
   "source": [
    "sns.boxplot(data=train, x=\"target\", y=\"word_count\")"
   ]
  },
  {
   "cell_type": "code",
   "execution_count": 81,
   "id": "5ed983f6",
   "metadata": {
    "ExecuteTime": {
     "end_time": "2021-07-13T03:06:15.795858Z",
     "start_time": "2021-07-13T03:06:15.768301Z"
    }
   },
   "outputs": [
    {
     "data": {
      "text/plain": [
       "-1                 1458\n",
       "New York             55\n",
       "USA                  37\n",
       "London               29\n",
       "United States        23\n",
       "                   ... \n",
       "seattle wa            1\n",
       "Rafael castillo       1\n",
       "Long Beach, CA        1\n",
       "Belfast               1\n",
       "Reading UK            1\n",
       "Name: location, Length: 2143, dtype: int64"
      ]
     },
     "execution_count": 81,
     "metadata": {},
     "output_type": "execute_result"
    },
    {
     "data": {
      "application/javascript": [
       "\n",
       "            setTimeout(function() {\n",
       "                var nbb_cell_id = 81;\n",
       "                var nbb_unformatted_code = \"Non_Disaster['location'].value_counts()\";\n",
       "                var nbb_formatted_code = \"Non_Disaster[\\\"location\\\"].value_counts()\";\n",
       "                var nbb_cells = Jupyter.notebook.get_cells();\n",
       "                for (var i = 0; i < nbb_cells.length; ++i) {\n",
       "                    if (nbb_cells[i].input_prompt_number == nbb_cell_id) {\n",
       "                        if (nbb_cells[i].get_text() == nbb_unformatted_code) {\n",
       "                             nbb_cells[i].set_text(nbb_formatted_code);\n",
       "                        }\n",
       "                        break;\n",
       "                    }\n",
       "                }\n",
       "            }, 500);\n",
       "            "
      ],
      "text/plain": [
       "<IPython.core.display.Javascript object>"
      ]
     },
     "metadata": {},
     "output_type": "display_data"
    }
   ],
   "source": [
    "Non_Disaster[\"location\"].value_counts()"
   ]
  },
  {
   "cell_type": "code",
   "execution_count": 162,
   "id": "a260bd72",
   "metadata": {
    "ExecuteTime": {
     "end_time": "2021-07-13T04:48:50.020141Z",
     "start_time": "2021-07-13T04:48:43.602622Z"
    }
   },
   "outputs": [
    {
     "data": {
      "text/plain": [
       "<AxesSubplot:xlabel='location', ylabel='location'>"
      ]
     },
     "execution_count": 162,
     "metadata": {},
     "output_type": "execute_result"
    },
    {
     "name": "stderr",
     "output_type": "stream",
     "text": [
      "C:\\Users\\shank\\Anaconda3\\envs\\el-dorado\\lib\\site-packages\\matplotlib\\backends\\backend_agg.py:240: RuntimeWarning: Glyph 137 missing from current font.\n",
      "  font.set_text(s, 0.0, flags=flags)\n",
      "C:\\Users\\shank\\Anaconda3\\envs\\el-dorado\\lib\\site-packages\\matplotlib\\backends\\backend_agg.py:240: RuntimeWarning: Glyph 129 missing from current font.\n",
      "  font.set_text(s, 0.0, flags=flags)\n"
     ]
    },
    {
     "ename": "ValueError",
     "evalue": "\nM!$$!$$!PP!\n  ^\nExpected end of text, found '$'  (at char 2), (line:1, col:3)",
     "output_type": "error",
     "traceback": [
      "\u001b[1;31m---------------------------------------------------------------------------\u001b[0m",
      "\u001b[1;31mParseException\u001b[0m                            Traceback (most recent call last)",
      "\u001b[1;32m~\\Anaconda3\\envs\\el-dorado\\lib\\site-packages\\matplotlib\\_mathtext.py\u001b[0m in \u001b[0;36mparse\u001b[1;34m(self, s, fonts_object, fontsize, dpi)\u001b[0m\n\u001b[0;32m   2276\u001b[0m         \u001b[1;32mtry\u001b[0m\u001b[1;33m:\u001b[0m\u001b[1;33m\u001b[0m\u001b[1;33m\u001b[0m\u001b[0m\n\u001b[1;32m-> 2277\u001b[1;33m             \u001b[0mresult\u001b[0m \u001b[1;33m=\u001b[0m \u001b[0mself\u001b[0m\u001b[1;33m.\u001b[0m\u001b[0m_expression\u001b[0m\u001b[1;33m.\u001b[0m\u001b[0mparseString\u001b[0m\u001b[1;33m(\u001b[0m\u001b[0ms\u001b[0m\u001b[1;33m)\u001b[0m\u001b[1;33m\u001b[0m\u001b[1;33m\u001b[0m\u001b[0m\n\u001b[0m\u001b[0;32m   2278\u001b[0m         \u001b[1;32mexcept\u001b[0m \u001b[0mParseBaseException\u001b[0m \u001b[1;32mas\u001b[0m \u001b[0merr\u001b[0m\u001b[1;33m:\u001b[0m\u001b[1;33m\u001b[0m\u001b[1;33m\u001b[0m\u001b[0m\n",
      "\u001b[1;32m~\\Anaconda3\\envs\\el-dorado\\lib\\site-packages\\pyparsing.py\u001b[0m in \u001b[0;36mparseString\u001b[1;34m(self, instring, parseAll)\u001b[0m\n\u001b[0;32m   1954\u001b[0m                     \u001b[0mexc\u001b[0m\u001b[1;33m.\u001b[0m\u001b[0m__traceback__\u001b[0m \u001b[1;33m=\u001b[0m \u001b[0mself\u001b[0m\u001b[1;33m.\u001b[0m\u001b[0m_trim_traceback\u001b[0m\u001b[1;33m(\u001b[0m\u001b[0mexc\u001b[0m\u001b[1;33m.\u001b[0m\u001b[0m__traceback__\u001b[0m\u001b[1;33m)\u001b[0m\u001b[1;33m\u001b[0m\u001b[1;33m\u001b[0m\u001b[0m\n\u001b[1;32m-> 1955\u001b[1;33m                 \u001b[1;32mraise\u001b[0m \u001b[0mexc\u001b[0m\u001b[1;33m\u001b[0m\u001b[1;33m\u001b[0m\u001b[0m\n\u001b[0m\u001b[0;32m   1956\u001b[0m         \u001b[1;32melse\u001b[0m\u001b[1;33m:\u001b[0m\u001b[1;33m\u001b[0m\u001b[1;33m\u001b[0m\u001b[0m\n",
      "\u001b[1;32m~\\Anaconda3\\envs\\el-dorado\\lib\\site-packages\\pyparsing.py\u001b[0m in \u001b[0;36mparseImpl\u001b[1;34m(self, instring, loc, doActions)\u001b[0m\n\u001b[0;32m   3813\u001b[0m         \u001b[1;32mif\u001b[0m \u001b[0mloc\u001b[0m \u001b[1;33m<\u001b[0m \u001b[0mlen\u001b[0m\u001b[1;33m(\u001b[0m\u001b[0minstring\u001b[0m\u001b[1;33m)\u001b[0m\u001b[1;33m:\u001b[0m\u001b[1;33m\u001b[0m\u001b[1;33m\u001b[0m\u001b[0m\n\u001b[1;32m-> 3814\u001b[1;33m             \u001b[1;32mraise\u001b[0m \u001b[0mParseException\u001b[0m\u001b[1;33m(\u001b[0m\u001b[0minstring\u001b[0m\u001b[1;33m,\u001b[0m \u001b[0mloc\u001b[0m\u001b[1;33m,\u001b[0m \u001b[0mself\u001b[0m\u001b[1;33m.\u001b[0m\u001b[0merrmsg\u001b[0m\u001b[1;33m,\u001b[0m \u001b[0mself\u001b[0m\u001b[1;33m)\u001b[0m\u001b[1;33m\u001b[0m\u001b[1;33m\u001b[0m\u001b[0m\n\u001b[0m\u001b[0;32m   3815\u001b[0m         \u001b[1;32melif\u001b[0m \u001b[0mloc\u001b[0m \u001b[1;33m==\u001b[0m \u001b[0mlen\u001b[0m\u001b[1;33m(\u001b[0m\u001b[0minstring\u001b[0m\u001b[1;33m)\u001b[0m\u001b[1;33m:\u001b[0m\u001b[1;33m\u001b[0m\u001b[1;33m\u001b[0m\u001b[0m\n",
      "\u001b[1;31mParseException\u001b[0m: Expected end of text, found '$'  (at char 2), (line:1, col:3)",
      "\nThe above exception was the direct cause of the following exception:\n",
      "\u001b[1;31mValueError\u001b[0m                                Traceback (most recent call last)",
      "\u001b[1;32m~\\Anaconda3\\envs\\el-dorado\\lib\\site-packages\\IPython\\core\\formatters.py\u001b[0m in \u001b[0;36m__call__\u001b[1;34m(self, obj)\u001b[0m\n\u001b[0;32m    339\u001b[0m                 \u001b[1;32mpass\u001b[0m\u001b[1;33m\u001b[0m\u001b[1;33m\u001b[0m\u001b[0m\n\u001b[0;32m    340\u001b[0m             \u001b[1;32melse\u001b[0m\u001b[1;33m:\u001b[0m\u001b[1;33m\u001b[0m\u001b[1;33m\u001b[0m\u001b[0m\n\u001b[1;32m--> 341\u001b[1;33m                 \u001b[1;32mreturn\u001b[0m \u001b[0mprinter\u001b[0m\u001b[1;33m(\u001b[0m\u001b[0mobj\u001b[0m\u001b[1;33m)\u001b[0m\u001b[1;33m\u001b[0m\u001b[1;33m\u001b[0m\u001b[0m\n\u001b[0m\u001b[0;32m    342\u001b[0m             \u001b[1;31m# Finally look for special method names\u001b[0m\u001b[1;33m\u001b[0m\u001b[1;33m\u001b[0m\u001b[1;33m\u001b[0m\u001b[0m\n\u001b[0;32m    343\u001b[0m             \u001b[0mmethod\u001b[0m \u001b[1;33m=\u001b[0m \u001b[0mget_real_method\u001b[0m\u001b[1;33m(\u001b[0m\u001b[0mobj\u001b[0m\u001b[1;33m,\u001b[0m \u001b[0mself\u001b[0m\u001b[1;33m.\u001b[0m\u001b[0mprint_method\u001b[0m\u001b[1;33m)\u001b[0m\u001b[1;33m\u001b[0m\u001b[1;33m\u001b[0m\u001b[0m\n",
      "\u001b[1;32m~\\Anaconda3\\envs\\el-dorado\\lib\\site-packages\\IPython\\core\\pylabtools.py\u001b[0m in \u001b[0;36m<lambda>\u001b[1;34m(fig)\u001b[0m\n\u001b[0;32m    246\u001b[0m \u001b[1;33m\u001b[0m\u001b[0m\n\u001b[0;32m    247\u001b[0m     \u001b[1;32mif\u001b[0m \u001b[1;34m'png'\u001b[0m \u001b[1;32min\u001b[0m \u001b[0mformats\u001b[0m\u001b[1;33m:\u001b[0m\u001b[1;33m\u001b[0m\u001b[1;33m\u001b[0m\u001b[0m\n\u001b[1;32m--> 248\u001b[1;33m         \u001b[0mpng_formatter\u001b[0m\u001b[1;33m.\u001b[0m\u001b[0mfor_type\u001b[0m\u001b[1;33m(\u001b[0m\u001b[0mFigure\u001b[0m\u001b[1;33m,\u001b[0m \u001b[1;32mlambda\u001b[0m \u001b[0mfig\u001b[0m\u001b[1;33m:\u001b[0m \u001b[0mprint_figure\u001b[0m\u001b[1;33m(\u001b[0m\u001b[0mfig\u001b[0m\u001b[1;33m,\u001b[0m \u001b[1;34m'png'\u001b[0m\u001b[1;33m,\u001b[0m \u001b[1;33m**\u001b[0m\u001b[0mkwargs\u001b[0m\u001b[1;33m)\u001b[0m\u001b[1;33m)\u001b[0m\u001b[1;33m\u001b[0m\u001b[1;33m\u001b[0m\u001b[0m\n\u001b[0m\u001b[0;32m    249\u001b[0m     \u001b[1;32mif\u001b[0m \u001b[1;34m'retina'\u001b[0m \u001b[1;32min\u001b[0m \u001b[0mformats\u001b[0m \u001b[1;32mor\u001b[0m \u001b[1;34m'png2x'\u001b[0m \u001b[1;32min\u001b[0m \u001b[0mformats\u001b[0m\u001b[1;33m:\u001b[0m\u001b[1;33m\u001b[0m\u001b[1;33m\u001b[0m\u001b[0m\n\u001b[0;32m    250\u001b[0m         \u001b[0mpng_formatter\u001b[0m\u001b[1;33m.\u001b[0m\u001b[0mfor_type\u001b[0m\u001b[1;33m(\u001b[0m\u001b[0mFigure\u001b[0m\u001b[1;33m,\u001b[0m \u001b[1;32mlambda\u001b[0m \u001b[0mfig\u001b[0m\u001b[1;33m:\u001b[0m \u001b[0mretina_figure\u001b[0m\u001b[1;33m(\u001b[0m\u001b[0mfig\u001b[0m\u001b[1;33m,\u001b[0m \u001b[1;33m**\u001b[0m\u001b[0mkwargs\u001b[0m\u001b[1;33m)\u001b[0m\u001b[1;33m)\u001b[0m\u001b[1;33m\u001b[0m\u001b[1;33m\u001b[0m\u001b[0m\n",
      "\u001b[1;32m~\\Anaconda3\\envs\\el-dorado\\lib\\site-packages\\IPython\\core\\pylabtools.py\u001b[0m in \u001b[0;36mprint_figure\u001b[1;34m(fig, fmt, bbox_inches, **kwargs)\u001b[0m\n\u001b[0;32m    130\u001b[0m         \u001b[0mFigureCanvasBase\u001b[0m\u001b[1;33m(\u001b[0m\u001b[0mfig\u001b[0m\u001b[1;33m)\u001b[0m\u001b[1;33m\u001b[0m\u001b[1;33m\u001b[0m\u001b[0m\n\u001b[0;32m    131\u001b[0m \u001b[1;33m\u001b[0m\u001b[0m\n\u001b[1;32m--> 132\u001b[1;33m     \u001b[0mfig\u001b[0m\u001b[1;33m.\u001b[0m\u001b[0mcanvas\u001b[0m\u001b[1;33m.\u001b[0m\u001b[0mprint_figure\u001b[0m\u001b[1;33m(\u001b[0m\u001b[0mbytes_io\u001b[0m\u001b[1;33m,\u001b[0m \u001b[1;33m**\u001b[0m\u001b[0mkw\u001b[0m\u001b[1;33m)\u001b[0m\u001b[1;33m\u001b[0m\u001b[1;33m\u001b[0m\u001b[0m\n\u001b[0m\u001b[0;32m    133\u001b[0m     \u001b[0mdata\u001b[0m \u001b[1;33m=\u001b[0m \u001b[0mbytes_io\u001b[0m\u001b[1;33m.\u001b[0m\u001b[0mgetvalue\u001b[0m\u001b[1;33m(\u001b[0m\u001b[1;33m)\u001b[0m\u001b[1;33m\u001b[0m\u001b[1;33m\u001b[0m\u001b[0m\n\u001b[0;32m    134\u001b[0m     \u001b[1;32mif\u001b[0m \u001b[0mfmt\u001b[0m \u001b[1;33m==\u001b[0m \u001b[1;34m'svg'\u001b[0m\u001b[1;33m:\u001b[0m\u001b[1;33m\u001b[0m\u001b[1;33m\u001b[0m\u001b[0m\n",
      "\u001b[1;32m~\\Anaconda3\\envs\\el-dorado\\lib\\site-packages\\matplotlib\\backend_bases.py\u001b[0m in \u001b[0;36mprint_figure\u001b[1;34m(self, filename, dpi, facecolor, edgecolor, orientation, format, bbox_inches, pad_inches, bbox_extra_artists, backend, **kwargs)\u001b[0m\n\u001b[0;32m   2228\u001b[0m                        else suppress())\n\u001b[0;32m   2229\u001b[0m                 \u001b[1;32mwith\u001b[0m \u001b[0mctx\u001b[0m\u001b[1;33m:\u001b[0m\u001b[1;33m\u001b[0m\u001b[1;33m\u001b[0m\u001b[0m\n\u001b[1;32m-> 2230\u001b[1;33m                     \u001b[0mself\u001b[0m\u001b[1;33m.\u001b[0m\u001b[0mfigure\u001b[0m\u001b[1;33m.\u001b[0m\u001b[0mdraw\u001b[0m\u001b[1;33m(\u001b[0m\u001b[0mrenderer\u001b[0m\u001b[1;33m)\u001b[0m\u001b[1;33m\u001b[0m\u001b[1;33m\u001b[0m\u001b[0m\n\u001b[0m\u001b[0;32m   2231\u001b[0m \u001b[1;33m\u001b[0m\u001b[0m\n\u001b[0;32m   2232\u001b[0m             \u001b[1;32mif\u001b[0m \u001b[0mbbox_inches\u001b[0m\u001b[1;33m:\u001b[0m\u001b[1;33m\u001b[0m\u001b[1;33m\u001b[0m\u001b[0m\n",
      "\u001b[1;32m~\\Anaconda3\\envs\\el-dorado\\lib\\site-packages\\matplotlib\\artist.py\u001b[0m in \u001b[0;36mdraw_wrapper\u001b[1;34m(artist, renderer, *args, **kwargs)\u001b[0m\n\u001b[0;32m     72\u001b[0m     \u001b[1;33m@\u001b[0m\u001b[0mwraps\u001b[0m\u001b[1;33m(\u001b[0m\u001b[0mdraw\u001b[0m\u001b[1;33m)\u001b[0m\u001b[1;33m\u001b[0m\u001b[1;33m\u001b[0m\u001b[0m\n\u001b[0;32m     73\u001b[0m     \u001b[1;32mdef\u001b[0m \u001b[0mdraw_wrapper\u001b[0m\u001b[1;33m(\u001b[0m\u001b[0martist\u001b[0m\u001b[1;33m,\u001b[0m \u001b[0mrenderer\u001b[0m\u001b[1;33m,\u001b[0m \u001b[1;33m*\u001b[0m\u001b[0margs\u001b[0m\u001b[1;33m,\u001b[0m \u001b[1;33m**\u001b[0m\u001b[0mkwargs\u001b[0m\u001b[1;33m)\u001b[0m\u001b[1;33m:\u001b[0m\u001b[1;33m\u001b[0m\u001b[1;33m\u001b[0m\u001b[0m\n\u001b[1;32m---> 74\u001b[1;33m         \u001b[0mresult\u001b[0m \u001b[1;33m=\u001b[0m \u001b[0mdraw\u001b[0m\u001b[1;33m(\u001b[0m\u001b[0martist\u001b[0m\u001b[1;33m,\u001b[0m \u001b[0mrenderer\u001b[0m\u001b[1;33m,\u001b[0m \u001b[1;33m*\u001b[0m\u001b[0margs\u001b[0m\u001b[1;33m,\u001b[0m \u001b[1;33m**\u001b[0m\u001b[0mkwargs\u001b[0m\u001b[1;33m)\u001b[0m\u001b[1;33m\u001b[0m\u001b[1;33m\u001b[0m\u001b[0m\n\u001b[0m\u001b[0;32m     75\u001b[0m         \u001b[1;32mif\u001b[0m \u001b[0mrenderer\u001b[0m\u001b[1;33m.\u001b[0m\u001b[0m_rasterizing\u001b[0m\u001b[1;33m:\u001b[0m\u001b[1;33m\u001b[0m\u001b[1;33m\u001b[0m\u001b[0m\n\u001b[0;32m     76\u001b[0m             \u001b[0mrenderer\u001b[0m\u001b[1;33m.\u001b[0m\u001b[0mstop_rasterizing\u001b[0m\u001b[1;33m(\u001b[0m\u001b[1;33m)\u001b[0m\u001b[1;33m\u001b[0m\u001b[1;33m\u001b[0m\u001b[0m\n",
      "\u001b[1;32m~\\Anaconda3\\envs\\el-dorado\\lib\\site-packages\\matplotlib\\artist.py\u001b[0m in \u001b[0;36mdraw_wrapper\u001b[1;34m(artist, renderer, *args, **kwargs)\u001b[0m\n\u001b[0;32m     49\u001b[0m                 \u001b[0mrenderer\u001b[0m\u001b[1;33m.\u001b[0m\u001b[0mstart_filter\u001b[0m\u001b[1;33m(\u001b[0m\u001b[1;33m)\u001b[0m\u001b[1;33m\u001b[0m\u001b[1;33m\u001b[0m\u001b[0m\n\u001b[0;32m     50\u001b[0m \u001b[1;33m\u001b[0m\u001b[0m\n\u001b[1;32m---> 51\u001b[1;33m             \u001b[1;32mreturn\u001b[0m \u001b[0mdraw\u001b[0m\u001b[1;33m(\u001b[0m\u001b[0martist\u001b[0m\u001b[1;33m,\u001b[0m \u001b[0mrenderer\u001b[0m\u001b[1;33m,\u001b[0m \u001b[1;33m*\u001b[0m\u001b[0margs\u001b[0m\u001b[1;33m,\u001b[0m \u001b[1;33m**\u001b[0m\u001b[0mkwargs\u001b[0m\u001b[1;33m)\u001b[0m\u001b[1;33m\u001b[0m\u001b[1;33m\u001b[0m\u001b[0m\n\u001b[0m\u001b[0;32m     52\u001b[0m         \u001b[1;32mfinally\u001b[0m\u001b[1;33m:\u001b[0m\u001b[1;33m\u001b[0m\u001b[1;33m\u001b[0m\u001b[0m\n\u001b[0;32m     53\u001b[0m             \u001b[1;32mif\u001b[0m \u001b[0martist\u001b[0m\u001b[1;33m.\u001b[0m\u001b[0mget_agg_filter\u001b[0m\u001b[1;33m(\u001b[0m\u001b[1;33m)\u001b[0m \u001b[1;32mis\u001b[0m \u001b[1;32mnot\u001b[0m \u001b[1;32mNone\u001b[0m\u001b[1;33m:\u001b[0m\u001b[1;33m\u001b[0m\u001b[1;33m\u001b[0m\u001b[0m\n",
      "\u001b[1;32m~\\Anaconda3\\envs\\el-dorado\\lib\\site-packages\\matplotlib\\figure.py\u001b[0m in \u001b[0;36mdraw\u001b[1;34m(self, renderer)\u001b[0m\n\u001b[0;32m   2732\u001b[0m \u001b[1;33m\u001b[0m\u001b[0m\n\u001b[0;32m   2733\u001b[0m             \u001b[0mself\u001b[0m\u001b[1;33m.\u001b[0m\u001b[0mpatch\u001b[0m\u001b[1;33m.\u001b[0m\u001b[0mdraw\u001b[0m\u001b[1;33m(\u001b[0m\u001b[0mrenderer\u001b[0m\u001b[1;33m)\u001b[0m\u001b[1;33m\u001b[0m\u001b[1;33m\u001b[0m\u001b[0m\n\u001b[1;32m-> 2734\u001b[1;33m             mimage._draw_list_compositing_images(\n\u001b[0m\u001b[0;32m   2735\u001b[0m                 renderer, self, artists, self.suppressComposite)\n\u001b[0;32m   2736\u001b[0m \u001b[1;33m\u001b[0m\u001b[0m\n",
      "\u001b[1;32m~\\Anaconda3\\envs\\el-dorado\\lib\\site-packages\\matplotlib\\image.py\u001b[0m in \u001b[0;36m_draw_list_compositing_images\u001b[1;34m(renderer, parent, artists, suppress_composite)\u001b[0m\n\u001b[0;32m    130\u001b[0m     \u001b[1;32mif\u001b[0m \u001b[0mnot_composite\u001b[0m \u001b[1;32mor\u001b[0m \u001b[1;32mnot\u001b[0m \u001b[0mhas_images\u001b[0m\u001b[1;33m:\u001b[0m\u001b[1;33m\u001b[0m\u001b[1;33m\u001b[0m\u001b[0m\n\u001b[0;32m    131\u001b[0m         \u001b[1;32mfor\u001b[0m \u001b[0ma\u001b[0m \u001b[1;32min\u001b[0m \u001b[0martists\u001b[0m\u001b[1;33m:\u001b[0m\u001b[1;33m\u001b[0m\u001b[1;33m\u001b[0m\u001b[0m\n\u001b[1;32m--> 132\u001b[1;33m             \u001b[0ma\u001b[0m\u001b[1;33m.\u001b[0m\u001b[0mdraw\u001b[0m\u001b[1;33m(\u001b[0m\u001b[0mrenderer\u001b[0m\u001b[1;33m)\u001b[0m\u001b[1;33m\u001b[0m\u001b[1;33m\u001b[0m\u001b[0m\n\u001b[0m\u001b[0;32m    133\u001b[0m     \u001b[1;32melse\u001b[0m\u001b[1;33m:\u001b[0m\u001b[1;33m\u001b[0m\u001b[1;33m\u001b[0m\u001b[0m\n\u001b[0;32m    134\u001b[0m         \u001b[1;31m# Composite any adjacent images together\u001b[0m\u001b[1;33m\u001b[0m\u001b[1;33m\u001b[0m\u001b[1;33m\u001b[0m\u001b[0m\n",
      "\u001b[1;32m~\\Anaconda3\\envs\\el-dorado\\lib\\site-packages\\matplotlib\\artist.py\u001b[0m in \u001b[0;36mdraw_wrapper\u001b[1;34m(artist, renderer, *args, **kwargs)\u001b[0m\n\u001b[0;32m     49\u001b[0m                 \u001b[0mrenderer\u001b[0m\u001b[1;33m.\u001b[0m\u001b[0mstart_filter\u001b[0m\u001b[1;33m(\u001b[0m\u001b[1;33m)\u001b[0m\u001b[1;33m\u001b[0m\u001b[1;33m\u001b[0m\u001b[0m\n\u001b[0;32m     50\u001b[0m \u001b[1;33m\u001b[0m\u001b[0m\n\u001b[1;32m---> 51\u001b[1;33m             \u001b[1;32mreturn\u001b[0m \u001b[0mdraw\u001b[0m\u001b[1;33m(\u001b[0m\u001b[0martist\u001b[0m\u001b[1;33m,\u001b[0m \u001b[0mrenderer\u001b[0m\u001b[1;33m,\u001b[0m \u001b[1;33m*\u001b[0m\u001b[0margs\u001b[0m\u001b[1;33m,\u001b[0m \u001b[1;33m**\u001b[0m\u001b[0mkwargs\u001b[0m\u001b[1;33m)\u001b[0m\u001b[1;33m\u001b[0m\u001b[1;33m\u001b[0m\u001b[0m\n\u001b[0m\u001b[0;32m     52\u001b[0m         \u001b[1;32mfinally\u001b[0m\u001b[1;33m:\u001b[0m\u001b[1;33m\u001b[0m\u001b[1;33m\u001b[0m\u001b[0m\n\u001b[0;32m     53\u001b[0m             \u001b[1;32mif\u001b[0m \u001b[0martist\u001b[0m\u001b[1;33m.\u001b[0m\u001b[0mget_agg_filter\u001b[0m\u001b[1;33m(\u001b[0m\u001b[1;33m)\u001b[0m \u001b[1;32mis\u001b[0m \u001b[1;32mnot\u001b[0m \u001b[1;32mNone\u001b[0m\u001b[1;33m:\u001b[0m\u001b[1;33m\u001b[0m\u001b[1;33m\u001b[0m\u001b[0m\n",
      "\u001b[1;32m~\\Anaconda3\\envs\\el-dorado\\lib\\site-packages\\matplotlib\\_api\\deprecation.py\u001b[0m in \u001b[0;36mwrapper\u001b[1;34m(*inner_args, **inner_kwargs)\u001b[0m\n\u001b[0;32m    429\u001b[0m                          \u001b[1;32melse\u001b[0m \u001b[0mdeprecation_addendum\u001b[0m\u001b[1;33m,\u001b[0m\u001b[1;33m\u001b[0m\u001b[1;33m\u001b[0m\u001b[0m\n\u001b[0;32m    430\u001b[0m                 **kwargs)\n\u001b[1;32m--> 431\u001b[1;33m         \u001b[1;32mreturn\u001b[0m \u001b[0mfunc\u001b[0m\u001b[1;33m(\u001b[0m\u001b[1;33m*\u001b[0m\u001b[0minner_args\u001b[0m\u001b[1;33m,\u001b[0m \u001b[1;33m**\u001b[0m\u001b[0minner_kwargs\u001b[0m\u001b[1;33m)\u001b[0m\u001b[1;33m\u001b[0m\u001b[1;33m\u001b[0m\u001b[0m\n\u001b[0m\u001b[0;32m    432\u001b[0m \u001b[1;33m\u001b[0m\u001b[0m\n\u001b[0;32m    433\u001b[0m     \u001b[1;32mreturn\u001b[0m \u001b[0mwrapper\u001b[0m\u001b[1;33m\u001b[0m\u001b[1;33m\u001b[0m\u001b[0m\n",
      "\u001b[1;32m~\\Anaconda3\\envs\\el-dorado\\lib\\site-packages\\matplotlib\\axes\\_base.py\u001b[0m in \u001b[0;36mdraw\u001b[1;34m(self, renderer, inframe)\u001b[0m\n\u001b[0;32m   2923\u001b[0m             \u001b[0mrenderer\u001b[0m\u001b[1;33m.\u001b[0m\u001b[0mstop_rasterizing\u001b[0m\u001b[1;33m(\u001b[0m\u001b[1;33m)\u001b[0m\u001b[1;33m\u001b[0m\u001b[1;33m\u001b[0m\u001b[0m\n\u001b[0;32m   2924\u001b[0m \u001b[1;33m\u001b[0m\u001b[0m\n\u001b[1;32m-> 2925\u001b[1;33m         \u001b[0mmimage\u001b[0m\u001b[1;33m.\u001b[0m\u001b[0m_draw_list_compositing_images\u001b[0m\u001b[1;33m(\u001b[0m\u001b[0mrenderer\u001b[0m\u001b[1;33m,\u001b[0m \u001b[0mself\u001b[0m\u001b[1;33m,\u001b[0m \u001b[0martists\u001b[0m\u001b[1;33m)\u001b[0m\u001b[1;33m\u001b[0m\u001b[1;33m\u001b[0m\u001b[0m\n\u001b[0m\u001b[0;32m   2926\u001b[0m \u001b[1;33m\u001b[0m\u001b[0m\n\u001b[0;32m   2927\u001b[0m         \u001b[0mrenderer\u001b[0m\u001b[1;33m.\u001b[0m\u001b[0mclose_group\u001b[0m\u001b[1;33m(\u001b[0m\u001b[1;34m'axes'\u001b[0m\u001b[1;33m)\u001b[0m\u001b[1;33m\u001b[0m\u001b[1;33m\u001b[0m\u001b[0m\n",
      "\u001b[1;32m~\\Anaconda3\\envs\\el-dorado\\lib\\site-packages\\matplotlib\\image.py\u001b[0m in \u001b[0;36m_draw_list_compositing_images\u001b[1;34m(renderer, parent, artists, suppress_composite)\u001b[0m\n\u001b[0;32m    130\u001b[0m     \u001b[1;32mif\u001b[0m \u001b[0mnot_composite\u001b[0m \u001b[1;32mor\u001b[0m \u001b[1;32mnot\u001b[0m \u001b[0mhas_images\u001b[0m\u001b[1;33m:\u001b[0m\u001b[1;33m\u001b[0m\u001b[1;33m\u001b[0m\u001b[0m\n\u001b[0;32m    131\u001b[0m         \u001b[1;32mfor\u001b[0m \u001b[0ma\u001b[0m \u001b[1;32min\u001b[0m \u001b[0martists\u001b[0m\u001b[1;33m:\u001b[0m\u001b[1;33m\u001b[0m\u001b[1;33m\u001b[0m\u001b[0m\n\u001b[1;32m--> 132\u001b[1;33m             \u001b[0ma\u001b[0m\u001b[1;33m.\u001b[0m\u001b[0mdraw\u001b[0m\u001b[1;33m(\u001b[0m\u001b[0mrenderer\u001b[0m\u001b[1;33m)\u001b[0m\u001b[1;33m\u001b[0m\u001b[1;33m\u001b[0m\u001b[0m\n\u001b[0m\u001b[0;32m    133\u001b[0m     \u001b[1;32melse\u001b[0m\u001b[1;33m:\u001b[0m\u001b[1;33m\u001b[0m\u001b[1;33m\u001b[0m\u001b[0m\n\u001b[0;32m    134\u001b[0m         \u001b[1;31m# Composite any adjacent images together\u001b[0m\u001b[1;33m\u001b[0m\u001b[1;33m\u001b[0m\u001b[1;33m\u001b[0m\u001b[0m\n",
      "\u001b[1;32m~\\Anaconda3\\envs\\el-dorado\\lib\\site-packages\\matplotlib\\artist.py\u001b[0m in \u001b[0;36mdraw_wrapper\u001b[1;34m(artist, renderer, *args, **kwargs)\u001b[0m\n\u001b[0;32m     49\u001b[0m                 \u001b[0mrenderer\u001b[0m\u001b[1;33m.\u001b[0m\u001b[0mstart_filter\u001b[0m\u001b[1;33m(\u001b[0m\u001b[1;33m)\u001b[0m\u001b[1;33m\u001b[0m\u001b[1;33m\u001b[0m\u001b[0m\n\u001b[0;32m     50\u001b[0m \u001b[1;33m\u001b[0m\u001b[0m\n\u001b[1;32m---> 51\u001b[1;33m             \u001b[1;32mreturn\u001b[0m \u001b[0mdraw\u001b[0m\u001b[1;33m(\u001b[0m\u001b[0martist\u001b[0m\u001b[1;33m,\u001b[0m \u001b[0mrenderer\u001b[0m\u001b[1;33m,\u001b[0m \u001b[1;33m*\u001b[0m\u001b[0margs\u001b[0m\u001b[1;33m,\u001b[0m \u001b[1;33m**\u001b[0m\u001b[0mkwargs\u001b[0m\u001b[1;33m)\u001b[0m\u001b[1;33m\u001b[0m\u001b[1;33m\u001b[0m\u001b[0m\n\u001b[0m\u001b[0;32m     52\u001b[0m         \u001b[1;32mfinally\u001b[0m\u001b[1;33m:\u001b[0m\u001b[1;33m\u001b[0m\u001b[1;33m\u001b[0m\u001b[0m\n\u001b[0;32m     53\u001b[0m             \u001b[1;32mif\u001b[0m \u001b[0martist\u001b[0m\u001b[1;33m.\u001b[0m\u001b[0mget_agg_filter\u001b[0m\u001b[1;33m(\u001b[0m\u001b[1;33m)\u001b[0m \u001b[1;32mis\u001b[0m \u001b[1;32mnot\u001b[0m \u001b[1;32mNone\u001b[0m\u001b[1;33m:\u001b[0m\u001b[1;33m\u001b[0m\u001b[1;33m\u001b[0m\u001b[0m\n",
      "\u001b[1;32m~\\Anaconda3\\envs\\el-dorado\\lib\\site-packages\\matplotlib\\axis.py\u001b[0m in \u001b[0;36mdraw\u001b[1;34m(self, renderer, *args, **kwargs)\u001b[0m\n\u001b[0;32m   1129\u001b[0m \u001b[1;33m\u001b[0m\u001b[0m\n\u001b[0;32m   1130\u001b[0m         \u001b[0mticks_to_draw\u001b[0m \u001b[1;33m=\u001b[0m \u001b[0mself\u001b[0m\u001b[1;33m.\u001b[0m\u001b[0m_update_ticks\u001b[0m\u001b[1;33m(\u001b[0m\u001b[1;33m)\u001b[0m\u001b[1;33m\u001b[0m\u001b[1;33m\u001b[0m\u001b[0m\n\u001b[1;32m-> 1131\u001b[1;33m         ticklabelBoxes, ticklabelBoxes2 = self._get_tick_bboxes(ticks_to_draw,\n\u001b[0m\u001b[0;32m   1132\u001b[0m                                                                 renderer)\n\u001b[0;32m   1133\u001b[0m \u001b[1;33m\u001b[0m\u001b[0m\n",
      "\u001b[1;32m~\\Anaconda3\\envs\\el-dorado\\lib\\site-packages\\matplotlib\\axis.py\u001b[0m in \u001b[0;36m_get_tick_bboxes\u001b[1;34m(self, ticks, renderer)\u001b[0m\n\u001b[0;32m   1055\u001b[0m     \u001b[1;32mdef\u001b[0m \u001b[0m_get_tick_bboxes\u001b[0m\u001b[1;33m(\u001b[0m\u001b[0mself\u001b[0m\u001b[1;33m,\u001b[0m \u001b[0mticks\u001b[0m\u001b[1;33m,\u001b[0m \u001b[0mrenderer\u001b[0m\u001b[1;33m)\u001b[0m\u001b[1;33m:\u001b[0m\u001b[1;33m\u001b[0m\u001b[1;33m\u001b[0m\u001b[0m\n\u001b[0;32m   1056\u001b[0m         \u001b[1;34m\"\"\"Return lists of bboxes for ticks' label1's and label2's.\"\"\"\u001b[0m\u001b[1;33m\u001b[0m\u001b[1;33m\u001b[0m\u001b[0m\n\u001b[1;32m-> 1057\u001b[1;33m         return ([tick.label1.get_window_extent(renderer)\n\u001b[0m\u001b[0;32m   1058\u001b[0m                  for tick in ticks if tick.label1.get_visible()],\n\u001b[0;32m   1059\u001b[0m                 [tick.label2.get_window_extent(renderer)\n",
      "\u001b[1;32m~\\Anaconda3\\envs\\el-dorado\\lib\\site-packages\\matplotlib\\axis.py\u001b[0m in \u001b[0;36m<listcomp>\u001b[1;34m(.0)\u001b[0m\n\u001b[0;32m   1055\u001b[0m     \u001b[1;32mdef\u001b[0m \u001b[0m_get_tick_bboxes\u001b[0m\u001b[1;33m(\u001b[0m\u001b[0mself\u001b[0m\u001b[1;33m,\u001b[0m \u001b[0mticks\u001b[0m\u001b[1;33m,\u001b[0m \u001b[0mrenderer\u001b[0m\u001b[1;33m)\u001b[0m\u001b[1;33m:\u001b[0m\u001b[1;33m\u001b[0m\u001b[1;33m\u001b[0m\u001b[0m\n\u001b[0;32m   1056\u001b[0m         \u001b[1;34m\"\"\"Return lists of bboxes for ticks' label1's and label2's.\"\"\"\u001b[0m\u001b[1;33m\u001b[0m\u001b[1;33m\u001b[0m\u001b[0m\n\u001b[1;32m-> 1057\u001b[1;33m         return ([tick.label1.get_window_extent(renderer)\n\u001b[0m\u001b[0;32m   1058\u001b[0m                  for tick in ticks if tick.label1.get_visible()],\n\u001b[0;32m   1059\u001b[0m                 [tick.label2.get_window_extent(renderer)\n",
      "\u001b[1;32m~\\Anaconda3\\envs\\el-dorado\\lib\\site-packages\\matplotlib\\text.py\u001b[0m in \u001b[0;36mget_window_extent\u001b[1;34m(self, renderer, dpi)\u001b[0m\n\u001b[0;32m    901\u001b[0m \u001b[1;33m\u001b[0m\u001b[0m\n\u001b[0;32m    902\u001b[0m         \u001b[1;32mwith\u001b[0m \u001b[0mcbook\u001b[0m\u001b[1;33m.\u001b[0m\u001b[0m_setattr_cm\u001b[0m\u001b[1;33m(\u001b[0m\u001b[0mself\u001b[0m\u001b[1;33m.\u001b[0m\u001b[0mfigure\u001b[0m\u001b[1;33m,\u001b[0m \u001b[0mdpi\u001b[0m\u001b[1;33m=\u001b[0m\u001b[0mdpi\u001b[0m\u001b[1;33m)\u001b[0m\u001b[1;33m:\u001b[0m\u001b[1;33m\u001b[0m\u001b[1;33m\u001b[0m\u001b[0m\n\u001b[1;32m--> 903\u001b[1;33m             \u001b[0mbbox\u001b[0m\u001b[1;33m,\u001b[0m \u001b[0minfo\u001b[0m\u001b[1;33m,\u001b[0m \u001b[0mdescent\u001b[0m \u001b[1;33m=\u001b[0m \u001b[0mself\u001b[0m\u001b[1;33m.\u001b[0m\u001b[0m_get_layout\u001b[0m\u001b[1;33m(\u001b[0m\u001b[0mself\u001b[0m\u001b[1;33m.\u001b[0m\u001b[0m_renderer\u001b[0m\u001b[1;33m)\u001b[0m\u001b[1;33m\u001b[0m\u001b[1;33m\u001b[0m\u001b[0m\n\u001b[0m\u001b[0;32m    904\u001b[0m             \u001b[0mx\u001b[0m\u001b[1;33m,\u001b[0m \u001b[0my\u001b[0m \u001b[1;33m=\u001b[0m \u001b[0mself\u001b[0m\u001b[1;33m.\u001b[0m\u001b[0mget_unitless_position\u001b[0m\u001b[1;33m(\u001b[0m\u001b[1;33m)\u001b[0m\u001b[1;33m\u001b[0m\u001b[1;33m\u001b[0m\u001b[0m\n\u001b[0;32m    905\u001b[0m             \u001b[0mx\u001b[0m\u001b[1;33m,\u001b[0m \u001b[0my\u001b[0m \u001b[1;33m=\u001b[0m \u001b[0mself\u001b[0m\u001b[1;33m.\u001b[0m\u001b[0mget_transform\u001b[0m\u001b[1;33m(\u001b[0m\u001b[1;33m)\u001b[0m\u001b[1;33m.\u001b[0m\u001b[0mtransform\u001b[0m\u001b[1;33m(\u001b[0m\u001b[1;33m(\u001b[0m\u001b[0mx\u001b[0m\u001b[1;33m,\u001b[0m \u001b[0my\u001b[0m\u001b[1;33m)\u001b[0m\u001b[1;33m)\u001b[0m\u001b[1;33m\u001b[0m\u001b[1;33m\u001b[0m\u001b[0m\n",
      "\u001b[1;32m~\\Anaconda3\\envs\\el-dorado\\lib\\site-packages\\matplotlib\\text.py\u001b[0m in \u001b[0;36m_get_layout\u001b[1;34m(self, renderer)\u001b[0m\n\u001b[0;32m    312\u001b[0m             \u001b[0mclean_line\u001b[0m\u001b[1;33m,\u001b[0m \u001b[0mismath\u001b[0m \u001b[1;33m=\u001b[0m \u001b[0mself\u001b[0m\u001b[1;33m.\u001b[0m\u001b[0m_preprocess_math\u001b[0m\u001b[1;33m(\u001b[0m\u001b[0mline\u001b[0m\u001b[1;33m)\u001b[0m\u001b[1;33m\u001b[0m\u001b[1;33m\u001b[0m\u001b[0m\n\u001b[0;32m    313\u001b[0m             \u001b[1;32mif\u001b[0m \u001b[0mclean_line\u001b[0m\u001b[1;33m:\u001b[0m\u001b[1;33m\u001b[0m\u001b[1;33m\u001b[0m\u001b[0m\n\u001b[1;32m--> 314\u001b[1;33m                 w, h, d = renderer.get_text_width_height_descent(\n\u001b[0m\u001b[0;32m    315\u001b[0m                     clean_line, self._fontproperties, ismath=ismath)\n\u001b[0;32m    316\u001b[0m             \u001b[1;32melse\u001b[0m\u001b[1;33m:\u001b[0m\u001b[1;33m\u001b[0m\u001b[1;33m\u001b[0m\u001b[0m\n",
      "\u001b[1;32m~\\Anaconda3\\envs\\el-dorado\\lib\\site-packages\\matplotlib\\backends\\backend_agg.py\u001b[0m in \u001b[0;36mget_text_width_height_descent\u001b[1;34m(self, s, prop, ismath)\u001b[0m\n\u001b[0;32m    233\u001b[0m         \u001b[1;32mif\u001b[0m \u001b[0mismath\u001b[0m\u001b[1;33m:\u001b[0m\u001b[1;33m\u001b[0m\u001b[1;33m\u001b[0m\u001b[0m\n\u001b[0;32m    234\u001b[0m             \u001b[0mox\u001b[0m\u001b[1;33m,\u001b[0m \u001b[0moy\u001b[0m\u001b[1;33m,\u001b[0m \u001b[0mwidth\u001b[0m\u001b[1;33m,\u001b[0m \u001b[0mheight\u001b[0m\u001b[1;33m,\u001b[0m \u001b[0mdescent\u001b[0m\u001b[1;33m,\u001b[0m \u001b[0mfonts\u001b[0m\u001b[1;33m,\u001b[0m \u001b[0mused_characters\u001b[0m \u001b[1;33m=\u001b[0m\u001b[0;31m \u001b[0m\u001b[0;31m\\\u001b[0m\u001b[1;33m\u001b[0m\u001b[1;33m\u001b[0m\u001b[0m\n\u001b[1;32m--> 235\u001b[1;33m                 \u001b[0mself\u001b[0m\u001b[1;33m.\u001b[0m\u001b[0mmathtext_parser\u001b[0m\u001b[1;33m.\u001b[0m\u001b[0mparse\u001b[0m\u001b[1;33m(\u001b[0m\u001b[0ms\u001b[0m\u001b[1;33m,\u001b[0m \u001b[0mself\u001b[0m\u001b[1;33m.\u001b[0m\u001b[0mdpi\u001b[0m\u001b[1;33m,\u001b[0m \u001b[0mprop\u001b[0m\u001b[1;33m)\u001b[0m\u001b[1;33m\u001b[0m\u001b[1;33m\u001b[0m\u001b[0m\n\u001b[0m\u001b[0;32m    236\u001b[0m             \u001b[1;32mreturn\u001b[0m \u001b[0mwidth\u001b[0m\u001b[1;33m,\u001b[0m \u001b[0mheight\u001b[0m\u001b[1;33m,\u001b[0m \u001b[0mdescent\u001b[0m\u001b[1;33m\u001b[0m\u001b[1;33m\u001b[0m\u001b[0m\n\u001b[0;32m    237\u001b[0m \u001b[1;33m\u001b[0m\u001b[0m\n",
      "\u001b[1;32m~\\Anaconda3\\envs\\el-dorado\\lib\\site-packages\\matplotlib\\mathtext.py\u001b[0m in \u001b[0;36mparse\u001b[1;34m(self, s, dpi, prop, _force_standard_ps_fonts)\u001b[0m\n\u001b[0;32m    450\u001b[0m         \u001b[1;31m# mathtext.fontset rcParams also affect the parse (e.g. by affecting\u001b[0m\u001b[1;33m\u001b[0m\u001b[1;33m\u001b[0m\u001b[1;33m\u001b[0m\u001b[0m\n\u001b[0;32m    451\u001b[0m         \u001b[1;31m# the glyph metrics).\u001b[0m\u001b[1;33m\u001b[0m\u001b[1;33m\u001b[0m\u001b[1;33m\u001b[0m\u001b[0m\n\u001b[1;32m--> 452\u001b[1;33m         \u001b[1;32mreturn\u001b[0m \u001b[0mself\u001b[0m\u001b[1;33m.\u001b[0m\u001b[0m_parse_cached\u001b[0m\u001b[1;33m(\u001b[0m\u001b[0ms\u001b[0m\u001b[1;33m,\u001b[0m \u001b[0mdpi\u001b[0m\u001b[1;33m,\u001b[0m \u001b[0mprop\u001b[0m\u001b[1;33m,\u001b[0m \u001b[0m_force_standard_ps_fonts\u001b[0m\u001b[1;33m)\u001b[0m\u001b[1;33m\u001b[0m\u001b[1;33m\u001b[0m\u001b[0m\n\u001b[0m\u001b[0;32m    453\u001b[0m \u001b[1;33m\u001b[0m\u001b[0m\n\u001b[0;32m    454\u001b[0m     \u001b[1;33m@\u001b[0m\u001b[0mfunctools\u001b[0m\u001b[1;33m.\u001b[0m\u001b[0mlru_cache\u001b[0m\u001b[1;33m(\u001b[0m\u001b[1;36m50\u001b[0m\u001b[1;33m)\u001b[0m\u001b[1;33m\u001b[0m\u001b[1;33m\u001b[0m\u001b[0m\n",
      "\u001b[1;32m~\\Anaconda3\\envs\\el-dorado\\lib\\site-packages\\matplotlib\\mathtext.py\u001b[0m in \u001b[0;36m_parse_cached\u001b[1;34m(self, s, dpi, prop, force_standard_ps_fonts)\u001b[0m\n\u001b[0;32m    471\u001b[0m             \u001b[0mself\u001b[0m\u001b[1;33m.\u001b[0m\u001b[0m__class__\u001b[0m\u001b[1;33m.\u001b[0m\u001b[0m_parser\u001b[0m \u001b[1;33m=\u001b[0m \u001b[0m_mathtext\u001b[0m\u001b[1;33m.\u001b[0m\u001b[0mParser\u001b[0m\u001b[1;33m(\u001b[0m\u001b[1;33m)\u001b[0m\u001b[1;33m\u001b[0m\u001b[1;33m\u001b[0m\u001b[0m\n\u001b[0;32m    472\u001b[0m \u001b[1;33m\u001b[0m\u001b[0m\n\u001b[1;32m--> 473\u001b[1;33m         \u001b[0mbox\u001b[0m \u001b[1;33m=\u001b[0m \u001b[0mself\u001b[0m\u001b[1;33m.\u001b[0m\u001b[0m_parser\u001b[0m\u001b[1;33m.\u001b[0m\u001b[0mparse\u001b[0m\u001b[1;33m(\u001b[0m\u001b[0ms\u001b[0m\u001b[1;33m,\u001b[0m \u001b[0mfont_output\u001b[0m\u001b[1;33m,\u001b[0m \u001b[0mfontsize\u001b[0m\u001b[1;33m,\u001b[0m \u001b[0mdpi\u001b[0m\u001b[1;33m)\u001b[0m\u001b[1;33m\u001b[0m\u001b[1;33m\u001b[0m\u001b[0m\n\u001b[0m\u001b[0;32m    474\u001b[0m         \u001b[0mfont_output\u001b[0m\u001b[1;33m.\u001b[0m\u001b[0mset_canvas_size\u001b[0m\u001b[1;33m(\u001b[0m\u001b[0mbox\u001b[0m\u001b[1;33m.\u001b[0m\u001b[0mwidth\u001b[0m\u001b[1;33m,\u001b[0m \u001b[0mbox\u001b[0m\u001b[1;33m.\u001b[0m\u001b[0mheight\u001b[0m\u001b[1;33m,\u001b[0m \u001b[0mbox\u001b[0m\u001b[1;33m.\u001b[0m\u001b[0mdepth\u001b[0m\u001b[1;33m)\u001b[0m\u001b[1;33m\u001b[0m\u001b[1;33m\u001b[0m\u001b[0m\n\u001b[0;32m    475\u001b[0m         \u001b[1;32mreturn\u001b[0m \u001b[0mfont_output\u001b[0m\u001b[1;33m.\u001b[0m\u001b[0mget_results\u001b[0m\u001b[1;33m(\u001b[0m\u001b[0mbox\u001b[0m\u001b[1;33m)\u001b[0m\u001b[1;33m\u001b[0m\u001b[1;33m\u001b[0m\u001b[0m\n",
      "\u001b[1;32m~\\Anaconda3\\envs\\el-dorado\\lib\\site-packages\\matplotlib\\_mathtext.py\u001b[0m in \u001b[0;36mparse\u001b[1;34m(self, s, fonts_object, fontsize, dpi)\u001b[0m\n\u001b[0;32m   2277\u001b[0m             \u001b[0mresult\u001b[0m \u001b[1;33m=\u001b[0m \u001b[0mself\u001b[0m\u001b[1;33m.\u001b[0m\u001b[0m_expression\u001b[0m\u001b[1;33m.\u001b[0m\u001b[0mparseString\u001b[0m\u001b[1;33m(\u001b[0m\u001b[0ms\u001b[0m\u001b[1;33m)\u001b[0m\u001b[1;33m\u001b[0m\u001b[1;33m\u001b[0m\u001b[0m\n\u001b[0;32m   2278\u001b[0m         \u001b[1;32mexcept\u001b[0m \u001b[0mParseBaseException\u001b[0m \u001b[1;32mas\u001b[0m \u001b[0merr\u001b[0m\u001b[1;33m:\u001b[0m\u001b[1;33m\u001b[0m\u001b[1;33m\u001b[0m\u001b[0m\n\u001b[1;32m-> 2279\u001b[1;33m             raise ValueError(\"\\n\".join([\"\",\n\u001b[0m\u001b[0;32m   2280\u001b[0m                                         \u001b[0merr\u001b[0m\u001b[1;33m.\u001b[0m\u001b[0mline\u001b[0m\u001b[1;33m,\u001b[0m\u001b[1;33m\u001b[0m\u001b[1;33m\u001b[0m\u001b[0m\n\u001b[0;32m   2281\u001b[0m                                         \u001b[1;34m\" \"\u001b[0m \u001b[1;33m*\u001b[0m \u001b[1;33m(\u001b[0m\u001b[0merr\u001b[0m\u001b[1;33m.\u001b[0m\u001b[0mcolumn\u001b[0m \u001b[1;33m-\u001b[0m \u001b[1;36m1\u001b[0m\u001b[1;33m)\u001b[0m \u001b[1;33m+\u001b[0m \u001b[1;34m\"^\"\u001b[0m\u001b[1;33m,\u001b[0m\u001b[1;33m\u001b[0m\u001b[1;33m\u001b[0m\u001b[0m\n",
      "\u001b[1;31mValueError\u001b[0m: \nM!$$!$$!PP!\n  ^\nExpected end of text, found '$'  (at char 2), (line:1, col:3)"
     ]
    },
    {
     "data": {
      "text/plain": [
       "<Figure size 921.6x633.6 with 1 Axes>"
      ]
     },
     "metadata": {},
     "output_type": "display_data"
    },
    {
     "data": {
      "application/javascript": [
       "\n",
       "            setTimeout(function() {\n",
       "                var nbb_cell_id = 162;\n",
       "                var nbb_unformatted_code = \"train_location = train[\\\"location\\\"].value_counts()\\nsns.boxplot(data=train, x=\\\"location\\\", y=train_location)\";\n",
       "                var nbb_formatted_code = \"train_location = train[\\\"location\\\"].value_counts()\\nsns.boxplot(data=train, x=\\\"location\\\", y=train_location)\";\n",
       "                var nbb_cells = Jupyter.notebook.get_cells();\n",
       "                for (var i = 0; i < nbb_cells.length; ++i) {\n",
       "                    if (nbb_cells[i].input_prompt_number == nbb_cell_id) {\n",
       "                        if (nbb_cells[i].get_text() == nbb_unformatted_code) {\n",
       "                             nbb_cells[i].set_text(nbb_formatted_code);\n",
       "                        }\n",
       "                        break;\n",
       "                    }\n",
       "                }\n",
       "            }, 500);\n",
       "            "
      ],
      "text/plain": [
       "<IPython.core.display.Javascript object>"
      ]
     },
     "metadata": {},
     "output_type": "display_data"
    }
   ],
   "source": []
  },
  {
   "cell_type": "code",
   "execution_count": null,
   "id": "7fce3515",
   "metadata": {},
   "outputs": [],
   "source": []
  }
 ],
 "metadata": {
  "hide_input": false,
  "kernelspec": {
   "display_name": "el-dorado",
   "language": "python",
   "name": "el-dorado"
  },
  "language_info": {
   "codemirror_mode": {
    "name": "ipython",
    "version": 3
   },
   "file_extension": ".py",
   "mimetype": "text/x-python",
   "name": "python",
   "nbconvert_exporter": "python",
   "pygments_lexer": "ipython3",
   "version": "3.8.10"
  },
  "toc": {
   "base_numbering": 1,
   "nav_menu": {},
   "number_sections": true,
   "sideBar": true,
   "skip_h1_title": false,
   "title_cell": "Table of Contents",
   "title_sidebar": "Contents",
   "toc_cell": false,
   "toc_position": {},
   "toc_section_display": true,
   "toc_window_display": false
  },
  "varInspector": {
   "cols": {
    "lenName": 16,
    "lenType": 16,
    "lenVar": 40
   },
   "kernels_config": {
    "python": {
     "delete_cmd_postfix": "",
     "delete_cmd_prefix": "del ",
     "library": "var_list.py",
     "varRefreshCmd": "print(var_dic_list())"
    },
    "r": {
     "delete_cmd_postfix": ") ",
     "delete_cmd_prefix": "rm(",
     "library": "var_list.r",
     "varRefreshCmd": "cat(var_dic_list()) "
    }
   },
   "types_to_exclude": [
    "module",
    "function",
    "builtin_function_or_method",
    "instance",
    "_Feature"
   ],
   "window_display": false
  }
 },
 "nbformat": 4,
 "nbformat_minor": 5
}
